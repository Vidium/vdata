{
 "cells": [
  {
   "cell_type": "markdown",
   "source": [
    "# CSV to Vdata"
   ],
   "metadata": {
    "collapsed": false
   }
  },
  {
   "cell_type": "markdown",
   "source": [
    "## Table of content\n",
    "\n",
    "* 1-Import\n",
    "* 2 - Ensembl id is unknown\n",
    "* 3 - Proteins with at least two ensembl ids\n",
    "* 4 - Several proteins for one gene\n",
    "* 5 - Var dataframe\n",
    "* 6- raw layer\n",
    "* 7 - Mean layer\n",
    "* 8 - replicates layers\n",
    "* 9 - test VData reading"
   ],
   "metadata": {
    "collapsed": false
   }
  },
  {
   "cell_type": "markdown",
   "source": [
    "## 1- Import"
   ],
   "metadata": {
    "collapsed": false
   }
  },
  {
   "cell_type": "code",
   "execution_count": 1,
   "outputs": [],
   "source": [
    "import pandas as pd\n",
    "import vdata\n",
    "from vdata import TemporalDataFrame, VData, setLoggingLevel"
   ],
   "metadata": {
    "collapsed": false,
    "pycharm": {
     "name": "#%%\n"
    }
   }
  },
  {
   "cell_type": "markdown",
   "source": [
    "Proteomic data from the step 1"
   ],
   "metadata": {
    "collapsed": false
   }
  },
  {
   "cell_type": "code",
   "execution_count": 3,
   "outputs": [],
   "source": [
    "proteomic_df = pd.read_csv(\n",
    "    \"/home/matteo/serveur_vidium/DMD/1-ExperimentalData/Proteomic_data/steps/01-Protein_to_ENSEMBL_ID/results\"\n",
    "    \"/Proteomic_data_ENSEMBL_ID_curated.csv\",\n",
    "    sep=\",\",\n",
    "    index_col=\"id\",\n",
    ")"
   ],
   "metadata": {
    "collapsed": false,
    "pycharm": {
     "name": "#%%\n"
    }
   }
  },
  {
   "cell_type": "code",
   "execution_count": 4,
   "outputs": [
    {
     "data": {
      "text/plain": "                                       All_protein_ID  \\\nid                                                      \n0                                   Q9H0G5;A0A024QZ33   \n1   P35237;A0A2R8YD12;A0A024QZX5;A0A087X1N8;A0A2R8...   \n2                            Q00341;A0A024R4E5;H0Y394   \n3                     Q9H4M9;A0A024R571;C9JC03;C9J2Z4   \n4                        P25787;A0A024RA52;A0A7I2V2H3   \n\n                                        Protein names    Gene names  \\\nid                                                                    \n0       Nuclear speckle splicing regulatory protein 1  NSRP1;CCDC55   \n1                                           Serpin B6      SERPINB6   \n2                                             Vigilin         HDLBP   \n3                      EH domain-containing protein 1          EHD1   \n4   Proteasome subunit alpha type-2;Proteasome sub...         PSMA2   \n\n   Mol. weight [kDa]  Razor + unique peptides R1  Razor + unique peptides R2  \\\nid                                                                             \n0             66,389                           1                           2   \n1             42,621                           2                           0   \n2             141,45                          27                          23   \n3             60,626                          17                          16   \n4             25,898                           9                           8   \n\n    Razor + unique peptides R3 Unique + razor sequence coverage [%]  \\\nid                                                                    \n0                            2                                    5   \n1                            0                                  9,3   \n2                           28                                 35,1   \n3                           13                                 51,7   \n4                            7                                 35,9   \n\n   ANOVA Significant (1% BH-FDR)) ANOVA q-value  ... rawR3-WT9 rawR3-Mut9  \\\nid                                               ...                        \n0                             NaN      9,25E-01  ...     92848     112510   \n1                             NaN           NaN  ...       NaN        NaN   \n2                             NaN      1,00E+00  ...   1764200    1653100   \n3                               +      1,01E-03  ...    679770     588170   \n4                             NaN      1,00E+00  ...    459200     519630   \n\n   rawR3-WT10 rawR3-Mut10 rawR3-WT12 rawR3-Mut12 rawR3-WT14 rawR3-Mut14  \\\nid                                                                        \n0      136290      128080     118650      134610     214620      133270   \n1         NaN         NaN        NaN         NaN        NaN         NaN   \n2     1988400     1844300    1854200     1677400    2280200     2400300   \n3      776850      637960     752200      645690     848520      978810   \n4      484740      598120     485480      569490     638210      617400   \n\n                     All_ENSEMBL_ID  Main_ensembl_id  \nid                                                    \n0                   ENSG00000126653  ENSG00000126653  \n1                   ENSG00000124570  ENSG00000124570  \n2                   ENSG00000115677  ENSG00000115677  \n3                   ENSG00000110047  ENSG00000110047  \n4   ENSG00000106588;ENSG00000256646  ENSG00000106588  \n\n[5 rows x 124 columns]",
      "text/html": "<div>\n<style scoped>\n    .dataframe tbody tr th:only-of-type {\n        vertical-align: middle;\n    }\n\n    .dataframe tbody tr th {\n        vertical-align: top;\n    }\n\n    .dataframe thead th {\n        text-align: right;\n    }\n</style>\n<table border=\"1\" class=\"dataframe\">\n  <thead>\n    <tr style=\"text-align: right;\">\n      <th></th>\n      <th>All_protein_ID</th>\n      <th>Protein names</th>\n      <th>Gene names</th>\n      <th>Mol. weight [kDa]</th>\n      <th>Razor + unique peptides R1</th>\n      <th>Razor + unique peptides R2</th>\n      <th>Razor + unique peptides R3</th>\n      <th>Unique + razor sequence coverage [%]</th>\n      <th>ANOVA Significant (1% BH-FDR))</th>\n      <th>ANOVA q-value</th>\n      <th>...</th>\n      <th>rawR3-WT9</th>\n      <th>rawR3-Mut9</th>\n      <th>rawR3-WT10</th>\n      <th>rawR3-Mut10</th>\n      <th>rawR3-WT12</th>\n      <th>rawR3-Mut12</th>\n      <th>rawR3-WT14</th>\n      <th>rawR3-Mut14</th>\n      <th>All_ENSEMBL_ID</th>\n      <th>Main_ensembl_id</th>\n    </tr>\n    <tr>\n      <th>id</th>\n      <th></th>\n      <th></th>\n      <th></th>\n      <th></th>\n      <th></th>\n      <th></th>\n      <th></th>\n      <th></th>\n      <th></th>\n      <th></th>\n      <th></th>\n      <th></th>\n      <th></th>\n      <th></th>\n      <th></th>\n      <th></th>\n      <th></th>\n      <th></th>\n      <th></th>\n      <th></th>\n      <th></th>\n    </tr>\n  </thead>\n  <tbody>\n    <tr>\n      <th>0</th>\n      <td>Q9H0G5;A0A024QZ33</td>\n      <td>Nuclear speckle splicing regulatory protein 1</td>\n      <td>NSRP1;CCDC55</td>\n      <td>66,389</td>\n      <td>1</td>\n      <td>2</td>\n      <td>2</td>\n      <td>5</td>\n      <td>NaN</td>\n      <td>9,25E-01</td>\n      <td>...</td>\n      <td>92848</td>\n      <td>112510</td>\n      <td>136290</td>\n      <td>128080</td>\n      <td>118650</td>\n      <td>134610</td>\n      <td>214620</td>\n      <td>133270</td>\n      <td>ENSG00000126653</td>\n      <td>ENSG00000126653</td>\n    </tr>\n    <tr>\n      <th>1</th>\n      <td>P35237;A0A2R8YD12;A0A024QZX5;A0A087X1N8;A0A2R8...</td>\n      <td>Serpin B6</td>\n      <td>SERPINB6</td>\n      <td>42,621</td>\n      <td>2</td>\n      <td>0</td>\n      <td>0</td>\n      <td>9,3</td>\n      <td>NaN</td>\n      <td>NaN</td>\n      <td>...</td>\n      <td>NaN</td>\n      <td>NaN</td>\n      <td>NaN</td>\n      <td>NaN</td>\n      <td>NaN</td>\n      <td>NaN</td>\n      <td>NaN</td>\n      <td>NaN</td>\n      <td>ENSG00000124570</td>\n      <td>ENSG00000124570</td>\n    </tr>\n    <tr>\n      <th>2</th>\n      <td>Q00341;A0A024R4E5;H0Y394</td>\n      <td>Vigilin</td>\n      <td>HDLBP</td>\n      <td>141,45</td>\n      <td>27</td>\n      <td>23</td>\n      <td>28</td>\n      <td>35,1</td>\n      <td>NaN</td>\n      <td>1,00E+00</td>\n      <td>...</td>\n      <td>1764200</td>\n      <td>1653100</td>\n      <td>1988400</td>\n      <td>1844300</td>\n      <td>1854200</td>\n      <td>1677400</td>\n      <td>2280200</td>\n      <td>2400300</td>\n      <td>ENSG00000115677</td>\n      <td>ENSG00000115677</td>\n    </tr>\n    <tr>\n      <th>3</th>\n      <td>Q9H4M9;A0A024R571;C9JC03;C9J2Z4</td>\n      <td>EH domain-containing protein 1</td>\n      <td>EHD1</td>\n      <td>60,626</td>\n      <td>17</td>\n      <td>16</td>\n      <td>13</td>\n      <td>51,7</td>\n      <td>+</td>\n      <td>1,01E-03</td>\n      <td>...</td>\n      <td>679770</td>\n      <td>588170</td>\n      <td>776850</td>\n      <td>637960</td>\n      <td>752200</td>\n      <td>645690</td>\n      <td>848520</td>\n      <td>978810</td>\n      <td>ENSG00000110047</td>\n      <td>ENSG00000110047</td>\n    </tr>\n    <tr>\n      <th>4</th>\n      <td>P25787;A0A024RA52;A0A7I2V2H3</td>\n      <td>Proteasome subunit alpha type-2;Proteasome sub...</td>\n      <td>PSMA2</td>\n      <td>25,898</td>\n      <td>9</td>\n      <td>8</td>\n      <td>7</td>\n      <td>35,9</td>\n      <td>NaN</td>\n      <td>1,00E+00</td>\n      <td>...</td>\n      <td>459200</td>\n      <td>519630</td>\n      <td>484740</td>\n      <td>598120</td>\n      <td>485480</td>\n      <td>569490</td>\n      <td>638210</td>\n      <td>617400</td>\n      <td>ENSG00000106588;ENSG00000256646</td>\n      <td>ENSG00000106588</td>\n    </tr>\n  </tbody>\n</table>\n<p>5 rows × 124 columns</p>\n</div>"
     },
     "execution_count": 4,
     "metadata": {},
     "output_type": "execute_result"
    }
   ],
   "source": [
    "proteomic_df.head()"
   ],
   "metadata": {
    "collapsed": false,
    "pycharm": {
     "name": "#%%\n"
    }
   }
  },
  {
   "cell_type": "markdown",
   "source": [
    "We only keep raw count data."
   ],
   "metadata": {
    "collapsed": false
   }
  },
  {
   "cell_type": "code",
   "execution_count": 5,
   "outputs": [
    {
     "data": {
      "text/plain": "      Gene names  rawR1-WT5  rawR1-Mut5  rawR1-WT6  rawR1-Mut6  rawR1-WT7  \\\nid                                                                          \n0   NSRP1;CCDC55   112150.0    100250.0   102800.0    115760.0    93172.0   \n1       SERPINB6    40426.0     34249.0    44000.0     43406.0    33604.0   \n2          HDLBP  1351100.0   1226800.0  1524000.0   1585600.0  1331200.0   \n3           EHD1   554030.0    553380.0   627240.0    689730.0   628120.0   \n4          PSMA2   632690.0    614100.0   690080.0    727490.0   587610.0   \n\n    rawR1-Mut7  rawR1-WT8  rawR1-Mut8  rawR1-WT9  ...  rawR3-Mut8  rawR3-WT9  \\\nid                                                ...                          \n0     115860.0   105610.0    106860.0    94802.0  ...     96349.0    92848.0   \n1      38418.0    42710.0     39058.0    43591.0  ...         NaN        NaN   \n2    1535400.0  1618700.0   1366300.0  1442700.0  ...   1697200.0  1764200.0   \n3     708150.0   795010.0    671280.0   783310.0  ...    590670.0   679770.0   \n4     731020.0   662280.0    687820.0   592640.0  ...    540440.0   459200.0   \n\n    rawR3-Mut9  rawR3-WT10  rawR3-Mut10  rawR3-WT12  rawR3-Mut12  rawR3-WT14  \\\nid                                                                             \n0     112510.0    136290.0     128080.0    118650.0     134610.0    214620.0   \n1          NaN         NaN          NaN         NaN          NaN         NaN   \n2    1653100.0   1988400.0    1844300.0   1854200.0    1677400.0   2280200.0   \n3     588170.0    776850.0     637960.0    752200.0     645690.0    848520.0   \n4     519630.0    484740.0     598120.0    485480.0     569490.0    638210.0   \n\n    rawR3-Mut14  Main_ensembl_id  \nid                                \n0      133270.0  ENSG00000126653  \n1           NaN  ENSG00000124570  \n2     2400300.0  ENSG00000115677  \n3      978810.0  ENSG00000110047  \n4      617400.0  ENSG00000106588  \n\n[5 rows x 50 columns]",
      "text/html": "<div>\n<style scoped>\n    .dataframe tbody tr th:only-of-type {\n        vertical-align: middle;\n    }\n\n    .dataframe tbody tr th {\n        vertical-align: top;\n    }\n\n    .dataframe thead th {\n        text-align: right;\n    }\n</style>\n<table border=\"1\" class=\"dataframe\">\n  <thead>\n    <tr style=\"text-align: right;\">\n      <th></th>\n      <th>Gene names</th>\n      <th>rawR1-WT5</th>\n      <th>rawR1-Mut5</th>\n      <th>rawR1-WT6</th>\n      <th>rawR1-Mut6</th>\n      <th>rawR1-WT7</th>\n      <th>rawR1-Mut7</th>\n      <th>rawR1-WT8</th>\n      <th>rawR1-Mut8</th>\n      <th>rawR1-WT9</th>\n      <th>...</th>\n      <th>rawR3-Mut8</th>\n      <th>rawR3-WT9</th>\n      <th>rawR3-Mut9</th>\n      <th>rawR3-WT10</th>\n      <th>rawR3-Mut10</th>\n      <th>rawR3-WT12</th>\n      <th>rawR3-Mut12</th>\n      <th>rawR3-WT14</th>\n      <th>rawR3-Mut14</th>\n      <th>Main_ensembl_id</th>\n    </tr>\n    <tr>\n      <th>id</th>\n      <th></th>\n      <th></th>\n      <th></th>\n      <th></th>\n      <th></th>\n      <th></th>\n      <th></th>\n      <th></th>\n      <th></th>\n      <th></th>\n      <th></th>\n      <th></th>\n      <th></th>\n      <th></th>\n      <th></th>\n      <th></th>\n      <th></th>\n      <th></th>\n      <th></th>\n      <th></th>\n      <th></th>\n    </tr>\n  </thead>\n  <tbody>\n    <tr>\n      <th>0</th>\n      <td>NSRP1;CCDC55</td>\n      <td>112150.0</td>\n      <td>100250.0</td>\n      <td>102800.0</td>\n      <td>115760.0</td>\n      <td>93172.0</td>\n      <td>115860.0</td>\n      <td>105610.0</td>\n      <td>106860.0</td>\n      <td>94802.0</td>\n      <td>...</td>\n      <td>96349.0</td>\n      <td>92848.0</td>\n      <td>112510.0</td>\n      <td>136290.0</td>\n      <td>128080.0</td>\n      <td>118650.0</td>\n      <td>134610.0</td>\n      <td>214620.0</td>\n      <td>133270.0</td>\n      <td>ENSG00000126653</td>\n    </tr>\n    <tr>\n      <th>1</th>\n      <td>SERPINB6</td>\n      <td>40426.0</td>\n      <td>34249.0</td>\n      <td>44000.0</td>\n      <td>43406.0</td>\n      <td>33604.0</td>\n      <td>38418.0</td>\n      <td>42710.0</td>\n      <td>39058.0</td>\n      <td>43591.0</td>\n      <td>...</td>\n      <td>NaN</td>\n      <td>NaN</td>\n      <td>NaN</td>\n      <td>NaN</td>\n      <td>NaN</td>\n      <td>NaN</td>\n      <td>NaN</td>\n      <td>NaN</td>\n      <td>NaN</td>\n      <td>ENSG00000124570</td>\n    </tr>\n    <tr>\n      <th>2</th>\n      <td>HDLBP</td>\n      <td>1351100.0</td>\n      <td>1226800.0</td>\n      <td>1524000.0</td>\n      <td>1585600.0</td>\n      <td>1331200.0</td>\n      <td>1535400.0</td>\n      <td>1618700.0</td>\n      <td>1366300.0</td>\n      <td>1442700.0</td>\n      <td>...</td>\n      <td>1697200.0</td>\n      <td>1764200.0</td>\n      <td>1653100.0</td>\n      <td>1988400.0</td>\n      <td>1844300.0</td>\n      <td>1854200.0</td>\n      <td>1677400.0</td>\n      <td>2280200.0</td>\n      <td>2400300.0</td>\n      <td>ENSG00000115677</td>\n    </tr>\n    <tr>\n      <th>3</th>\n      <td>EHD1</td>\n      <td>554030.0</td>\n      <td>553380.0</td>\n      <td>627240.0</td>\n      <td>689730.0</td>\n      <td>628120.0</td>\n      <td>708150.0</td>\n      <td>795010.0</td>\n      <td>671280.0</td>\n      <td>783310.0</td>\n      <td>...</td>\n      <td>590670.0</td>\n      <td>679770.0</td>\n      <td>588170.0</td>\n      <td>776850.0</td>\n      <td>637960.0</td>\n      <td>752200.0</td>\n      <td>645690.0</td>\n      <td>848520.0</td>\n      <td>978810.0</td>\n      <td>ENSG00000110047</td>\n    </tr>\n    <tr>\n      <th>4</th>\n      <td>PSMA2</td>\n      <td>632690.0</td>\n      <td>614100.0</td>\n      <td>690080.0</td>\n      <td>727490.0</td>\n      <td>587610.0</td>\n      <td>731020.0</td>\n      <td>662280.0</td>\n      <td>687820.0</td>\n      <td>592640.0</td>\n      <td>...</td>\n      <td>540440.0</td>\n      <td>459200.0</td>\n      <td>519630.0</td>\n      <td>484740.0</td>\n      <td>598120.0</td>\n      <td>485480.0</td>\n      <td>569490.0</td>\n      <td>638210.0</td>\n      <td>617400.0</td>\n      <td>ENSG00000106588</td>\n    </tr>\n  </tbody>\n</table>\n<p>5 rows × 50 columns</p>\n</div>"
     },
     "execution_count": 5,
     "metadata": {},
     "output_type": "execute_result"
    }
   ],
   "source": [
    "proteomic_df = proteomic_df[\n",
    "    proteomic_df.columns[\n",
    "        ((proteomic_df.columns.str[0:3] == \"raw\") == True)\n",
    "        | ((proteomic_df.columns.str[:] == \"Main_ensembl_id\") == True)\n",
    "        | ((proteomic_df.columns.str[:] == \"Gene names\") == True)\n",
    "    ]\n",
    "]\n",
    "proteomic_df = proteomic_df.apply(lambda x: x.str.replace(\",\", \".\"))\n",
    "proteomic_df[\n",
    "    proteomic_df.columns[(proteomic_df.columns.str[0:3] == \"raw\") == True]\n",
    "] = proteomic_df[\n",
    "    proteomic_df.columns[(proteomic_df.columns.str[0:3] == \"raw\") == True].tolist()\n",
    "].astype(\n",
    "    float\n",
    ")\n",
    "\n",
    "proteomic_df.head()"
   ],
   "metadata": {
    "collapsed": false,
    "pycharm": {
     "name": "#%%\n"
    }
   }
  },
  {
   "cell_type": "code",
   "execution_count": 6,
   "outputs": [],
   "source": [
    "proteomic_df = proteomic_df.rename(\n",
    "    columns={\n",
    "        \"rawR1-Mut14\": \"rawR1-WT14\",\n",
    "        \"rawR2-Mut14\": \"rawR2-WT14\",\n",
    "        \"rawR3-Mut14\": \"rawR3-WT14\",\n",
    "        \"rawR1-WT14\": \"rawR1-Mut14\",\n",
    "        \"rawR2-WT14\": \"rawR2-Mut14\",\n",
    "        \"rawR3-WT14\": \"rawR3-Mut14\",\n",
    "    }\n",
    ")"
   ],
   "metadata": {
    "collapsed": false,
    "pycharm": {
     "name": "#%%\n"
    }
   }
  },
  {
   "cell_type": "markdown",
   "source": [
    "There are few ambiguous cases :\n",
    "- One row (so one protein ) could have several gene names and ensembl ids. In this cases we think that we can't trust the protein identification, so we remove rows.\n",
    "- Several proteins can share one gene in common. As our analysis are focus on gene level, we chose to add counts of proteins sharing sames genes.\n",
    "- The ensembl id is unknown\n"
   ],
   "metadata": {
    "collapsed": false
   }
  },
  {
   "cell_type": "markdown",
   "source": [
    "### 2 - Ensembl id is unknown"
   ],
   "metadata": {
    "collapsed": false
   }
  },
  {
   "cell_type": "markdown",
   "source": [
    "For these 3 genes the main ensembl id (based on hgnc is unknown), we removes rows"
   ],
   "metadata": {
    "collapsed": false
   }
  },
  {
   "cell_type": "code",
   "execution_count": 7,
   "outputs": [
    {
     "data": {
      "text/plain": "        Gene names  rawR1-WT5  rawR1-Mut5  rawR1-WT6  rawR1-Mut6  rawR1-WT7  \\\nid                                                                            \n422   HLA-C;HLA-Cw    25236.0     34094.0    22327.0     37721.0    19715.0   \n423          HLA-A    96311.0     48499.0    99515.0     56060.0    85684.0   \n5548         L1RE1    11675.0      8410.5    11608.0     12965.0     8512.3   \n\n      rawR1-Mut7  rawR1-WT8  rawR1-Mut8  rawR1-WT9  ...  rawR3-Mut8  \\\nid                                                  ...               \n422      32602.0    28897.0     31499.0    23572.0  ...     24989.0   \n423      54221.0    97329.0     55649.0    89772.0  ...     36288.0   \n5548     11197.0    10573.0     11944.0    11624.0  ...     10395.0   \n\n      rawR3-WT9  rawR3-Mut9  rawR3-WT10  rawR3-Mut10  rawR3-WT12  rawR3-Mut12  \\\nid                                                                              \n422     20656.0     26159.0     24164.0      30933.0     24456.0      26834.0   \n423     66538.0     35510.0     78042.0      45924.0     72245.0      43213.0   \n5548    13198.0     11408.0     14920.0      12642.0     14824.0      14101.0   \n\n      rawR3-Mut14  rawR3-WT14  Main_ensembl_id  \nid                                              \n422       42252.0     26472.0              NaN  \n423       61664.0     84730.0              NaN  \n5548      18759.0     17082.0              NaN  \n\n[3 rows x 50 columns]",
      "text/html": "<div>\n<style scoped>\n    .dataframe tbody tr th:only-of-type {\n        vertical-align: middle;\n    }\n\n    .dataframe tbody tr th {\n        vertical-align: top;\n    }\n\n    .dataframe thead th {\n        text-align: right;\n    }\n</style>\n<table border=\"1\" class=\"dataframe\">\n  <thead>\n    <tr style=\"text-align: right;\">\n      <th></th>\n      <th>Gene names</th>\n      <th>rawR1-WT5</th>\n      <th>rawR1-Mut5</th>\n      <th>rawR1-WT6</th>\n      <th>rawR1-Mut6</th>\n      <th>rawR1-WT7</th>\n      <th>rawR1-Mut7</th>\n      <th>rawR1-WT8</th>\n      <th>rawR1-Mut8</th>\n      <th>rawR1-WT9</th>\n      <th>...</th>\n      <th>rawR3-Mut8</th>\n      <th>rawR3-WT9</th>\n      <th>rawR3-Mut9</th>\n      <th>rawR3-WT10</th>\n      <th>rawR3-Mut10</th>\n      <th>rawR3-WT12</th>\n      <th>rawR3-Mut12</th>\n      <th>rawR3-Mut14</th>\n      <th>rawR3-WT14</th>\n      <th>Main_ensembl_id</th>\n    </tr>\n    <tr>\n      <th>id</th>\n      <th></th>\n      <th></th>\n      <th></th>\n      <th></th>\n      <th></th>\n      <th></th>\n      <th></th>\n      <th></th>\n      <th></th>\n      <th></th>\n      <th></th>\n      <th></th>\n      <th></th>\n      <th></th>\n      <th></th>\n      <th></th>\n      <th></th>\n      <th></th>\n      <th></th>\n      <th></th>\n      <th></th>\n    </tr>\n  </thead>\n  <tbody>\n    <tr>\n      <th>422</th>\n      <td>HLA-C;HLA-Cw</td>\n      <td>25236.0</td>\n      <td>34094.0</td>\n      <td>22327.0</td>\n      <td>37721.0</td>\n      <td>19715.0</td>\n      <td>32602.0</td>\n      <td>28897.0</td>\n      <td>31499.0</td>\n      <td>23572.0</td>\n      <td>...</td>\n      <td>24989.0</td>\n      <td>20656.0</td>\n      <td>26159.0</td>\n      <td>24164.0</td>\n      <td>30933.0</td>\n      <td>24456.0</td>\n      <td>26834.0</td>\n      <td>42252.0</td>\n      <td>26472.0</td>\n      <td>NaN</td>\n    </tr>\n    <tr>\n      <th>423</th>\n      <td>HLA-A</td>\n      <td>96311.0</td>\n      <td>48499.0</td>\n      <td>99515.0</td>\n      <td>56060.0</td>\n      <td>85684.0</td>\n      <td>54221.0</td>\n      <td>97329.0</td>\n      <td>55649.0</td>\n      <td>89772.0</td>\n      <td>...</td>\n      <td>36288.0</td>\n      <td>66538.0</td>\n      <td>35510.0</td>\n      <td>78042.0</td>\n      <td>45924.0</td>\n      <td>72245.0</td>\n      <td>43213.0</td>\n      <td>61664.0</td>\n      <td>84730.0</td>\n      <td>NaN</td>\n    </tr>\n    <tr>\n      <th>5548</th>\n      <td>L1RE1</td>\n      <td>11675.0</td>\n      <td>8410.5</td>\n      <td>11608.0</td>\n      <td>12965.0</td>\n      <td>8512.3</td>\n      <td>11197.0</td>\n      <td>10573.0</td>\n      <td>11944.0</td>\n      <td>11624.0</td>\n      <td>...</td>\n      <td>10395.0</td>\n      <td>13198.0</td>\n      <td>11408.0</td>\n      <td>14920.0</td>\n      <td>12642.0</td>\n      <td>14824.0</td>\n      <td>14101.0</td>\n      <td>18759.0</td>\n      <td>17082.0</td>\n      <td>NaN</td>\n    </tr>\n  </tbody>\n</table>\n<p>3 rows × 50 columns</p>\n</div>"
     },
     "execution_count": 7,
     "metadata": {},
     "output_type": "execute_result"
    }
   ],
   "source": [
    "proteomic_df[proteomic_df.Main_ensembl_id.isna() == True]"
   ],
   "metadata": {
    "collapsed": false,
    "pycharm": {
     "name": "#%%\n"
    }
   }
  },
  {
   "cell_type": "code",
   "execution_count": 8,
   "outputs": [
    {
     "data": {
      "text/plain": "            Gene names  rawR1-WT5  rawR1-Mut5  rawR1-WT6  rawR1-Mut6  \\\nid                                                                     \n0         NSRP1;CCDC55   112150.0    100250.0   102800.0    115760.0   \n1             SERPINB6    40426.0     34249.0    44000.0     43406.0   \n2                HDLBP  1351100.0   1226800.0  1524000.0   1585600.0   \n3                 EHD1   554030.0    553380.0   627240.0    689730.0   \n4                PSMA2   632690.0    614100.0   690080.0    727490.0   \n...                ...        ...         ...        ...         ...   \n5738          IVNS1ABP    95734.0    117470.0   105900.0    138760.0   \n5739           SEC23IP   690970.0    678470.0   754330.0    835280.0   \n5740  COMMD3-BMI1;BMI1    74062.0     73028.0    77998.0     80546.0   \n5819             NOLC1    22587.0     24340.0    24021.0     28617.0   \n5820            USP6NL        NaN         NaN        NaN         NaN   \n\n      rawR1-WT7  rawR1-Mut7  rawR1-WT8  rawR1-Mut8  rawR1-WT9  ...  \\\nid                                                             ...   \n0       93172.0    115860.0   105610.0    106860.0    94802.0  ...   \n1       33604.0     38418.0    42710.0     39058.0    43591.0  ...   \n2     1331200.0   1535400.0  1618700.0   1366300.0  1442700.0  ...   \n3      628120.0    708150.0   795010.0    671280.0   783310.0  ...   \n4      587610.0    731020.0   662280.0    687820.0   592640.0  ...   \n...         ...         ...        ...         ...        ...  ...   \n5738    85028.0    106300.0   105030.0    101820.0    76005.0  ...   \n5739   635770.0    770690.0   737600.0    692510.0   689790.0  ...   \n5740    69430.0     86929.0    85239.0     79020.0    81838.0  ...   \n5819    23234.0     28480.0    22604.0     26211.0    23737.0  ...   \n5820        NaN         NaN        NaN         NaN        NaN  ...   \n\n      rawR3-Mut8  rawR3-WT9  rawR3-Mut9  rawR3-WT10  rawR3-Mut10  rawR3-WT12  \\\nid                                                                             \n0        96349.0    92848.0    112510.0    136290.0     128080.0    118650.0   \n1            NaN        NaN         NaN         NaN          NaN         NaN   \n2      1697200.0  1764200.0   1653100.0   1988400.0    1844300.0   1854200.0   \n3       590670.0   679770.0    588170.0    776850.0     637960.0    752200.0   \n4       540440.0   459200.0    519630.0    484740.0     598120.0    485480.0   \n...          ...        ...         ...         ...          ...         ...   \n5738    103620.0    79397.0    108470.0     91254.0     120470.0     81211.0   \n5739    637280.0   583910.0    642950.0    749620.0     735570.0    692760.0   \n5740    106750.0   102060.0    120740.0    154340.0     135800.0    136330.0   \n5819     11943.0    11628.0     12508.0     15604.0      13009.0     13679.0   \n5820     20682.0    20600.0     18146.0     20911.0      20950.0     17867.0   \n\n      rawR3-Mut12  rawR3-Mut14  rawR3-WT14                  Main_ensembl_id  \nid                                                                           \n0        134610.0     214620.0    133270.0                  ENSG00000126653  \n1             NaN          NaN         NaN                  ENSG00000124570  \n2       1677400.0    2280200.0   2400300.0                  ENSG00000115677  \n3        645690.0     848520.0    978810.0                  ENSG00000110047  \n4        569490.0     638210.0    617400.0                  ENSG00000106588  \n...           ...          ...         ...                              ...  \n5738     115940.0     129670.0     93933.0                  ENSG00000116679  \n5739     730010.0    1019000.0    851350.0                  ENSG00000107651  \n5740     139650.0     209550.0    147950.0  ENSG00000269897;ENSG00000168283  \n5819      13382.0      18198.0     13243.0                  ENSG00000166197  \n5820      19945.0      23489.0     23225.0                  ENSG00000148429  \n\n[5632 rows x 50 columns]",
      "text/html": "<div>\n<style scoped>\n    .dataframe tbody tr th:only-of-type {\n        vertical-align: middle;\n    }\n\n    .dataframe tbody tr th {\n        vertical-align: top;\n    }\n\n    .dataframe thead th {\n        text-align: right;\n    }\n</style>\n<table border=\"1\" class=\"dataframe\">\n  <thead>\n    <tr style=\"text-align: right;\">\n      <th></th>\n      <th>Gene names</th>\n      <th>rawR1-WT5</th>\n      <th>rawR1-Mut5</th>\n      <th>rawR1-WT6</th>\n      <th>rawR1-Mut6</th>\n      <th>rawR1-WT7</th>\n      <th>rawR1-Mut7</th>\n      <th>rawR1-WT8</th>\n      <th>rawR1-Mut8</th>\n      <th>rawR1-WT9</th>\n      <th>...</th>\n      <th>rawR3-Mut8</th>\n      <th>rawR3-WT9</th>\n      <th>rawR3-Mut9</th>\n      <th>rawR3-WT10</th>\n      <th>rawR3-Mut10</th>\n      <th>rawR3-WT12</th>\n      <th>rawR3-Mut12</th>\n      <th>rawR3-Mut14</th>\n      <th>rawR3-WT14</th>\n      <th>Main_ensembl_id</th>\n    </tr>\n    <tr>\n      <th>id</th>\n      <th></th>\n      <th></th>\n      <th></th>\n      <th></th>\n      <th></th>\n      <th></th>\n      <th></th>\n      <th></th>\n      <th></th>\n      <th></th>\n      <th></th>\n      <th></th>\n      <th></th>\n      <th></th>\n      <th></th>\n      <th></th>\n      <th></th>\n      <th></th>\n      <th></th>\n      <th></th>\n      <th></th>\n    </tr>\n  </thead>\n  <tbody>\n    <tr>\n      <th>0</th>\n      <td>NSRP1;CCDC55</td>\n      <td>112150.0</td>\n      <td>100250.0</td>\n      <td>102800.0</td>\n      <td>115760.0</td>\n      <td>93172.0</td>\n      <td>115860.0</td>\n      <td>105610.0</td>\n      <td>106860.0</td>\n      <td>94802.0</td>\n      <td>...</td>\n      <td>96349.0</td>\n      <td>92848.0</td>\n      <td>112510.0</td>\n      <td>136290.0</td>\n      <td>128080.0</td>\n      <td>118650.0</td>\n      <td>134610.0</td>\n      <td>214620.0</td>\n      <td>133270.0</td>\n      <td>ENSG00000126653</td>\n    </tr>\n    <tr>\n      <th>1</th>\n      <td>SERPINB6</td>\n      <td>40426.0</td>\n      <td>34249.0</td>\n      <td>44000.0</td>\n      <td>43406.0</td>\n      <td>33604.0</td>\n      <td>38418.0</td>\n      <td>42710.0</td>\n      <td>39058.0</td>\n      <td>43591.0</td>\n      <td>...</td>\n      <td>NaN</td>\n      <td>NaN</td>\n      <td>NaN</td>\n      <td>NaN</td>\n      <td>NaN</td>\n      <td>NaN</td>\n      <td>NaN</td>\n      <td>NaN</td>\n      <td>NaN</td>\n      <td>ENSG00000124570</td>\n    </tr>\n    <tr>\n      <th>2</th>\n      <td>HDLBP</td>\n      <td>1351100.0</td>\n      <td>1226800.0</td>\n      <td>1524000.0</td>\n      <td>1585600.0</td>\n      <td>1331200.0</td>\n      <td>1535400.0</td>\n      <td>1618700.0</td>\n      <td>1366300.0</td>\n      <td>1442700.0</td>\n      <td>...</td>\n      <td>1697200.0</td>\n      <td>1764200.0</td>\n      <td>1653100.0</td>\n      <td>1988400.0</td>\n      <td>1844300.0</td>\n      <td>1854200.0</td>\n      <td>1677400.0</td>\n      <td>2280200.0</td>\n      <td>2400300.0</td>\n      <td>ENSG00000115677</td>\n    </tr>\n    <tr>\n      <th>3</th>\n      <td>EHD1</td>\n      <td>554030.0</td>\n      <td>553380.0</td>\n      <td>627240.0</td>\n      <td>689730.0</td>\n      <td>628120.0</td>\n      <td>708150.0</td>\n      <td>795010.0</td>\n      <td>671280.0</td>\n      <td>783310.0</td>\n      <td>...</td>\n      <td>590670.0</td>\n      <td>679770.0</td>\n      <td>588170.0</td>\n      <td>776850.0</td>\n      <td>637960.0</td>\n      <td>752200.0</td>\n      <td>645690.0</td>\n      <td>848520.0</td>\n      <td>978810.0</td>\n      <td>ENSG00000110047</td>\n    </tr>\n    <tr>\n      <th>4</th>\n      <td>PSMA2</td>\n      <td>632690.0</td>\n      <td>614100.0</td>\n      <td>690080.0</td>\n      <td>727490.0</td>\n      <td>587610.0</td>\n      <td>731020.0</td>\n      <td>662280.0</td>\n      <td>687820.0</td>\n      <td>592640.0</td>\n      <td>...</td>\n      <td>540440.0</td>\n      <td>459200.0</td>\n      <td>519630.0</td>\n      <td>484740.0</td>\n      <td>598120.0</td>\n      <td>485480.0</td>\n      <td>569490.0</td>\n      <td>638210.0</td>\n      <td>617400.0</td>\n      <td>ENSG00000106588</td>\n    </tr>\n    <tr>\n      <th>...</th>\n      <td>...</td>\n      <td>...</td>\n      <td>...</td>\n      <td>...</td>\n      <td>...</td>\n      <td>...</td>\n      <td>...</td>\n      <td>...</td>\n      <td>...</td>\n      <td>...</td>\n      <td>...</td>\n      <td>...</td>\n      <td>...</td>\n      <td>...</td>\n      <td>...</td>\n      <td>...</td>\n      <td>...</td>\n      <td>...</td>\n      <td>...</td>\n      <td>...</td>\n      <td>...</td>\n    </tr>\n    <tr>\n      <th>5738</th>\n      <td>IVNS1ABP</td>\n      <td>95734.0</td>\n      <td>117470.0</td>\n      <td>105900.0</td>\n      <td>138760.0</td>\n      <td>85028.0</td>\n      <td>106300.0</td>\n      <td>105030.0</td>\n      <td>101820.0</td>\n      <td>76005.0</td>\n      <td>...</td>\n      <td>103620.0</td>\n      <td>79397.0</td>\n      <td>108470.0</td>\n      <td>91254.0</td>\n      <td>120470.0</td>\n      <td>81211.0</td>\n      <td>115940.0</td>\n      <td>129670.0</td>\n      <td>93933.0</td>\n      <td>ENSG00000116679</td>\n    </tr>\n    <tr>\n      <th>5739</th>\n      <td>SEC23IP</td>\n      <td>690970.0</td>\n      <td>678470.0</td>\n      <td>754330.0</td>\n      <td>835280.0</td>\n      <td>635770.0</td>\n      <td>770690.0</td>\n      <td>737600.0</td>\n      <td>692510.0</td>\n      <td>689790.0</td>\n      <td>...</td>\n      <td>637280.0</td>\n      <td>583910.0</td>\n      <td>642950.0</td>\n      <td>749620.0</td>\n      <td>735570.0</td>\n      <td>692760.0</td>\n      <td>730010.0</td>\n      <td>1019000.0</td>\n      <td>851350.0</td>\n      <td>ENSG00000107651</td>\n    </tr>\n    <tr>\n      <th>5740</th>\n      <td>COMMD3-BMI1;BMI1</td>\n      <td>74062.0</td>\n      <td>73028.0</td>\n      <td>77998.0</td>\n      <td>80546.0</td>\n      <td>69430.0</td>\n      <td>86929.0</td>\n      <td>85239.0</td>\n      <td>79020.0</td>\n      <td>81838.0</td>\n      <td>...</td>\n      <td>106750.0</td>\n      <td>102060.0</td>\n      <td>120740.0</td>\n      <td>154340.0</td>\n      <td>135800.0</td>\n      <td>136330.0</td>\n      <td>139650.0</td>\n      <td>209550.0</td>\n      <td>147950.0</td>\n      <td>ENSG00000269897;ENSG00000168283</td>\n    </tr>\n    <tr>\n      <th>5819</th>\n      <td>NOLC1</td>\n      <td>22587.0</td>\n      <td>24340.0</td>\n      <td>24021.0</td>\n      <td>28617.0</td>\n      <td>23234.0</td>\n      <td>28480.0</td>\n      <td>22604.0</td>\n      <td>26211.0</td>\n      <td>23737.0</td>\n      <td>...</td>\n      <td>11943.0</td>\n      <td>11628.0</td>\n      <td>12508.0</td>\n      <td>15604.0</td>\n      <td>13009.0</td>\n      <td>13679.0</td>\n      <td>13382.0</td>\n      <td>18198.0</td>\n      <td>13243.0</td>\n      <td>ENSG00000166197</td>\n    </tr>\n    <tr>\n      <th>5820</th>\n      <td>USP6NL</td>\n      <td>NaN</td>\n      <td>NaN</td>\n      <td>NaN</td>\n      <td>NaN</td>\n      <td>NaN</td>\n      <td>NaN</td>\n      <td>NaN</td>\n      <td>NaN</td>\n      <td>NaN</td>\n      <td>...</td>\n      <td>20682.0</td>\n      <td>20600.0</td>\n      <td>18146.0</td>\n      <td>20911.0</td>\n      <td>20950.0</td>\n      <td>17867.0</td>\n      <td>19945.0</td>\n      <td>23489.0</td>\n      <td>23225.0</td>\n      <td>ENSG00000148429</td>\n    </tr>\n  </tbody>\n</table>\n<p>5632 rows × 50 columns</p>\n</div>"
     },
     "execution_count": 8,
     "metadata": {},
     "output_type": "execute_result"
    }
   ],
   "source": [
    "proteomic_df = proteomic_df[proteomic_df.Main_ensembl_id.isna() == False]\n",
    "proteomic_df"
   ],
   "metadata": {
    "collapsed": false,
    "pycharm": {
     "name": "#%%\n"
    }
   }
  },
  {
   "cell_type": "markdown",
   "source": [
    "## 3 - Proteins with at least two ensembl ids\n",
    "We think we cannot distinguish proteins with the proteomic experiment and aren't confident. So we remove these rows."
   ],
   "metadata": {
    "collapsed": false
   }
  },
  {
   "cell_type": "code",
   "execution_count": 9,
   "outputs": [
    {
     "data": {
      "text/plain": "                      Main_ensembl_id\nid                                   \n0                     ENSG00000126653\n1                     ENSG00000124570\n2                     ENSG00000115677\n3                     ENSG00000110047\n4                     ENSG00000106588\n...                               ...\n5738                  ENSG00000116679\n5739                  ENSG00000107651\n5740  ENSG00000269897;ENSG00000168283\n5819                  ENSG00000166197\n5820                  ENSG00000148429\n\n[5632 rows x 1 columns]",
      "text/html": "<div>\n<style scoped>\n    .dataframe tbody tr th:only-of-type {\n        vertical-align: middle;\n    }\n\n    .dataframe tbody tr th {\n        vertical-align: top;\n    }\n\n    .dataframe thead th {\n        text-align: right;\n    }\n</style>\n<table border=\"1\" class=\"dataframe\">\n  <thead>\n    <tr style=\"text-align: right;\">\n      <th></th>\n      <th>Main_ensembl_id</th>\n    </tr>\n    <tr>\n      <th>id</th>\n      <th></th>\n    </tr>\n  </thead>\n  <tbody>\n    <tr>\n      <th>0</th>\n      <td>ENSG00000126653</td>\n    </tr>\n    <tr>\n      <th>1</th>\n      <td>ENSG00000124570</td>\n    </tr>\n    <tr>\n      <th>2</th>\n      <td>ENSG00000115677</td>\n    </tr>\n    <tr>\n      <th>3</th>\n      <td>ENSG00000110047</td>\n    </tr>\n    <tr>\n      <th>4</th>\n      <td>ENSG00000106588</td>\n    </tr>\n    <tr>\n      <th>...</th>\n      <td>...</td>\n    </tr>\n    <tr>\n      <th>5738</th>\n      <td>ENSG00000116679</td>\n    </tr>\n    <tr>\n      <th>5739</th>\n      <td>ENSG00000107651</td>\n    </tr>\n    <tr>\n      <th>5740</th>\n      <td>ENSG00000269897;ENSG00000168283</td>\n    </tr>\n    <tr>\n      <th>5819</th>\n      <td>ENSG00000166197</td>\n    </tr>\n    <tr>\n      <th>5820</th>\n      <td>ENSG00000148429</td>\n    </tr>\n  </tbody>\n</table>\n<p>5632 rows × 1 columns</p>\n</div>"
     },
     "execution_count": 9,
     "metadata": {},
     "output_type": "execute_result"
    }
   ],
   "source": [
    "proteomic_gene_df = proteomic_df[[\"Main_ensembl_id\"]].astype(str)\n",
    "proteomic_gene_df"
   ],
   "metadata": {
    "collapsed": false,
    "pycharm": {
     "name": "#%%\n"
    }
   }
  },
  {
   "cell_type": "markdown",
   "source": [
    "We want to check if genes with multiple ensembl ids have multiple gene names"
   ],
   "metadata": {
    "collapsed": false
   }
  },
  {
   "cell_type": "code",
   "execution_count": 10,
   "outputs": [],
   "source": [
    "def check_multi_gene(row, list_multi_gene_prot, name_col):\n",
    "    list_gene = row[name_col].split(\";\")\n",
    "    if len(list_gene) > 1:\n",
    "        list_multi_gene_prot.append(row.id)\n",
    "    return"
   ],
   "metadata": {
    "collapsed": false,
    "pycharm": {
     "name": "#%%\n"
    }
   }
  },
  {
   "cell_type": "code",
   "execution_count": 11,
   "outputs": [
    {
     "data": {
      "text/plain": "218"
     },
     "execution_count": 11,
     "metadata": {},
     "output_type": "execute_result"
    }
   ],
   "source": [
    "list_multi_ensembl = []\n",
    "proteomic_gene_df.reset_index().apply(\n",
    "    lambda row: check_multi_gene(row, list_multi_ensembl, \"Main_ensembl_id\"), axis=1\n",
    ")\n",
    "len(list_multi_ensembl)"
   ],
   "metadata": {
    "collapsed": false,
    "pycharm": {
     "name": "#%%\n"
    }
   }
  },
  {
   "cell_type": "markdown",
   "source": [
    "There are 218 proteins with at least two ensembl id"
   ],
   "metadata": {
    "collapsed": false
   }
  },
  {
   "cell_type": "code",
   "execution_count": 12,
   "outputs": [
    {
     "data": {
      "text/plain": "264"
     },
     "execution_count": 12,
     "metadata": {},
     "output_type": "execute_result"
    }
   ],
   "source": [
    "prot_df = proteomic_df.reset_index()[[\"id\", \"Gene names\"]]\n",
    "prot_df = prot_df.dropna()\n",
    "list_multi_gene_name = []\n",
    "prot_df.apply(\n",
    "    lambda row: check_multi_gene(row, list_multi_gene_name, \"Gene names\"), axis=1\n",
    ")\n",
    "len(list_multi_gene_name)"
   ],
   "metadata": {
    "collapsed": false,
    "pycharm": {
     "name": "#%%\n"
    }
   }
  },
  {
   "cell_type": "markdown",
   "source": [
    "There are 264 protein with at least 2 gene names"
   ],
   "metadata": {
    "collapsed": false
   }
  },
  {
   "cell_type": "markdown",
   "source": [
    "List of proteins with multiple ensembl ids but only one gene name."
   ],
   "metadata": {
    "collapsed": false
   }
  },
  {
   "cell_type": "code",
   "execution_count": 13,
   "outputs": [
    {
     "data": {
      "text/plain": "{193, 412, 722, 806, 1061, 2044, 2675, 2676, 2881, 3393, 4182, 5515, 5630}"
     },
     "execution_count": 13,
     "metadata": {},
     "output_type": "execute_result"
    }
   ],
   "source": [
    "set(list_multi_ensembl) - set(list_multi_gene_name)"
   ],
   "metadata": {
    "collapsed": false,
    "pycharm": {
     "name": "#%%\n"
    }
   }
  },
  {
   "cell_type": "markdown",
   "source": [
    "We remove genes with several ensembl ids"
   ],
   "metadata": {
    "collapsed": false
   }
  },
  {
   "cell_type": "code",
   "execution_count": 14,
   "outputs": [
    {
     "data": {
      "text/plain": "        Gene names  rawR1-WT5  rawR1-Mut5  rawR1-WT6  rawR1-Mut6  rawR1-WT7  \\\nid                                                                            \n0     NSRP1;CCDC55   112150.0    100250.0   102800.0    115760.0    93172.0   \n1         SERPINB6    40426.0     34249.0    44000.0     43406.0    33604.0   \n2            HDLBP  1351100.0   1226800.0  1524000.0   1585600.0  1331200.0   \n3             EHD1   554030.0    553380.0   627240.0    689730.0   628120.0   \n4            PSMA2   632690.0    614100.0   690080.0    727490.0   587610.0   \n...            ...        ...         ...        ...         ...        ...   \n5736       FAM169A    86450.0     81010.0    79561.0     87633.0    72422.0   \n5738      IVNS1ABP    95734.0    117470.0   105900.0    138760.0    85028.0   \n5739       SEC23IP   690970.0    678470.0   754330.0    835280.0   635770.0   \n5819         NOLC1    22587.0     24340.0    24021.0     28617.0    23234.0   \n5820        USP6NL        NaN         NaN        NaN         NaN        NaN   \n\n      rawR1-Mut7  rawR1-WT8  rawR1-Mut8  rawR1-WT9  ...  rawR3-Mut8  \\\nid                                                  ...               \n0       115860.0   105610.0    106860.0    94802.0  ...     96349.0   \n1        38418.0    42710.0     39058.0    43591.0  ...         NaN   \n2      1535400.0  1618700.0   1366300.0  1442700.0  ...   1697200.0   \n3       708150.0   795010.0    671280.0   783310.0  ...    590670.0   \n4       731020.0   662280.0    687820.0   592640.0  ...    540440.0   \n...          ...        ...         ...        ...  ...         ...   \n5736     80007.0    86796.0     66521.0    67492.0  ...    161910.0   \n5738    106300.0   105030.0    101820.0    76005.0  ...    103620.0   \n5739    770690.0   737600.0    692510.0   689790.0  ...    637280.0   \n5819     28480.0    22604.0     26211.0    23737.0  ...     11943.0   \n5820         NaN        NaN         NaN        NaN  ...     20682.0   \n\n      rawR3-WT9  rawR3-Mut9  rawR3-WT10  rawR3-Mut10  rawR3-WT12  rawR3-Mut12  \\\nid                                                                              \n0       92848.0    112510.0    136290.0     128080.0    118650.0     134610.0   \n1           NaN         NaN         NaN          NaN         NaN          NaN   \n2     1764200.0   1653100.0   1988400.0    1844300.0   1854200.0    1677400.0   \n3      679770.0    588170.0    776850.0     637960.0    752200.0     645690.0   \n4      459200.0    519630.0    484740.0     598120.0    485480.0     569490.0   \n...         ...         ...         ...          ...         ...          ...   \n5736   158640.0    148710.0    185620.0     156070.0    146580.0     155410.0   \n5738    79397.0    108470.0     91254.0     120470.0     81211.0     115940.0   \n5739   583910.0    642950.0    749620.0     735570.0    692760.0     730010.0   \n5819    11628.0     12508.0     15604.0      13009.0     13679.0      13382.0   \n5820    20600.0     18146.0     20911.0      20950.0     17867.0      19945.0   \n\n      rawR3-Mut14  rawR3-WT14  Main_ensembl_id  \nid                                              \n0        214620.0    133270.0  ENSG00000126653  \n1             NaN         NaN  ENSG00000124570  \n2       2280200.0   2400300.0  ENSG00000115677  \n3        848520.0    978810.0  ENSG00000110047  \n4        638210.0    617400.0  ENSG00000106588  \n...           ...         ...              ...  \n5736     206360.0    179540.0  ENSG00000198780  \n5738     129670.0     93933.0  ENSG00000116679  \n5739    1019000.0    851350.0  ENSG00000107651  \n5819      18198.0     13243.0  ENSG00000166197  \n5820      23489.0     23225.0  ENSG00000148429  \n\n[5414 rows x 50 columns]",
      "text/html": "<div>\n<style scoped>\n    .dataframe tbody tr th:only-of-type {\n        vertical-align: middle;\n    }\n\n    .dataframe tbody tr th {\n        vertical-align: top;\n    }\n\n    .dataframe thead th {\n        text-align: right;\n    }\n</style>\n<table border=\"1\" class=\"dataframe\">\n  <thead>\n    <tr style=\"text-align: right;\">\n      <th></th>\n      <th>Gene names</th>\n      <th>rawR1-WT5</th>\n      <th>rawR1-Mut5</th>\n      <th>rawR1-WT6</th>\n      <th>rawR1-Mut6</th>\n      <th>rawR1-WT7</th>\n      <th>rawR1-Mut7</th>\n      <th>rawR1-WT8</th>\n      <th>rawR1-Mut8</th>\n      <th>rawR1-WT9</th>\n      <th>...</th>\n      <th>rawR3-Mut8</th>\n      <th>rawR3-WT9</th>\n      <th>rawR3-Mut9</th>\n      <th>rawR3-WT10</th>\n      <th>rawR3-Mut10</th>\n      <th>rawR3-WT12</th>\n      <th>rawR3-Mut12</th>\n      <th>rawR3-Mut14</th>\n      <th>rawR3-WT14</th>\n      <th>Main_ensembl_id</th>\n    </tr>\n    <tr>\n      <th>id</th>\n      <th></th>\n      <th></th>\n      <th></th>\n      <th></th>\n      <th></th>\n      <th></th>\n      <th></th>\n      <th></th>\n      <th></th>\n      <th></th>\n      <th></th>\n      <th></th>\n      <th></th>\n      <th></th>\n      <th></th>\n      <th></th>\n      <th></th>\n      <th></th>\n      <th></th>\n      <th></th>\n      <th></th>\n    </tr>\n  </thead>\n  <tbody>\n    <tr>\n      <th>0</th>\n      <td>NSRP1;CCDC55</td>\n      <td>112150.0</td>\n      <td>100250.0</td>\n      <td>102800.0</td>\n      <td>115760.0</td>\n      <td>93172.0</td>\n      <td>115860.0</td>\n      <td>105610.0</td>\n      <td>106860.0</td>\n      <td>94802.0</td>\n      <td>...</td>\n      <td>96349.0</td>\n      <td>92848.0</td>\n      <td>112510.0</td>\n      <td>136290.0</td>\n      <td>128080.0</td>\n      <td>118650.0</td>\n      <td>134610.0</td>\n      <td>214620.0</td>\n      <td>133270.0</td>\n      <td>ENSG00000126653</td>\n    </tr>\n    <tr>\n      <th>1</th>\n      <td>SERPINB6</td>\n      <td>40426.0</td>\n      <td>34249.0</td>\n      <td>44000.0</td>\n      <td>43406.0</td>\n      <td>33604.0</td>\n      <td>38418.0</td>\n      <td>42710.0</td>\n      <td>39058.0</td>\n      <td>43591.0</td>\n      <td>...</td>\n      <td>NaN</td>\n      <td>NaN</td>\n      <td>NaN</td>\n      <td>NaN</td>\n      <td>NaN</td>\n      <td>NaN</td>\n      <td>NaN</td>\n      <td>NaN</td>\n      <td>NaN</td>\n      <td>ENSG00000124570</td>\n    </tr>\n    <tr>\n      <th>2</th>\n      <td>HDLBP</td>\n      <td>1351100.0</td>\n      <td>1226800.0</td>\n      <td>1524000.0</td>\n      <td>1585600.0</td>\n      <td>1331200.0</td>\n      <td>1535400.0</td>\n      <td>1618700.0</td>\n      <td>1366300.0</td>\n      <td>1442700.0</td>\n      <td>...</td>\n      <td>1697200.0</td>\n      <td>1764200.0</td>\n      <td>1653100.0</td>\n      <td>1988400.0</td>\n      <td>1844300.0</td>\n      <td>1854200.0</td>\n      <td>1677400.0</td>\n      <td>2280200.0</td>\n      <td>2400300.0</td>\n      <td>ENSG00000115677</td>\n    </tr>\n    <tr>\n      <th>3</th>\n      <td>EHD1</td>\n      <td>554030.0</td>\n      <td>553380.0</td>\n      <td>627240.0</td>\n      <td>689730.0</td>\n      <td>628120.0</td>\n      <td>708150.0</td>\n      <td>795010.0</td>\n      <td>671280.0</td>\n      <td>783310.0</td>\n      <td>...</td>\n      <td>590670.0</td>\n      <td>679770.0</td>\n      <td>588170.0</td>\n      <td>776850.0</td>\n      <td>637960.0</td>\n      <td>752200.0</td>\n      <td>645690.0</td>\n      <td>848520.0</td>\n      <td>978810.0</td>\n      <td>ENSG00000110047</td>\n    </tr>\n    <tr>\n      <th>4</th>\n      <td>PSMA2</td>\n      <td>632690.0</td>\n      <td>614100.0</td>\n      <td>690080.0</td>\n      <td>727490.0</td>\n      <td>587610.0</td>\n      <td>731020.0</td>\n      <td>662280.0</td>\n      <td>687820.0</td>\n      <td>592640.0</td>\n      <td>...</td>\n      <td>540440.0</td>\n      <td>459200.0</td>\n      <td>519630.0</td>\n      <td>484740.0</td>\n      <td>598120.0</td>\n      <td>485480.0</td>\n      <td>569490.0</td>\n      <td>638210.0</td>\n      <td>617400.0</td>\n      <td>ENSG00000106588</td>\n    </tr>\n    <tr>\n      <th>...</th>\n      <td>...</td>\n      <td>...</td>\n      <td>...</td>\n      <td>...</td>\n      <td>...</td>\n      <td>...</td>\n      <td>...</td>\n      <td>...</td>\n      <td>...</td>\n      <td>...</td>\n      <td>...</td>\n      <td>...</td>\n      <td>...</td>\n      <td>...</td>\n      <td>...</td>\n      <td>...</td>\n      <td>...</td>\n      <td>...</td>\n      <td>...</td>\n      <td>...</td>\n      <td>...</td>\n    </tr>\n    <tr>\n      <th>5736</th>\n      <td>FAM169A</td>\n      <td>86450.0</td>\n      <td>81010.0</td>\n      <td>79561.0</td>\n      <td>87633.0</td>\n      <td>72422.0</td>\n      <td>80007.0</td>\n      <td>86796.0</td>\n      <td>66521.0</td>\n      <td>67492.0</td>\n      <td>...</td>\n      <td>161910.0</td>\n      <td>158640.0</td>\n      <td>148710.0</td>\n      <td>185620.0</td>\n      <td>156070.0</td>\n      <td>146580.0</td>\n      <td>155410.0</td>\n      <td>206360.0</td>\n      <td>179540.0</td>\n      <td>ENSG00000198780</td>\n    </tr>\n    <tr>\n      <th>5738</th>\n      <td>IVNS1ABP</td>\n      <td>95734.0</td>\n      <td>117470.0</td>\n      <td>105900.0</td>\n      <td>138760.0</td>\n      <td>85028.0</td>\n      <td>106300.0</td>\n      <td>105030.0</td>\n      <td>101820.0</td>\n      <td>76005.0</td>\n      <td>...</td>\n      <td>103620.0</td>\n      <td>79397.0</td>\n      <td>108470.0</td>\n      <td>91254.0</td>\n      <td>120470.0</td>\n      <td>81211.0</td>\n      <td>115940.0</td>\n      <td>129670.0</td>\n      <td>93933.0</td>\n      <td>ENSG00000116679</td>\n    </tr>\n    <tr>\n      <th>5739</th>\n      <td>SEC23IP</td>\n      <td>690970.0</td>\n      <td>678470.0</td>\n      <td>754330.0</td>\n      <td>835280.0</td>\n      <td>635770.0</td>\n      <td>770690.0</td>\n      <td>737600.0</td>\n      <td>692510.0</td>\n      <td>689790.0</td>\n      <td>...</td>\n      <td>637280.0</td>\n      <td>583910.0</td>\n      <td>642950.0</td>\n      <td>749620.0</td>\n      <td>735570.0</td>\n      <td>692760.0</td>\n      <td>730010.0</td>\n      <td>1019000.0</td>\n      <td>851350.0</td>\n      <td>ENSG00000107651</td>\n    </tr>\n    <tr>\n      <th>5819</th>\n      <td>NOLC1</td>\n      <td>22587.0</td>\n      <td>24340.0</td>\n      <td>24021.0</td>\n      <td>28617.0</td>\n      <td>23234.0</td>\n      <td>28480.0</td>\n      <td>22604.0</td>\n      <td>26211.0</td>\n      <td>23737.0</td>\n      <td>...</td>\n      <td>11943.0</td>\n      <td>11628.0</td>\n      <td>12508.0</td>\n      <td>15604.0</td>\n      <td>13009.0</td>\n      <td>13679.0</td>\n      <td>13382.0</td>\n      <td>18198.0</td>\n      <td>13243.0</td>\n      <td>ENSG00000166197</td>\n    </tr>\n    <tr>\n      <th>5820</th>\n      <td>USP6NL</td>\n      <td>NaN</td>\n      <td>NaN</td>\n      <td>NaN</td>\n      <td>NaN</td>\n      <td>NaN</td>\n      <td>NaN</td>\n      <td>NaN</td>\n      <td>NaN</td>\n      <td>NaN</td>\n      <td>...</td>\n      <td>20682.0</td>\n      <td>20600.0</td>\n      <td>18146.0</td>\n      <td>20911.0</td>\n      <td>20950.0</td>\n      <td>17867.0</td>\n      <td>19945.0</td>\n      <td>23489.0</td>\n      <td>23225.0</td>\n      <td>ENSG00000148429</td>\n    </tr>\n  </tbody>\n</table>\n<p>5414 rows × 50 columns</p>\n</div>"
     },
     "execution_count": 14,
     "metadata": {},
     "output_type": "execute_result"
    }
   ],
   "source": [
    "proteomic_df = proteomic_df[proteomic_df.index.isin(list_multi_ensembl) == False]\n",
    "proteomic_df"
   ],
   "metadata": {
    "collapsed": false,
    "pycharm": {
     "name": "#%%\n"
    }
   }
  },
  {
   "cell_type": "markdown",
   "source": [
    "Now we have 5414 proteins"
   ],
   "metadata": {
    "collapsed": false
   }
  },
  {
   "cell_type": "markdown",
   "source": [
    "### 4 - Several proteins for one gene"
   ],
   "metadata": {
    "collapsed": false
   }
  },
  {
   "cell_type": "code",
   "execution_count": 15,
   "outputs": [
    {
     "data": {
      "text/plain": "52"
     },
     "execution_count": 15,
     "metadata": {},
     "output_type": "execute_result"
    }
   ],
   "source": [
    "list_dupli_ens_id = (\n",
    "    proteomic_df[proteomic_df.Main_ensembl_id.duplicated(keep=False) == True]\n",
    "    .Main_ensembl_id.unique()\n",
    "    .tolist()\n",
    ")\n",
    "len(list_dupli_ens_id)"
   ],
   "metadata": {
    "collapsed": false,
    "pycharm": {
     "name": "#%%\n"
    }
   }
  },
  {
   "cell_type": "markdown",
   "source": [
    "There are 52 duplicated genes. One example below."
   ],
   "metadata": {
    "collapsed": false
   }
  },
  {
   "cell_type": "code",
   "execution_count": 16,
   "outputs": [
    {
     "data": {
      "text/plain": "     Gene names  rawR1-WT5  rawR1-Mut5  rawR1-WT6  rawR1-Mut6  rawR1-WT7  \\\nid                                                                         \n88         TPM3  1839100.0   1692700.0  1592800.0   1714300.0  1438900.0   \n1944       TPM3    74029.0     71527.0    62834.0     64963.0    60511.0   \n\n      rawR1-Mut7  rawR1-WT8  rawR1-Mut8  rawR1-WT9  ...  rawR3-Mut8  \\\nid                                                  ...               \n88     1714100.0  1690100.0   1568600.0  1525500.0  ...   1941400.0   \n1944     77468.0    53482.0     60553.0    52209.0  ...     54626.0   \n\n      rawR3-WT9  rawR3-Mut9  rawR3-WT10  rawR3-Mut10  rawR3-WT12  rawR3-Mut12  \\\nid                                                                              \n88    1875200.0   1927900.0   2773400.0    2092200.0   2108800.0    2017400.0   \n1944    48172.0     61561.0     66844.0      74669.0     51672.0      67003.0   \n\n      rawR3-Mut14  rawR3-WT14  Main_ensembl_id  \nid                                              \n88      3308900.0   2741800.0  ENSG00000143549  \n1944      76524.0     65664.0  ENSG00000143549  \n\n[2 rows x 50 columns]",
      "text/html": "<div>\n<style scoped>\n    .dataframe tbody tr th:only-of-type {\n        vertical-align: middle;\n    }\n\n    .dataframe tbody tr th {\n        vertical-align: top;\n    }\n\n    .dataframe thead th {\n        text-align: right;\n    }\n</style>\n<table border=\"1\" class=\"dataframe\">\n  <thead>\n    <tr style=\"text-align: right;\">\n      <th></th>\n      <th>Gene names</th>\n      <th>rawR1-WT5</th>\n      <th>rawR1-Mut5</th>\n      <th>rawR1-WT6</th>\n      <th>rawR1-Mut6</th>\n      <th>rawR1-WT7</th>\n      <th>rawR1-Mut7</th>\n      <th>rawR1-WT8</th>\n      <th>rawR1-Mut8</th>\n      <th>rawR1-WT9</th>\n      <th>...</th>\n      <th>rawR3-Mut8</th>\n      <th>rawR3-WT9</th>\n      <th>rawR3-Mut9</th>\n      <th>rawR3-WT10</th>\n      <th>rawR3-Mut10</th>\n      <th>rawR3-WT12</th>\n      <th>rawR3-Mut12</th>\n      <th>rawR3-Mut14</th>\n      <th>rawR3-WT14</th>\n      <th>Main_ensembl_id</th>\n    </tr>\n    <tr>\n      <th>id</th>\n      <th></th>\n      <th></th>\n      <th></th>\n      <th></th>\n      <th></th>\n      <th></th>\n      <th></th>\n      <th></th>\n      <th></th>\n      <th></th>\n      <th></th>\n      <th></th>\n      <th></th>\n      <th></th>\n      <th></th>\n      <th></th>\n      <th></th>\n      <th></th>\n      <th></th>\n      <th></th>\n      <th></th>\n    </tr>\n  </thead>\n  <tbody>\n    <tr>\n      <th>88</th>\n      <td>TPM3</td>\n      <td>1839100.0</td>\n      <td>1692700.0</td>\n      <td>1592800.0</td>\n      <td>1714300.0</td>\n      <td>1438900.0</td>\n      <td>1714100.0</td>\n      <td>1690100.0</td>\n      <td>1568600.0</td>\n      <td>1525500.0</td>\n      <td>...</td>\n      <td>1941400.0</td>\n      <td>1875200.0</td>\n      <td>1927900.0</td>\n      <td>2773400.0</td>\n      <td>2092200.0</td>\n      <td>2108800.0</td>\n      <td>2017400.0</td>\n      <td>3308900.0</td>\n      <td>2741800.0</td>\n      <td>ENSG00000143549</td>\n    </tr>\n    <tr>\n      <th>1944</th>\n      <td>TPM3</td>\n      <td>74029.0</td>\n      <td>71527.0</td>\n      <td>62834.0</td>\n      <td>64963.0</td>\n      <td>60511.0</td>\n      <td>77468.0</td>\n      <td>53482.0</td>\n      <td>60553.0</td>\n      <td>52209.0</td>\n      <td>...</td>\n      <td>54626.0</td>\n      <td>48172.0</td>\n      <td>61561.0</td>\n      <td>66844.0</td>\n      <td>74669.0</td>\n      <td>51672.0</td>\n      <td>67003.0</td>\n      <td>76524.0</td>\n      <td>65664.0</td>\n      <td>ENSG00000143549</td>\n    </tr>\n  </tbody>\n</table>\n<p>2 rows × 50 columns</p>\n</div>"
     },
     "execution_count": 16,
     "metadata": {},
     "output_type": "execute_result"
    }
   ],
   "source": [
    "proteomic_df[proteomic_df.Main_ensembl_id == \"ENSG00000143549\"]"
   ],
   "metadata": {
    "collapsed": false,
    "pycharm": {
     "name": "#%%\n"
    }
   }
  },
  {
   "cell_type": "markdown",
   "source": [
    "We separate unique and duplicated genes."
   ],
   "metadata": {
    "collapsed": false
   }
  },
  {
   "cell_type": "code",
   "execution_count": 17,
   "outputs": [
    {
     "data": {
      "text/plain": "        Gene names  rawR1-WT5  rawR1-Mut5  rawR1-WT6  rawR1-Mut6  rawR1-WT7  \\\nid                                                                            \n0     NSRP1;CCDC55   112150.0    100250.0   102800.0    115760.0    93172.0   \n1         SERPINB6    40426.0     34249.0    44000.0     43406.0    33604.0   \n2            HDLBP  1351100.0   1226800.0  1524000.0   1585600.0  1331200.0   \n3             EHD1   554030.0    553380.0   627240.0    689730.0   628120.0   \n4            PSMA2   632690.0    614100.0   690080.0    727490.0   587610.0   \n...            ...        ...         ...        ...         ...        ...   \n5735         WASF2   167980.0    170560.0   176340.0    191240.0   159770.0   \n5736       FAM169A    86450.0     81010.0    79561.0     87633.0    72422.0   \n5738      IVNS1ABP    95734.0    117470.0   105900.0    138760.0    85028.0   \n5739       SEC23IP   690970.0    678470.0   754330.0    835280.0   635770.0   \n5820        USP6NL        NaN         NaN        NaN         NaN        NaN   \n\n      rawR1-Mut7  rawR1-WT8  rawR1-Mut8  rawR1-WT9  ...  rawR3-Mut8  \\\nid                                                  ...               \n0       115860.0   105610.0    106860.0    94802.0  ...     96349.0   \n1        38418.0    42710.0     39058.0    43591.0  ...         NaN   \n2      1535400.0  1618700.0   1366300.0  1442700.0  ...   1697200.0   \n3       708150.0   795010.0    671280.0   783310.0  ...    590670.0   \n4       731020.0   662280.0    687820.0   592640.0  ...    540440.0   \n...          ...        ...         ...        ...  ...         ...   \n5735    191140.0   201580.0    177900.0   164940.0  ...    285430.0   \n5736     80007.0    86796.0     66521.0    67492.0  ...    161910.0   \n5738    106300.0   105030.0    101820.0    76005.0  ...    103620.0   \n5739    770690.0   737600.0    692510.0   689790.0  ...    637280.0   \n5820         NaN        NaN         NaN        NaN  ...     20682.0   \n\n      rawR3-WT9  rawR3-Mut9  rawR3-WT10  rawR3-Mut10  rawR3-WT12  rawR3-Mut12  \\\nid                                                                              \n0       92848.0    112510.0    136290.0     128080.0    118650.0     134610.0   \n1           NaN         NaN         NaN          NaN         NaN          NaN   \n2     1764200.0   1653100.0   1988400.0    1844300.0   1854200.0    1677400.0   \n3      679770.0    588170.0    776850.0     637960.0    752200.0     645690.0   \n4      459200.0    519630.0    484740.0     598120.0    485480.0     569490.0   \n...         ...         ...         ...          ...         ...          ...   \n5735   251390.0    271040.0    357900.0     317720.0    282600.0     296670.0   \n5736   158640.0    148710.0    185620.0     156070.0    146580.0     155410.0   \n5738    79397.0    108470.0     91254.0     120470.0     81211.0     115940.0   \n5739   583910.0    642950.0    749620.0     735570.0    692760.0     730010.0   \n5820    20600.0     18146.0     20911.0      20950.0     17867.0      19945.0   \n\n      rawR3-Mut14  rawR3-WT14  Main_ensembl_id  \nid                                              \n0        214620.0    133270.0  ENSG00000126653  \n1             NaN         NaN  ENSG00000124570  \n2       2280200.0   2400300.0  ENSG00000115677  \n3        848520.0    978810.0  ENSG00000110047  \n4        638210.0    617400.0  ENSG00000106588  \n...           ...         ...              ...  \n5735     433370.0    341080.0  ENSG00000158195  \n5736     206360.0    179540.0  ENSG00000198780  \n5738     129670.0     93933.0  ENSG00000116679  \n5739    1019000.0    851350.0  ENSG00000107651  \n5820      23489.0     23225.0  ENSG00000148429  \n\n[5308 rows x 50 columns]",
      "text/html": "<div>\n<style scoped>\n    .dataframe tbody tr th:only-of-type {\n        vertical-align: middle;\n    }\n\n    .dataframe tbody tr th {\n        vertical-align: top;\n    }\n\n    .dataframe thead th {\n        text-align: right;\n    }\n</style>\n<table border=\"1\" class=\"dataframe\">\n  <thead>\n    <tr style=\"text-align: right;\">\n      <th></th>\n      <th>Gene names</th>\n      <th>rawR1-WT5</th>\n      <th>rawR1-Mut5</th>\n      <th>rawR1-WT6</th>\n      <th>rawR1-Mut6</th>\n      <th>rawR1-WT7</th>\n      <th>rawR1-Mut7</th>\n      <th>rawR1-WT8</th>\n      <th>rawR1-Mut8</th>\n      <th>rawR1-WT9</th>\n      <th>...</th>\n      <th>rawR3-Mut8</th>\n      <th>rawR3-WT9</th>\n      <th>rawR3-Mut9</th>\n      <th>rawR3-WT10</th>\n      <th>rawR3-Mut10</th>\n      <th>rawR3-WT12</th>\n      <th>rawR3-Mut12</th>\n      <th>rawR3-Mut14</th>\n      <th>rawR3-WT14</th>\n      <th>Main_ensembl_id</th>\n    </tr>\n    <tr>\n      <th>id</th>\n      <th></th>\n      <th></th>\n      <th></th>\n      <th></th>\n      <th></th>\n      <th></th>\n      <th></th>\n      <th></th>\n      <th></th>\n      <th></th>\n      <th></th>\n      <th></th>\n      <th></th>\n      <th></th>\n      <th></th>\n      <th></th>\n      <th></th>\n      <th></th>\n      <th></th>\n      <th></th>\n      <th></th>\n    </tr>\n  </thead>\n  <tbody>\n    <tr>\n      <th>0</th>\n      <td>NSRP1;CCDC55</td>\n      <td>112150.0</td>\n      <td>100250.0</td>\n      <td>102800.0</td>\n      <td>115760.0</td>\n      <td>93172.0</td>\n      <td>115860.0</td>\n      <td>105610.0</td>\n      <td>106860.0</td>\n      <td>94802.0</td>\n      <td>...</td>\n      <td>96349.0</td>\n      <td>92848.0</td>\n      <td>112510.0</td>\n      <td>136290.0</td>\n      <td>128080.0</td>\n      <td>118650.0</td>\n      <td>134610.0</td>\n      <td>214620.0</td>\n      <td>133270.0</td>\n      <td>ENSG00000126653</td>\n    </tr>\n    <tr>\n      <th>1</th>\n      <td>SERPINB6</td>\n      <td>40426.0</td>\n      <td>34249.0</td>\n      <td>44000.0</td>\n      <td>43406.0</td>\n      <td>33604.0</td>\n      <td>38418.0</td>\n      <td>42710.0</td>\n      <td>39058.0</td>\n      <td>43591.0</td>\n      <td>...</td>\n      <td>NaN</td>\n      <td>NaN</td>\n      <td>NaN</td>\n      <td>NaN</td>\n      <td>NaN</td>\n      <td>NaN</td>\n      <td>NaN</td>\n      <td>NaN</td>\n      <td>NaN</td>\n      <td>ENSG00000124570</td>\n    </tr>\n    <tr>\n      <th>2</th>\n      <td>HDLBP</td>\n      <td>1351100.0</td>\n      <td>1226800.0</td>\n      <td>1524000.0</td>\n      <td>1585600.0</td>\n      <td>1331200.0</td>\n      <td>1535400.0</td>\n      <td>1618700.0</td>\n      <td>1366300.0</td>\n      <td>1442700.0</td>\n      <td>...</td>\n      <td>1697200.0</td>\n      <td>1764200.0</td>\n      <td>1653100.0</td>\n      <td>1988400.0</td>\n      <td>1844300.0</td>\n      <td>1854200.0</td>\n      <td>1677400.0</td>\n      <td>2280200.0</td>\n      <td>2400300.0</td>\n      <td>ENSG00000115677</td>\n    </tr>\n    <tr>\n      <th>3</th>\n      <td>EHD1</td>\n      <td>554030.0</td>\n      <td>553380.0</td>\n      <td>627240.0</td>\n      <td>689730.0</td>\n      <td>628120.0</td>\n      <td>708150.0</td>\n      <td>795010.0</td>\n      <td>671280.0</td>\n      <td>783310.0</td>\n      <td>...</td>\n      <td>590670.0</td>\n      <td>679770.0</td>\n      <td>588170.0</td>\n      <td>776850.0</td>\n      <td>637960.0</td>\n      <td>752200.0</td>\n      <td>645690.0</td>\n      <td>848520.0</td>\n      <td>978810.0</td>\n      <td>ENSG00000110047</td>\n    </tr>\n    <tr>\n      <th>4</th>\n      <td>PSMA2</td>\n      <td>632690.0</td>\n      <td>614100.0</td>\n      <td>690080.0</td>\n      <td>727490.0</td>\n      <td>587610.0</td>\n      <td>731020.0</td>\n      <td>662280.0</td>\n      <td>687820.0</td>\n      <td>592640.0</td>\n      <td>...</td>\n      <td>540440.0</td>\n      <td>459200.0</td>\n      <td>519630.0</td>\n      <td>484740.0</td>\n      <td>598120.0</td>\n      <td>485480.0</td>\n      <td>569490.0</td>\n      <td>638210.0</td>\n      <td>617400.0</td>\n      <td>ENSG00000106588</td>\n    </tr>\n    <tr>\n      <th>...</th>\n      <td>...</td>\n      <td>...</td>\n      <td>...</td>\n      <td>...</td>\n      <td>...</td>\n      <td>...</td>\n      <td>...</td>\n      <td>...</td>\n      <td>...</td>\n      <td>...</td>\n      <td>...</td>\n      <td>...</td>\n      <td>...</td>\n      <td>...</td>\n      <td>...</td>\n      <td>...</td>\n      <td>...</td>\n      <td>...</td>\n      <td>...</td>\n      <td>...</td>\n      <td>...</td>\n    </tr>\n    <tr>\n      <th>5735</th>\n      <td>WASF2</td>\n      <td>167980.0</td>\n      <td>170560.0</td>\n      <td>176340.0</td>\n      <td>191240.0</td>\n      <td>159770.0</td>\n      <td>191140.0</td>\n      <td>201580.0</td>\n      <td>177900.0</td>\n      <td>164940.0</td>\n      <td>...</td>\n      <td>285430.0</td>\n      <td>251390.0</td>\n      <td>271040.0</td>\n      <td>357900.0</td>\n      <td>317720.0</td>\n      <td>282600.0</td>\n      <td>296670.0</td>\n      <td>433370.0</td>\n      <td>341080.0</td>\n      <td>ENSG00000158195</td>\n    </tr>\n    <tr>\n      <th>5736</th>\n      <td>FAM169A</td>\n      <td>86450.0</td>\n      <td>81010.0</td>\n      <td>79561.0</td>\n      <td>87633.0</td>\n      <td>72422.0</td>\n      <td>80007.0</td>\n      <td>86796.0</td>\n      <td>66521.0</td>\n      <td>67492.0</td>\n      <td>...</td>\n      <td>161910.0</td>\n      <td>158640.0</td>\n      <td>148710.0</td>\n      <td>185620.0</td>\n      <td>156070.0</td>\n      <td>146580.0</td>\n      <td>155410.0</td>\n      <td>206360.0</td>\n      <td>179540.0</td>\n      <td>ENSG00000198780</td>\n    </tr>\n    <tr>\n      <th>5738</th>\n      <td>IVNS1ABP</td>\n      <td>95734.0</td>\n      <td>117470.0</td>\n      <td>105900.0</td>\n      <td>138760.0</td>\n      <td>85028.0</td>\n      <td>106300.0</td>\n      <td>105030.0</td>\n      <td>101820.0</td>\n      <td>76005.0</td>\n      <td>...</td>\n      <td>103620.0</td>\n      <td>79397.0</td>\n      <td>108470.0</td>\n      <td>91254.0</td>\n      <td>120470.0</td>\n      <td>81211.0</td>\n      <td>115940.0</td>\n      <td>129670.0</td>\n      <td>93933.0</td>\n      <td>ENSG00000116679</td>\n    </tr>\n    <tr>\n      <th>5739</th>\n      <td>SEC23IP</td>\n      <td>690970.0</td>\n      <td>678470.0</td>\n      <td>754330.0</td>\n      <td>835280.0</td>\n      <td>635770.0</td>\n      <td>770690.0</td>\n      <td>737600.0</td>\n      <td>692510.0</td>\n      <td>689790.0</td>\n      <td>...</td>\n      <td>637280.0</td>\n      <td>583910.0</td>\n      <td>642950.0</td>\n      <td>749620.0</td>\n      <td>735570.0</td>\n      <td>692760.0</td>\n      <td>730010.0</td>\n      <td>1019000.0</td>\n      <td>851350.0</td>\n      <td>ENSG00000107651</td>\n    </tr>\n    <tr>\n      <th>5820</th>\n      <td>USP6NL</td>\n      <td>NaN</td>\n      <td>NaN</td>\n      <td>NaN</td>\n      <td>NaN</td>\n      <td>NaN</td>\n      <td>NaN</td>\n      <td>NaN</td>\n      <td>NaN</td>\n      <td>NaN</td>\n      <td>...</td>\n      <td>20682.0</td>\n      <td>20600.0</td>\n      <td>18146.0</td>\n      <td>20911.0</td>\n      <td>20950.0</td>\n      <td>17867.0</td>\n      <td>19945.0</td>\n      <td>23489.0</td>\n      <td>23225.0</td>\n      <td>ENSG00000148429</td>\n    </tr>\n  </tbody>\n</table>\n<p>5308 rows × 50 columns</p>\n</div>"
     },
     "execution_count": 17,
     "metadata": {},
     "output_type": "execute_result"
    }
   ],
   "source": [
    "proteomic_df_unique = proteomic_df[\n",
    "    proteomic_df.Main_ensembl_id.isin(list_dupli_ens_id) == False\n",
    "]\n",
    "proteomic_df_unique"
   ],
   "metadata": {
    "collapsed": false,
    "pycharm": {
     "name": "#%%\n"
    }
   }
  },
  {
   "cell_type": "code",
   "execution_count": 18,
   "outputs": [],
   "source": [
    "for ens_id in list_dupli_ens_id:  # for each gene in the list of duplicated gene\n",
    "    dupli_id_df = proteomic_df[(proteomic_df.Main_ensembl_id == ens_id) == True]\n",
    "    # We sum protein counts\n",
    "    dupli_id_df_sum = pd.DataFrame(\n",
    "        dupli_id_df[\n",
    "            dupli_id_df.columns[((dupli_id_df.columns.str[0:3] == \"raw\") == True)]\n",
    "        ].sum()\n",
    "    ).transpose()\n",
    "\n",
    "    dupli_id_df_concat = pd.concat(\n",
    "        [\n",
    "            dupli_id_df[[\"Gene names\", \"Main_ensembl_id\"]][:1].reset_index(),\n",
    "            dupli_id_df_sum,\n",
    "        ],\n",
    "        axis=1,\n",
    "        join=\"outer\",\n",
    "    )\n",
    "    id_multi = \"\"\n",
    "    for k in dupli_id_df.index.tolist():\n",
    "        id_multi = id_multi + str(k) + \";\"\n",
    "    id_multi[:-1]\n",
    "    dupli_id_df_concat.loc[:, \"id\"] = id_multi[:-1]\n",
    "    dupli_id_df_concat = dupli_id_df_concat.set_index(\"id\")\n",
    "    proteomic_df_unique = pd.concat([proteomic_df_unique, dupli_id_df_concat], axis=0)"
   ],
   "metadata": {
    "collapsed": false,
    "pycharm": {
     "name": "#%%\n"
    }
   }
  },
  {
   "cell_type": "code",
   "execution_count": 19,
   "outputs": [
    {
     "data": {
      "text/plain": "     Gene names  rawR1-WT5  rawR1-Mut5  rawR1-WT6  rawR1-Mut6  rawR1-WT7  \\\nid                                                                         \n3494       CAP1  2015300.0   1742100.0  2092900.0   2151900.0  1894300.0   \n4000       CAP1    32545.0     35966.0    39713.0     42326.0    33062.0   \n\n      rawR1-Mut7  rawR1-WT8  rawR1-Mut8  rawR1-WT9  ...  rawR3-Mut8  \\\nid                                                  ...               \n3494   2207200.0  2109600.0   1990700.0  1832500.0  ...   2168700.0   \n4000     36922.0    36225.0     39256.0    34726.0  ...     29139.0   \n\n      rawR3-WT9  rawR3-Mut9  rawR3-WT10  rawR3-Mut10  rawR3-WT12  rawR3-Mut12  \\\nid                                                                              \n3494  2002000.0   2009400.0   2156700.0    2236900.0   2014800.0    2137300.0   \n4000    25864.0     29423.0     34419.0      31999.0     30346.0      30583.0   \n\n      rawR3-Mut14  rawR3-WT14  Main_ensembl_id  \nid                                              \n3494    2639800.0   2653200.0  ENSG00000131236  \n4000      44862.0     41314.0  ENSG00000131236  \n\n[2 rows x 50 columns]",
      "text/html": "<div>\n<style scoped>\n    .dataframe tbody tr th:only-of-type {\n        vertical-align: middle;\n    }\n\n    .dataframe tbody tr th {\n        vertical-align: top;\n    }\n\n    .dataframe thead th {\n        text-align: right;\n    }\n</style>\n<table border=\"1\" class=\"dataframe\">\n  <thead>\n    <tr style=\"text-align: right;\">\n      <th></th>\n      <th>Gene names</th>\n      <th>rawR1-WT5</th>\n      <th>rawR1-Mut5</th>\n      <th>rawR1-WT6</th>\n      <th>rawR1-Mut6</th>\n      <th>rawR1-WT7</th>\n      <th>rawR1-Mut7</th>\n      <th>rawR1-WT8</th>\n      <th>rawR1-Mut8</th>\n      <th>rawR1-WT9</th>\n      <th>...</th>\n      <th>rawR3-Mut8</th>\n      <th>rawR3-WT9</th>\n      <th>rawR3-Mut9</th>\n      <th>rawR3-WT10</th>\n      <th>rawR3-Mut10</th>\n      <th>rawR3-WT12</th>\n      <th>rawR3-Mut12</th>\n      <th>rawR3-Mut14</th>\n      <th>rawR3-WT14</th>\n      <th>Main_ensembl_id</th>\n    </tr>\n    <tr>\n      <th>id</th>\n      <th></th>\n      <th></th>\n      <th></th>\n      <th></th>\n      <th></th>\n      <th></th>\n      <th></th>\n      <th></th>\n      <th></th>\n      <th></th>\n      <th></th>\n      <th></th>\n      <th></th>\n      <th></th>\n      <th></th>\n      <th></th>\n      <th></th>\n      <th></th>\n      <th></th>\n      <th></th>\n      <th></th>\n    </tr>\n  </thead>\n  <tbody>\n    <tr>\n      <th>3494</th>\n      <td>CAP1</td>\n      <td>2015300.0</td>\n      <td>1742100.0</td>\n      <td>2092900.0</td>\n      <td>2151900.0</td>\n      <td>1894300.0</td>\n      <td>2207200.0</td>\n      <td>2109600.0</td>\n      <td>1990700.0</td>\n      <td>1832500.0</td>\n      <td>...</td>\n      <td>2168700.0</td>\n      <td>2002000.0</td>\n      <td>2009400.0</td>\n      <td>2156700.0</td>\n      <td>2236900.0</td>\n      <td>2014800.0</td>\n      <td>2137300.0</td>\n      <td>2639800.0</td>\n      <td>2653200.0</td>\n      <td>ENSG00000131236</td>\n    </tr>\n    <tr>\n      <th>4000</th>\n      <td>CAP1</td>\n      <td>32545.0</td>\n      <td>35966.0</td>\n      <td>39713.0</td>\n      <td>42326.0</td>\n      <td>33062.0</td>\n      <td>36922.0</td>\n      <td>36225.0</td>\n      <td>39256.0</td>\n      <td>34726.0</td>\n      <td>...</td>\n      <td>29139.0</td>\n      <td>25864.0</td>\n      <td>29423.0</td>\n      <td>34419.0</td>\n      <td>31999.0</td>\n      <td>30346.0</td>\n      <td>30583.0</td>\n      <td>44862.0</td>\n      <td>41314.0</td>\n      <td>ENSG00000131236</td>\n    </tr>\n  </tbody>\n</table>\n<p>2 rows × 50 columns</p>\n</div>"
     },
     "execution_count": 19,
     "metadata": {},
     "output_type": "execute_result"
    }
   ],
   "source": [
    "dupli_id_df"
   ],
   "metadata": {
    "collapsed": false,
    "pycharm": {
     "name": "#%%\n"
    }
   }
  },
  {
   "cell_type": "code",
   "execution_count": 20,
   "outputs": [
    {
     "data": {
      "text/plain": "             Gene names  rawR1-WT5  rawR1-Mut5  rawR1-WT6  rawR1-Mut6  \\\nid                                                                      \n0          NSRP1;CCDC55   112150.0    100250.0   102800.0    115760.0   \n1              SERPINB6    40426.0     34249.0    44000.0     43406.0   \n2                 HDLBP  1351100.0   1226800.0  1524000.0   1585600.0   \n3                  EHD1   554030.0    553380.0   627240.0    689730.0   \n4                 PSMA2   632690.0    614100.0   690080.0    727490.0   \n...                 ...        ...         ...        ...         ...   \n2630;4028          TPM2  2149079.8   1599522.0  2067257.2   1593945.1   \n3074;3075          TMPO  1366240.0   1240150.0  1310350.0   1359200.0   \n3281;4053         PSMD4   331080.0    296615.0   322474.0    349703.0   \n3362;4016        HNRNPK  4932500.0   4724920.0  4736420.0   5148430.0   \n3494;4000          CAP1  2047845.0   1778066.0  2132613.0   2194226.0   \n\n           rawR1-WT7  rawR1-Mut7  rawR1-WT8  rawR1-Mut8  rawR1-WT9  ...  \\\nid                                                                  ...   \n0            93172.0    115860.0   105610.0    106860.0    94802.0  ...   \n1            33604.0     38418.0    42710.0     39058.0    43591.0  ...   \n2          1331200.0   1535400.0  1618700.0   1366300.0  1442700.0  ...   \n3           628120.0    708150.0   795010.0    671280.0   783310.0  ...   \n4           587610.0    731020.0   662280.0    687820.0   592640.0  ...   \n...              ...         ...        ...         ...        ...  ...   \n2630;4028  1968964.5   1954417.0  2193545.8   1818441.5  2032629.7  ...   \n3074;3075  1119360.0   1321010.0  1269360.0   1297450.0  1244880.0  ...   \n3281;4053   280905.0    336718.0   324638.0    316498.0   296653.0  ...   \n3362;4016  4114530.0   4933370.0  4656730.0   4689070.0  4110580.0  ...   \n3494;4000  1927362.0   2244122.0  2145825.0   2029956.0  1867226.0  ...   \n\n           rawR3-Mut8  rawR3-WT9  rawR3-Mut9  rawR3-WT10  rawR3-Mut10  \\\nid                                                                      \n0             96349.0    92848.0    112510.0    136290.0     128080.0   \n1                 NaN        NaN         NaN         NaN          NaN   \n2           1697200.0  1764200.0   1653100.0   1988400.0    1844300.0   \n3            590670.0   679770.0    588170.0    776850.0     637960.0   \n4            540440.0   459200.0    519630.0    484740.0     598120.0   \n...               ...        ...         ...         ...          ...   \n2630;4028   1825918.2  2048413.5   1877639.7   3476546.6    2044167.5   \n3074;3075   1463830.0  1382880.0   1584690.0   1887750.0    1843980.0   \n3281;4053    458710.0   435810.0    447960.0    532100.0     513750.0   \n3362;4016   5232630.0  4660410.0   5595000.0   6201300.0    6694990.0   \n3494;4000   2197839.0  2027864.0   2038823.0   2191119.0    2268899.0   \n\n           rawR3-WT12  rawR3-Mut12  rawR3-Mut14  rawR3-WT14  Main_ensembl_id  \nid                                                                            \n0            118650.0     134610.0     214620.0    133270.0  ENSG00000126653  \n1                 NaN          NaN          NaN         NaN  ENSG00000124570  \n2           1854200.0    1677400.0    2280200.0   2400300.0  ENSG00000115677  \n3            752200.0     645690.0     848520.0    978810.0  ENSG00000110047  \n4            485480.0     569490.0     638210.0    617400.0  ENSG00000106588  \n...               ...          ...          ...         ...              ...  \n2630;4028   2347192.2    1963483.3    3642082.0   3474800.0  ENSG00000198467  \n3074;3075   1750390.0    1886770.0    2885060.0   1889890.0  ENSG00000120802  \n3281;4053    469430.0     512010.0     745610.0    574590.0  ENSG00000159352  \n3362;4016   5754640.0    6839780.0   10083560.0   6647100.0  ENSG00000165119  \n3494;4000   2045146.0    2167883.0    2684662.0   2694514.0  ENSG00000131236  \n\n[5360 rows x 50 columns]",
      "text/html": "<div>\n<style scoped>\n    .dataframe tbody tr th:only-of-type {\n        vertical-align: middle;\n    }\n\n    .dataframe tbody tr th {\n        vertical-align: top;\n    }\n\n    .dataframe thead th {\n        text-align: right;\n    }\n</style>\n<table border=\"1\" class=\"dataframe\">\n  <thead>\n    <tr style=\"text-align: right;\">\n      <th></th>\n      <th>Gene names</th>\n      <th>rawR1-WT5</th>\n      <th>rawR1-Mut5</th>\n      <th>rawR1-WT6</th>\n      <th>rawR1-Mut6</th>\n      <th>rawR1-WT7</th>\n      <th>rawR1-Mut7</th>\n      <th>rawR1-WT8</th>\n      <th>rawR1-Mut8</th>\n      <th>rawR1-WT9</th>\n      <th>...</th>\n      <th>rawR3-Mut8</th>\n      <th>rawR3-WT9</th>\n      <th>rawR3-Mut9</th>\n      <th>rawR3-WT10</th>\n      <th>rawR3-Mut10</th>\n      <th>rawR3-WT12</th>\n      <th>rawR3-Mut12</th>\n      <th>rawR3-Mut14</th>\n      <th>rawR3-WT14</th>\n      <th>Main_ensembl_id</th>\n    </tr>\n    <tr>\n      <th>id</th>\n      <th></th>\n      <th></th>\n      <th></th>\n      <th></th>\n      <th></th>\n      <th></th>\n      <th></th>\n      <th></th>\n      <th></th>\n      <th></th>\n      <th></th>\n      <th></th>\n      <th></th>\n      <th></th>\n      <th></th>\n      <th></th>\n      <th></th>\n      <th></th>\n      <th></th>\n      <th></th>\n      <th></th>\n    </tr>\n  </thead>\n  <tbody>\n    <tr>\n      <th>0</th>\n      <td>NSRP1;CCDC55</td>\n      <td>112150.0</td>\n      <td>100250.0</td>\n      <td>102800.0</td>\n      <td>115760.0</td>\n      <td>93172.0</td>\n      <td>115860.0</td>\n      <td>105610.0</td>\n      <td>106860.0</td>\n      <td>94802.0</td>\n      <td>...</td>\n      <td>96349.0</td>\n      <td>92848.0</td>\n      <td>112510.0</td>\n      <td>136290.0</td>\n      <td>128080.0</td>\n      <td>118650.0</td>\n      <td>134610.0</td>\n      <td>214620.0</td>\n      <td>133270.0</td>\n      <td>ENSG00000126653</td>\n    </tr>\n    <tr>\n      <th>1</th>\n      <td>SERPINB6</td>\n      <td>40426.0</td>\n      <td>34249.0</td>\n      <td>44000.0</td>\n      <td>43406.0</td>\n      <td>33604.0</td>\n      <td>38418.0</td>\n      <td>42710.0</td>\n      <td>39058.0</td>\n      <td>43591.0</td>\n      <td>...</td>\n      <td>NaN</td>\n      <td>NaN</td>\n      <td>NaN</td>\n      <td>NaN</td>\n      <td>NaN</td>\n      <td>NaN</td>\n      <td>NaN</td>\n      <td>NaN</td>\n      <td>NaN</td>\n      <td>ENSG00000124570</td>\n    </tr>\n    <tr>\n      <th>2</th>\n      <td>HDLBP</td>\n      <td>1351100.0</td>\n      <td>1226800.0</td>\n      <td>1524000.0</td>\n      <td>1585600.0</td>\n      <td>1331200.0</td>\n      <td>1535400.0</td>\n      <td>1618700.0</td>\n      <td>1366300.0</td>\n      <td>1442700.0</td>\n      <td>...</td>\n      <td>1697200.0</td>\n      <td>1764200.0</td>\n      <td>1653100.0</td>\n      <td>1988400.0</td>\n      <td>1844300.0</td>\n      <td>1854200.0</td>\n      <td>1677400.0</td>\n      <td>2280200.0</td>\n      <td>2400300.0</td>\n      <td>ENSG00000115677</td>\n    </tr>\n    <tr>\n      <th>3</th>\n      <td>EHD1</td>\n      <td>554030.0</td>\n      <td>553380.0</td>\n      <td>627240.0</td>\n      <td>689730.0</td>\n      <td>628120.0</td>\n      <td>708150.0</td>\n      <td>795010.0</td>\n      <td>671280.0</td>\n      <td>783310.0</td>\n      <td>...</td>\n      <td>590670.0</td>\n      <td>679770.0</td>\n      <td>588170.0</td>\n      <td>776850.0</td>\n      <td>637960.0</td>\n      <td>752200.0</td>\n      <td>645690.0</td>\n      <td>848520.0</td>\n      <td>978810.0</td>\n      <td>ENSG00000110047</td>\n    </tr>\n    <tr>\n      <th>4</th>\n      <td>PSMA2</td>\n      <td>632690.0</td>\n      <td>614100.0</td>\n      <td>690080.0</td>\n      <td>727490.0</td>\n      <td>587610.0</td>\n      <td>731020.0</td>\n      <td>662280.0</td>\n      <td>687820.0</td>\n      <td>592640.0</td>\n      <td>...</td>\n      <td>540440.0</td>\n      <td>459200.0</td>\n      <td>519630.0</td>\n      <td>484740.0</td>\n      <td>598120.0</td>\n      <td>485480.0</td>\n      <td>569490.0</td>\n      <td>638210.0</td>\n      <td>617400.0</td>\n      <td>ENSG00000106588</td>\n    </tr>\n    <tr>\n      <th>...</th>\n      <td>...</td>\n      <td>...</td>\n      <td>...</td>\n      <td>...</td>\n      <td>...</td>\n      <td>...</td>\n      <td>...</td>\n      <td>...</td>\n      <td>...</td>\n      <td>...</td>\n      <td>...</td>\n      <td>...</td>\n      <td>...</td>\n      <td>...</td>\n      <td>...</td>\n      <td>...</td>\n      <td>...</td>\n      <td>...</td>\n      <td>...</td>\n      <td>...</td>\n      <td>...</td>\n    </tr>\n    <tr>\n      <th>2630;4028</th>\n      <td>TPM2</td>\n      <td>2149079.8</td>\n      <td>1599522.0</td>\n      <td>2067257.2</td>\n      <td>1593945.1</td>\n      <td>1968964.5</td>\n      <td>1954417.0</td>\n      <td>2193545.8</td>\n      <td>1818441.5</td>\n      <td>2032629.7</td>\n      <td>...</td>\n      <td>1825918.2</td>\n      <td>2048413.5</td>\n      <td>1877639.7</td>\n      <td>3476546.6</td>\n      <td>2044167.5</td>\n      <td>2347192.2</td>\n      <td>1963483.3</td>\n      <td>3642082.0</td>\n      <td>3474800.0</td>\n      <td>ENSG00000198467</td>\n    </tr>\n    <tr>\n      <th>3074;3075</th>\n      <td>TMPO</td>\n      <td>1366240.0</td>\n      <td>1240150.0</td>\n      <td>1310350.0</td>\n      <td>1359200.0</td>\n      <td>1119360.0</td>\n      <td>1321010.0</td>\n      <td>1269360.0</td>\n      <td>1297450.0</td>\n      <td>1244880.0</td>\n      <td>...</td>\n      <td>1463830.0</td>\n      <td>1382880.0</td>\n      <td>1584690.0</td>\n      <td>1887750.0</td>\n      <td>1843980.0</td>\n      <td>1750390.0</td>\n      <td>1886770.0</td>\n      <td>2885060.0</td>\n      <td>1889890.0</td>\n      <td>ENSG00000120802</td>\n    </tr>\n    <tr>\n      <th>3281;4053</th>\n      <td>PSMD4</td>\n      <td>331080.0</td>\n      <td>296615.0</td>\n      <td>322474.0</td>\n      <td>349703.0</td>\n      <td>280905.0</td>\n      <td>336718.0</td>\n      <td>324638.0</td>\n      <td>316498.0</td>\n      <td>296653.0</td>\n      <td>...</td>\n      <td>458710.0</td>\n      <td>435810.0</td>\n      <td>447960.0</td>\n      <td>532100.0</td>\n      <td>513750.0</td>\n      <td>469430.0</td>\n      <td>512010.0</td>\n      <td>745610.0</td>\n      <td>574590.0</td>\n      <td>ENSG00000159352</td>\n    </tr>\n    <tr>\n      <th>3362;4016</th>\n      <td>HNRNPK</td>\n      <td>4932500.0</td>\n      <td>4724920.0</td>\n      <td>4736420.0</td>\n      <td>5148430.0</td>\n      <td>4114530.0</td>\n      <td>4933370.0</td>\n      <td>4656730.0</td>\n      <td>4689070.0</td>\n      <td>4110580.0</td>\n      <td>...</td>\n      <td>5232630.0</td>\n      <td>4660410.0</td>\n      <td>5595000.0</td>\n      <td>6201300.0</td>\n      <td>6694990.0</td>\n      <td>5754640.0</td>\n      <td>6839780.0</td>\n      <td>10083560.0</td>\n      <td>6647100.0</td>\n      <td>ENSG00000165119</td>\n    </tr>\n    <tr>\n      <th>3494;4000</th>\n      <td>CAP1</td>\n      <td>2047845.0</td>\n      <td>1778066.0</td>\n      <td>2132613.0</td>\n      <td>2194226.0</td>\n      <td>1927362.0</td>\n      <td>2244122.0</td>\n      <td>2145825.0</td>\n      <td>2029956.0</td>\n      <td>1867226.0</td>\n      <td>...</td>\n      <td>2197839.0</td>\n      <td>2027864.0</td>\n      <td>2038823.0</td>\n      <td>2191119.0</td>\n      <td>2268899.0</td>\n      <td>2045146.0</td>\n      <td>2167883.0</td>\n      <td>2684662.0</td>\n      <td>2694514.0</td>\n      <td>ENSG00000131236</td>\n    </tr>\n  </tbody>\n</table>\n<p>5360 rows × 50 columns</p>\n</div>"
     },
     "execution_count": 20,
     "metadata": {},
     "output_type": "execute_result"
    }
   ],
   "source": [
    "proteomic_df_unique"
   ],
   "metadata": {
    "collapsed": false,
    "pycharm": {
     "name": "#%%\n"
    }
   }
  },
  {
   "cell_type": "markdown",
   "source": [
    "We have 5360 proteins (5038 + 52)"
   ],
   "metadata": {
    "collapsed": false
   }
  },
  {
   "cell_type": "markdown",
   "source": [
    "## 5 - Var dataframe"
   ],
   "metadata": {
    "collapsed": false
   }
  },
  {
   "cell_type": "code",
   "execution_count": 21,
   "outputs": [
    {
     "data": {
      "text/plain": "                        id    short_name      organism\nMain_ensembl_id                                       \nENSG00000126653          0  NSRP1;CCDC55  Homo sapiens\nENSG00000124570          1      SERPINB6  Homo sapiens\nENSG00000115677          2         HDLBP  Homo sapiens\nENSG00000110047          3          EHD1  Homo sapiens\nENSG00000106588          4         PSMA2  Homo sapiens\n...                    ...           ...           ...\nENSG00000198467  2630;4028          TPM2  Homo sapiens\nENSG00000120802  3074;3075          TMPO  Homo sapiens\nENSG00000159352  3281;4053         PSMD4  Homo sapiens\nENSG00000165119  3362;4016        HNRNPK  Homo sapiens\nENSG00000131236  3494;4000          CAP1  Homo sapiens\n\n[5360 rows x 3 columns]",
      "text/html": "<div>\n<style scoped>\n    .dataframe tbody tr th:only-of-type {\n        vertical-align: middle;\n    }\n\n    .dataframe tbody tr th {\n        vertical-align: top;\n    }\n\n    .dataframe thead th {\n        text-align: right;\n    }\n</style>\n<table border=\"1\" class=\"dataframe\">\n  <thead>\n    <tr style=\"text-align: right;\">\n      <th></th>\n      <th>id</th>\n      <th>short_name</th>\n      <th>organism</th>\n    </tr>\n    <tr>\n      <th>Main_ensembl_id</th>\n      <th></th>\n      <th></th>\n      <th></th>\n    </tr>\n  </thead>\n  <tbody>\n    <tr>\n      <th>ENSG00000126653</th>\n      <td>0</td>\n      <td>NSRP1;CCDC55</td>\n      <td>Homo sapiens</td>\n    </tr>\n    <tr>\n      <th>ENSG00000124570</th>\n      <td>1</td>\n      <td>SERPINB6</td>\n      <td>Homo sapiens</td>\n    </tr>\n    <tr>\n      <th>ENSG00000115677</th>\n      <td>2</td>\n      <td>HDLBP</td>\n      <td>Homo sapiens</td>\n    </tr>\n    <tr>\n      <th>ENSG00000110047</th>\n      <td>3</td>\n      <td>EHD1</td>\n      <td>Homo sapiens</td>\n    </tr>\n    <tr>\n      <th>ENSG00000106588</th>\n      <td>4</td>\n      <td>PSMA2</td>\n      <td>Homo sapiens</td>\n    </tr>\n    <tr>\n      <th>...</th>\n      <td>...</td>\n      <td>...</td>\n      <td>...</td>\n    </tr>\n    <tr>\n      <th>ENSG00000198467</th>\n      <td>2630;4028</td>\n      <td>TPM2</td>\n      <td>Homo sapiens</td>\n    </tr>\n    <tr>\n      <th>ENSG00000120802</th>\n      <td>3074;3075</td>\n      <td>TMPO</td>\n      <td>Homo sapiens</td>\n    </tr>\n    <tr>\n      <th>ENSG00000159352</th>\n      <td>3281;4053</td>\n      <td>PSMD4</td>\n      <td>Homo sapiens</td>\n    </tr>\n    <tr>\n      <th>ENSG00000165119</th>\n      <td>3362;4016</td>\n      <td>HNRNPK</td>\n      <td>Homo sapiens</td>\n    </tr>\n    <tr>\n      <th>ENSG00000131236</th>\n      <td>3494;4000</td>\n      <td>CAP1</td>\n      <td>Homo sapiens</td>\n    </tr>\n  </tbody>\n</table>\n<p>5360 rows × 3 columns</p>\n</div>"
     },
     "execution_count": 21,
     "metadata": {},
     "output_type": "execute_result"
    }
   ],
   "source": [
    "proteomic_var_df = (\n",
    "    proteomic_df_unique[[\"Main_ensembl_id\", \"Gene names\"]]\n",
    "    .astype(str)\n",
    "    .reset_index()\n",
    "    .set_index(\"Main_ensembl_id\")\n",
    "    .rename(columns={\"Gene names\": \"short_name\"})\n",
    ")\n",
    "proteomic_var_df.loc[:, \"organism\"] = \"Homo sapiens\"\n",
    "proteomic_var_df"
   ],
   "metadata": {
    "collapsed": false,
    "pycharm": {
     "name": "#%%\n"
    }
   }
  },
  {
   "cell_type": "markdown",
   "source": [
    "## 6 - raw layer"
   ],
   "metadata": {
    "collapsed": false
   }
  },
  {
   "cell_type": "code",
   "execution_count": 22,
   "outputs": [
    {
     "data": {
      "text/plain": "                        id    Gene names  rawR1-WT5  rawR1-Mut5  rawR1-WT6  \\\nMain_ensembl_id                                                              \nENSG00000126653          0  NSRP1;CCDC55   112150.0    100250.0   102800.0   \nENSG00000124570          1      SERPINB6    40426.0     34249.0    44000.0   \nENSG00000115677          2         HDLBP  1351100.0   1226800.0  1524000.0   \nENSG00000110047          3          EHD1   554030.0    553380.0   627240.0   \nENSG00000106588          4         PSMA2   632690.0    614100.0   690080.0   \n...                    ...           ...        ...         ...        ...   \nENSG00000198467  2630;4028          TPM2  2149079.8   1599522.0  2067257.2   \nENSG00000120802  3074;3075          TMPO  1366240.0   1240150.0  1310350.0   \nENSG00000159352  3281;4053         PSMD4   331080.0    296615.0   322474.0   \nENSG00000165119  3362;4016        HNRNPK  4932500.0   4724920.0  4736420.0   \nENSG00000131236  3494;4000          CAP1  2047845.0   1778066.0  2132613.0   \n\n                 rawR1-Mut6  rawR1-WT7  rawR1-Mut7  rawR1-WT8  rawR1-Mut8  \\\nMain_ensembl_id                                                             \nENSG00000126653    115760.0    93172.0    115860.0   105610.0    106860.0   \nENSG00000124570     43406.0    33604.0     38418.0    42710.0     39058.0   \nENSG00000115677   1585600.0  1331200.0   1535400.0  1618700.0   1366300.0   \nENSG00000110047    689730.0   628120.0    708150.0   795010.0    671280.0   \nENSG00000106588    727490.0   587610.0    731020.0   662280.0    687820.0   \n...                     ...        ...         ...        ...         ...   \nENSG00000198467   1593945.1  1968964.5   1954417.0  2193545.8   1818441.5   \nENSG00000120802   1359200.0  1119360.0   1321010.0  1269360.0   1297450.0   \nENSG00000159352    349703.0   280905.0    336718.0   324638.0    316498.0   \nENSG00000165119   5148430.0  4114530.0   4933370.0  4656730.0   4689070.0   \nENSG00000131236   2194226.0  1927362.0   2244122.0  2145825.0   2029956.0   \n\n                 ...  rawR3-WT8  rawR3-Mut8  rawR3-WT9  rawR3-Mut9  \\\nMain_ensembl_id  ...                                                 \nENSG00000126653  ...    99239.0     96349.0    92848.0    112510.0   \nENSG00000124570  ...        NaN         NaN        NaN         NaN   \nENSG00000115677  ...  1984500.0   1697200.0  1764200.0   1653100.0   \nENSG00000110047  ...   692700.0    590670.0   679770.0    588170.0   \nENSG00000106588  ...   521490.0    540440.0   459200.0    519630.0   \n...              ...        ...         ...        ...         ...   \nENSG00000198467  ...  2259976.7   1825918.2  2048413.5   1877639.7   \nENSG00000120802  ...  1465710.0   1463830.0  1382880.0   1584690.0   \nENSG00000159352  ...   486690.0    458710.0   435810.0    447960.0   \nENSG00000165119  ...  5144430.0   5232630.0  4660410.0   5595000.0   \nENSG00000131236  ...  2338682.0   2197839.0  2027864.0   2038823.0   \n\n                 rawR3-WT10  rawR3-Mut10  rawR3-WT12  rawR3-Mut12  \\\nMain_ensembl_id                                                     \nENSG00000126653    136290.0     128080.0    118650.0     134610.0   \nENSG00000124570         NaN          NaN         NaN          NaN   \nENSG00000115677   1988400.0    1844300.0   1854200.0    1677400.0   \nENSG00000110047    776850.0     637960.0    752200.0     645690.0   \nENSG00000106588    484740.0     598120.0    485480.0     569490.0   \n...                     ...          ...         ...          ...   \nENSG00000198467   3476546.6    2044167.5   2347192.2    1963483.3   \nENSG00000120802   1887750.0    1843980.0   1750390.0    1886770.0   \nENSG00000159352    532100.0     513750.0    469430.0     512010.0   \nENSG00000165119   6201300.0    6694990.0   5754640.0    6839780.0   \nENSG00000131236   2191119.0    2268899.0   2045146.0    2167883.0   \n\n                 rawR3-Mut14  rawR3-WT14  \nMain_ensembl_id                           \nENSG00000126653     214620.0    133270.0  \nENSG00000124570          NaN         NaN  \nENSG00000115677    2280200.0   2400300.0  \nENSG00000110047     848520.0    978810.0  \nENSG00000106588     638210.0    617400.0  \n...                      ...         ...  \nENSG00000198467    3642082.0   3474800.0  \nENSG00000120802    2885060.0   1889890.0  \nENSG00000159352     745610.0    574590.0  \nENSG00000165119   10083560.0   6647100.0  \nENSG00000131236    2684662.0   2694514.0  \n\n[5360 rows x 50 columns]",
      "text/html": "<div>\n<style scoped>\n    .dataframe tbody tr th:only-of-type {\n        vertical-align: middle;\n    }\n\n    .dataframe tbody tr th {\n        vertical-align: top;\n    }\n\n    .dataframe thead th {\n        text-align: right;\n    }\n</style>\n<table border=\"1\" class=\"dataframe\">\n  <thead>\n    <tr style=\"text-align: right;\">\n      <th></th>\n      <th>id</th>\n      <th>Gene names</th>\n      <th>rawR1-WT5</th>\n      <th>rawR1-Mut5</th>\n      <th>rawR1-WT6</th>\n      <th>rawR1-Mut6</th>\n      <th>rawR1-WT7</th>\n      <th>rawR1-Mut7</th>\n      <th>rawR1-WT8</th>\n      <th>rawR1-Mut8</th>\n      <th>...</th>\n      <th>rawR3-WT8</th>\n      <th>rawR3-Mut8</th>\n      <th>rawR3-WT9</th>\n      <th>rawR3-Mut9</th>\n      <th>rawR3-WT10</th>\n      <th>rawR3-Mut10</th>\n      <th>rawR3-WT12</th>\n      <th>rawR3-Mut12</th>\n      <th>rawR3-Mut14</th>\n      <th>rawR3-WT14</th>\n    </tr>\n    <tr>\n      <th>Main_ensembl_id</th>\n      <th></th>\n      <th></th>\n      <th></th>\n      <th></th>\n      <th></th>\n      <th></th>\n      <th></th>\n      <th></th>\n      <th></th>\n      <th></th>\n      <th></th>\n      <th></th>\n      <th></th>\n      <th></th>\n      <th></th>\n      <th></th>\n      <th></th>\n      <th></th>\n      <th></th>\n      <th></th>\n      <th></th>\n    </tr>\n  </thead>\n  <tbody>\n    <tr>\n      <th>ENSG00000126653</th>\n      <td>0</td>\n      <td>NSRP1;CCDC55</td>\n      <td>112150.0</td>\n      <td>100250.0</td>\n      <td>102800.0</td>\n      <td>115760.0</td>\n      <td>93172.0</td>\n      <td>115860.0</td>\n      <td>105610.0</td>\n      <td>106860.0</td>\n      <td>...</td>\n      <td>99239.0</td>\n      <td>96349.0</td>\n      <td>92848.0</td>\n      <td>112510.0</td>\n      <td>136290.0</td>\n      <td>128080.0</td>\n      <td>118650.0</td>\n      <td>134610.0</td>\n      <td>214620.0</td>\n      <td>133270.0</td>\n    </tr>\n    <tr>\n      <th>ENSG00000124570</th>\n      <td>1</td>\n      <td>SERPINB6</td>\n      <td>40426.0</td>\n      <td>34249.0</td>\n      <td>44000.0</td>\n      <td>43406.0</td>\n      <td>33604.0</td>\n      <td>38418.0</td>\n      <td>42710.0</td>\n      <td>39058.0</td>\n      <td>...</td>\n      <td>NaN</td>\n      <td>NaN</td>\n      <td>NaN</td>\n      <td>NaN</td>\n      <td>NaN</td>\n      <td>NaN</td>\n      <td>NaN</td>\n      <td>NaN</td>\n      <td>NaN</td>\n      <td>NaN</td>\n    </tr>\n    <tr>\n      <th>ENSG00000115677</th>\n      <td>2</td>\n      <td>HDLBP</td>\n      <td>1351100.0</td>\n      <td>1226800.0</td>\n      <td>1524000.0</td>\n      <td>1585600.0</td>\n      <td>1331200.0</td>\n      <td>1535400.0</td>\n      <td>1618700.0</td>\n      <td>1366300.0</td>\n      <td>...</td>\n      <td>1984500.0</td>\n      <td>1697200.0</td>\n      <td>1764200.0</td>\n      <td>1653100.0</td>\n      <td>1988400.0</td>\n      <td>1844300.0</td>\n      <td>1854200.0</td>\n      <td>1677400.0</td>\n      <td>2280200.0</td>\n      <td>2400300.0</td>\n    </tr>\n    <tr>\n      <th>ENSG00000110047</th>\n      <td>3</td>\n      <td>EHD1</td>\n      <td>554030.0</td>\n      <td>553380.0</td>\n      <td>627240.0</td>\n      <td>689730.0</td>\n      <td>628120.0</td>\n      <td>708150.0</td>\n      <td>795010.0</td>\n      <td>671280.0</td>\n      <td>...</td>\n      <td>692700.0</td>\n      <td>590670.0</td>\n      <td>679770.0</td>\n      <td>588170.0</td>\n      <td>776850.0</td>\n      <td>637960.0</td>\n      <td>752200.0</td>\n      <td>645690.0</td>\n      <td>848520.0</td>\n      <td>978810.0</td>\n    </tr>\n    <tr>\n      <th>ENSG00000106588</th>\n      <td>4</td>\n      <td>PSMA2</td>\n      <td>632690.0</td>\n      <td>614100.0</td>\n      <td>690080.0</td>\n      <td>727490.0</td>\n      <td>587610.0</td>\n      <td>731020.0</td>\n      <td>662280.0</td>\n      <td>687820.0</td>\n      <td>...</td>\n      <td>521490.0</td>\n      <td>540440.0</td>\n      <td>459200.0</td>\n      <td>519630.0</td>\n      <td>484740.0</td>\n      <td>598120.0</td>\n      <td>485480.0</td>\n      <td>569490.0</td>\n      <td>638210.0</td>\n      <td>617400.0</td>\n    </tr>\n    <tr>\n      <th>...</th>\n      <td>...</td>\n      <td>...</td>\n      <td>...</td>\n      <td>...</td>\n      <td>...</td>\n      <td>...</td>\n      <td>...</td>\n      <td>...</td>\n      <td>...</td>\n      <td>...</td>\n      <td>...</td>\n      <td>...</td>\n      <td>...</td>\n      <td>...</td>\n      <td>...</td>\n      <td>...</td>\n      <td>...</td>\n      <td>...</td>\n      <td>...</td>\n      <td>...</td>\n      <td>...</td>\n    </tr>\n    <tr>\n      <th>ENSG00000198467</th>\n      <td>2630;4028</td>\n      <td>TPM2</td>\n      <td>2149079.8</td>\n      <td>1599522.0</td>\n      <td>2067257.2</td>\n      <td>1593945.1</td>\n      <td>1968964.5</td>\n      <td>1954417.0</td>\n      <td>2193545.8</td>\n      <td>1818441.5</td>\n      <td>...</td>\n      <td>2259976.7</td>\n      <td>1825918.2</td>\n      <td>2048413.5</td>\n      <td>1877639.7</td>\n      <td>3476546.6</td>\n      <td>2044167.5</td>\n      <td>2347192.2</td>\n      <td>1963483.3</td>\n      <td>3642082.0</td>\n      <td>3474800.0</td>\n    </tr>\n    <tr>\n      <th>ENSG00000120802</th>\n      <td>3074;3075</td>\n      <td>TMPO</td>\n      <td>1366240.0</td>\n      <td>1240150.0</td>\n      <td>1310350.0</td>\n      <td>1359200.0</td>\n      <td>1119360.0</td>\n      <td>1321010.0</td>\n      <td>1269360.0</td>\n      <td>1297450.0</td>\n      <td>...</td>\n      <td>1465710.0</td>\n      <td>1463830.0</td>\n      <td>1382880.0</td>\n      <td>1584690.0</td>\n      <td>1887750.0</td>\n      <td>1843980.0</td>\n      <td>1750390.0</td>\n      <td>1886770.0</td>\n      <td>2885060.0</td>\n      <td>1889890.0</td>\n    </tr>\n    <tr>\n      <th>ENSG00000159352</th>\n      <td>3281;4053</td>\n      <td>PSMD4</td>\n      <td>331080.0</td>\n      <td>296615.0</td>\n      <td>322474.0</td>\n      <td>349703.0</td>\n      <td>280905.0</td>\n      <td>336718.0</td>\n      <td>324638.0</td>\n      <td>316498.0</td>\n      <td>...</td>\n      <td>486690.0</td>\n      <td>458710.0</td>\n      <td>435810.0</td>\n      <td>447960.0</td>\n      <td>532100.0</td>\n      <td>513750.0</td>\n      <td>469430.0</td>\n      <td>512010.0</td>\n      <td>745610.0</td>\n      <td>574590.0</td>\n    </tr>\n    <tr>\n      <th>ENSG00000165119</th>\n      <td>3362;4016</td>\n      <td>HNRNPK</td>\n      <td>4932500.0</td>\n      <td>4724920.0</td>\n      <td>4736420.0</td>\n      <td>5148430.0</td>\n      <td>4114530.0</td>\n      <td>4933370.0</td>\n      <td>4656730.0</td>\n      <td>4689070.0</td>\n      <td>...</td>\n      <td>5144430.0</td>\n      <td>5232630.0</td>\n      <td>4660410.0</td>\n      <td>5595000.0</td>\n      <td>6201300.0</td>\n      <td>6694990.0</td>\n      <td>5754640.0</td>\n      <td>6839780.0</td>\n      <td>10083560.0</td>\n      <td>6647100.0</td>\n    </tr>\n    <tr>\n      <th>ENSG00000131236</th>\n      <td>3494;4000</td>\n      <td>CAP1</td>\n      <td>2047845.0</td>\n      <td>1778066.0</td>\n      <td>2132613.0</td>\n      <td>2194226.0</td>\n      <td>1927362.0</td>\n      <td>2244122.0</td>\n      <td>2145825.0</td>\n      <td>2029956.0</td>\n      <td>...</td>\n      <td>2338682.0</td>\n      <td>2197839.0</td>\n      <td>2027864.0</td>\n      <td>2038823.0</td>\n      <td>2191119.0</td>\n      <td>2268899.0</td>\n      <td>2045146.0</td>\n      <td>2167883.0</td>\n      <td>2684662.0</td>\n      <td>2694514.0</td>\n    </tr>\n  </tbody>\n</table>\n<p>5360 rows × 50 columns</p>\n</div>"
     },
     "execution_count": 22,
     "metadata": {},
     "output_type": "execute_result"
    }
   ],
   "source": [
    "proteomic_raw_df = proteomic_df_unique.reset_index()\n",
    "proteomic_raw_df = proteomic_raw_df.set_index(\"Main_ensembl_id\")\n",
    "proteomic_raw_df\n"
   ],
   "metadata": {
    "collapsed": false,
    "pycharm": {
     "name": "#%%\n"
    }
   }
  },
  {
   "cell_type": "markdown",
   "source": [
    "## 7 - Mean layer"
   ],
   "metadata": {
    "collapsed": false
   }
  },
  {
   "cell_type": "markdown",
   "source": [
    "For WT cells"
   ],
   "metadata": {
    "collapsed": false
   }
  },
  {
   "cell_type": "code",
   "execution_count": 23,
   "outputs": [],
   "source": [
    "for cond in [\"5\", \"6\", \"7\", \"8\", \"9\", \"10\", \"12\", \"14\"]:\n",
    "    proteomic_rep = proteomic_raw_df[\n",
    "        proteomic_raw_df.columns[((proteomic_raw_df.columns.str[8:] == cond) == True)]\n",
    "    ]\n",
    "\n",
    "    # If just 1 value\n",
    "    proteomic_rep_na = proteomic_rep[\n",
    "        (proteomic_rep.isna().sum(axis=1) >= 2) == True\n",
    "    ].copy()\n",
    "    proteomic_rep_na.loc[:, \"mean_WT\" + cond] = \"NaN\"\n",
    "    proteomic_rep_na = proteomic_rep_na[[\"mean_WT\" + cond]]\n",
    "    ## If 2 or 3 values\n",
    "    proteomic_rep_val = proteomic_rep[\n",
    "        (proteomic_rep.isna().sum(axis=1) <= 1) == True\n",
    "    ].copy()\n",
    "    proteomic_rep_val.loc[:, \"mean_WT\" + cond] = proteomic_rep_val.mean(axis=1)\n",
    "    proteomic_rep_val = proteomic_rep_val[[\"mean_WT\" + cond]]\n",
    "    proteomic_rep_raw = pd.concat([proteomic_rep_val, proteomic_rep_na]).reset_index()\n",
    "    proteomic_raw_df = proteomic_raw_df.merge(\n",
    "        proteomic_rep_raw, left_on=\"Main_ensembl_id\", right_on=\"Main_ensembl_id\"\n",
    "    ).set_index(\"Main_ensembl_id\")"
   ],
   "metadata": {
    "collapsed": false,
    "pycharm": {
     "name": "#%%\n"
    }
   }
  },
  {
   "cell_type": "markdown",
   "source": [
    "For Mutant cells"
   ],
   "metadata": {
    "collapsed": false
   }
  },
  {
   "cell_type": "code",
   "execution_count": 24,
   "outputs": [],
   "source": [
    "for cond in [\"5\", \"6\", \"7\", \"8\", \"9\", \"10\", \"12\", \"14\"]:\n",
    "    proteomic_rep = proteomic_raw_df[\n",
    "        proteomic_raw_df.columns[((proteomic_raw_df.columns.str[9:] == cond) == True)]\n",
    "    ]\n",
    "\n",
    "    # If just 1 value\n",
    "    proteomic_rep_na = proteomic_rep[\n",
    "        (proteomic_rep.isna().sum(axis=1) >= 2) == True\n",
    "    ].copy()\n",
    "    proteomic_rep_na.loc[:, \"mean_Mu\" + cond] = \"NaN\"\n",
    "    proteomic_rep_na = proteomic_rep_na[[\"mean_Mu\" + cond]]\n",
    "    ## If 2 or 3 values\n",
    "    proteomic_rep_val = proteomic_rep[\n",
    "        (proteomic_rep.isna().sum(axis=1) <= 1) == True\n",
    "    ].copy()\n",
    "    proteomic_rep_val.loc[:, \"mean_Mu\" + cond] = proteomic_rep_val.mean(axis=1)\n",
    "    proteomic_rep_val = proteomic_rep_val[[\"mean_Mu\" + cond]]\n",
    "    proteomic_rep_raw = pd.concat([proteomic_rep_val, proteomic_rep_na]).reset_index()\n",
    "    proteomic_raw_df = proteomic_raw_df.merge(\n",
    "        proteomic_rep_raw, left_on=\"Main_ensembl_id\", right_on=\"Main_ensembl_id\"\n",
    "    ).set_index(\"Main_ensembl_id\")"
   ],
   "metadata": {
    "collapsed": false,
    "pycharm": {
     "name": "#%%\n"
    }
   }
  },
  {
   "cell_type": "code",
   "execution_count": 25,
   "outputs": [
    {
     "data": {
      "text/plain": "                        id    Gene names  rawR1-WT5  rawR1-Mut5  rawR1-WT6  \\\nMain_ensembl_id                                                              \nENSG00000126653          0  NSRP1;CCDC55   112150.0    100250.0   102800.0   \nENSG00000124570          1      SERPINB6    40426.0     34249.0    44000.0   \nENSG00000115677          2         HDLBP  1351100.0   1226800.0  1524000.0   \nENSG00000110047          3          EHD1   554030.0    553380.0   627240.0   \nENSG00000106588          4         PSMA2   632690.0    614100.0   690080.0   \n...                    ...           ...        ...         ...        ...   \nENSG00000198467  2630;4028          TPM2  2149079.8   1599522.0  2067257.2   \nENSG00000120802  3074;3075          TMPO  1366240.0   1240150.0  1310350.0   \nENSG00000159352  3281;4053         PSMD4   331080.0    296615.0   322474.0   \nENSG00000165119  3362;4016        HNRNPK  4932500.0   4724920.0  4736420.0   \nENSG00000131236  3494;4000          CAP1  2047845.0   1778066.0  2132613.0   \n\n                 rawR1-Mut6  rawR1-WT7  rawR1-Mut7  rawR1-WT8  rawR1-Mut8  \\\nMain_ensembl_id                                                             \nENSG00000126653    115760.0    93172.0    115860.0   105610.0    106860.0   \nENSG00000124570     43406.0    33604.0     38418.0    42710.0     39058.0   \nENSG00000115677   1585600.0  1331200.0   1535400.0  1618700.0   1366300.0   \nENSG00000110047    689730.0   628120.0    708150.0   795010.0    671280.0   \nENSG00000106588    727490.0   587610.0    731020.0   662280.0    687820.0   \n...                     ...        ...         ...        ...         ...   \nENSG00000198467   1593945.1  1968964.5   1954417.0  2193545.8   1818441.5   \nENSG00000120802   1359200.0  1119360.0   1321010.0  1269360.0   1297450.0   \nENSG00000159352    349703.0   280905.0    336718.0   324638.0    316498.0   \nENSG00000165119   5148430.0  4114530.0   4933370.0  4656730.0   4689070.0   \nENSG00000131236   2194226.0  1927362.0   2244122.0  2145825.0   2029956.0   \n\n                 ...       mean_WT12       mean_WT14        mean_Mu5  \\\nMain_ensembl_id  ...                                                   \nENSG00000126653  ...        125880.0   143576.666667    99497.666667   \nENSG00000124570  ...             NaN             NaN             NaN   \nENSG00000115677  ...       1528600.0  1929033.333333  1216723.333333   \nENSG00000110047  ...   811043.333333  1040583.333333   489693.333333   \nENSG00000106588  ...   522066.666667        663040.0   521756.666667   \n...              ...             ...             ...             ...   \nENSG00000198467  ...       2028406.4  2988677.933333       1410389.9   \nENSG00000120802  ...       1671230.0  1784236.666667  1340403.333333   \nENSG00000159352  ...   378179.333333   461521.333333   340171.666667   \nENSG00000165119  ...  5211076.666667  6037593.333333  4854566.666667   \nENSG00000131236  ...  1924111.333333  2528436.333333  1840094.333333   \n\n                       mean_Mu6        mean_Mu7        mean_Mu8  \\\nMain_ensembl_id                                                   \nENSG00000126653   121156.666667        115850.0   107396.333333   \nENSG00000124570             NaN             NaN             NaN   \nENSG00000115677       1568000.0  1511333.333333  1364966.666667   \nENSG00000110047        629270.0   658883.333333   610393.333333   \nENSG00000106588   620983.333333   626043.333333   585156.666667   \n...                         ...             ...             ...   \nENSG00000198467       1424793.3  1739281.033333  1614441.966667   \nENSG00000120802  1458496.666667       1404260.0       1374850.0   \nENSG00000159352   396224.333333   380219.333333   365522.666667   \nENSG00000165119       5135550.0       4984850.0  4778246.666667   \nENSG00000131236  2226219.333333  2289256.333333       2051580.0   \n\n                       mean_Mu9       mean_Mu10       mean_Mu12  \\\nMain_ensembl_id                                                   \nENSG00000126653        120460.0        137650.0   140793.333333   \nENSG00000124570             NaN             NaN             NaN   \nENSG00000115677  1329723.333333       1484700.0  1361033.333333   \nENSG00000110047   608383.333333   673286.666667        693680.0   \nENSG00000106588        563710.0   657853.333333   622463.333333   \n...                         ...             ...             ...   \nENSG00000198467  1642366.833333  1803812.866667  1724218.933333   \nENSG00000120802  1520496.666667  1764993.333333       1800810.0   \nENSG00000159352        366679.0   422636.333333   412729.666667   \nENSG00000165119       5111400.0       6153990.0  6323986.666667   \nENSG00000131236  1908631.666667  2114740.666667       2011809.0   \n\n                      mean_Mu14  \nMain_ensembl_id                  \nENSG00000126653        238420.0  \nENSG00000124570             NaN  \nENSG00000115677  1850533.333333  \nENSG00000110047        927080.0  \nENSG00000106588        696580.0  \n...                         ...  \nENSG00000198467  3046555.533333  \nENSG00000120802       2752200.0  \nENSG00000159352   592955.333333  \nENSG00000165119       9321500.0  \nENSG00000131236  2498996.333333  \n\n[5360 rows x 66 columns]",
      "text/html": "<div>\n<style scoped>\n    .dataframe tbody tr th:only-of-type {\n        vertical-align: middle;\n    }\n\n    .dataframe tbody tr th {\n        vertical-align: top;\n    }\n\n    .dataframe thead th {\n        text-align: right;\n    }\n</style>\n<table border=\"1\" class=\"dataframe\">\n  <thead>\n    <tr style=\"text-align: right;\">\n      <th></th>\n      <th>id</th>\n      <th>Gene names</th>\n      <th>rawR1-WT5</th>\n      <th>rawR1-Mut5</th>\n      <th>rawR1-WT6</th>\n      <th>rawR1-Mut6</th>\n      <th>rawR1-WT7</th>\n      <th>rawR1-Mut7</th>\n      <th>rawR1-WT8</th>\n      <th>rawR1-Mut8</th>\n      <th>...</th>\n      <th>mean_WT12</th>\n      <th>mean_WT14</th>\n      <th>mean_Mu5</th>\n      <th>mean_Mu6</th>\n      <th>mean_Mu7</th>\n      <th>mean_Mu8</th>\n      <th>mean_Mu9</th>\n      <th>mean_Mu10</th>\n      <th>mean_Mu12</th>\n      <th>mean_Mu14</th>\n    </tr>\n    <tr>\n      <th>Main_ensembl_id</th>\n      <th></th>\n      <th></th>\n      <th></th>\n      <th></th>\n      <th></th>\n      <th></th>\n      <th></th>\n      <th></th>\n      <th></th>\n      <th></th>\n      <th></th>\n      <th></th>\n      <th></th>\n      <th></th>\n      <th></th>\n      <th></th>\n      <th></th>\n      <th></th>\n      <th></th>\n      <th></th>\n      <th></th>\n    </tr>\n  </thead>\n  <tbody>\n    <tr>\n      <th>ENSG00000126653</th>\n      <td>0</td>\n      <td>NSRP1;CCDC55</td>\n      <td>112150.0</td>\n      <td>100250.0</td>\n      <td>102800.0</td>\n      <td>115760.0</td>\n      <td>93172.0</td>\n      <td>115860.0</td>\n      <td>105610.0</td>\n      <td>106860.0</td>\n      <td>...</td>\n      <td>125880.0</td>\n      <td>143576.666667</td>\n      <td>99497.666667</td>\n      <td>121156.666667</td>\n      <td>115850.0</td>\n      <td>107396.333333</td>\n      <td>120460.0</td>\n      <td>137650.0</td>\n      <td>140793.333333</td>\n      <td>238420.0</td>\n    </tr>\n    <tr>\n      <th>ENSG00000124570</th>\n      <td>1</td>\n      <td>SERPINB6</td>\n      <td>40426.0</td>\n      <td>34249.0</td>\n      <td>44000.0</td>\n      <td>43406.0</td>\n      <td>33604.0</td>\n      <td>38418.0</td>\n      <td>42710.0</td>\n      <td>39058.0</td>\n      <td>...</td>\n      <td>NaN</td>\n      <td>NaN</td>\n      <td>NaN</td>\n      <td>NaN</td>\n      <td>NaN</td>\n      <td>NaN</td>\n      <td>NaN</td>\n      <td>NaN</td>\n      <td>NaN</td>\n      <td>NaN</td>\n    </tr>\n    <tr>\n      <th>ENSG00000115677</th>\n      <td>2</td>\n      <td>HDLBP</td>\n      <td>1351100.0</td>\n      <td>1226800.0</td>\n      <td>1524000.0</td>\n      <td>1585600.0</td>\n      <td>1331200.0</td>\n      <td>1535400.0</td>\n      <td>1618700.0</td>\n      <td>1366300.0</td>\n      <td>...</td>\n      <td>1528600.0</td>\n      <td>1929033.333333</td>\n      <td>1216723.333333</td>\n      <td>1568000.0</td>\n      <td>1511333.333333</td>\n      <td>1364966.666667</td>\n      <td>1329723.333333</td>\n      <td>1484700.0</td>\n      <td>1361033.333333</td>\n      <td>1850533.333333</td>\n    </tr>\n    <tr>\n      <th>ENSG00000110047</th>\n      <td>3</td>\n      <td>EHD1</td>\n      <td>554030.0</td>\n      <td>553380.0</td>\n      <td>627240.0</td>\n      <td>689730.0</td>\n      <td>628120.0</td>\n      <td>708150.0</td>\n      <td>795010.0</td>\n      <td>671280.0</td>\n      <td>...</td>\n      <td>811043.333333</td>\n      <td>1040583.333333</td>\n      <td>489693.333333</td>\n      <td>629270.0</td>\n      <td>658883.333333</td>\n      <td>610393.333333</td>\n      <td>608383.333333</td>\n      <td>673286.666667</td>\n      <td>693680.0</td>\n      <td>927080.0</td>\n    </tr>\n    <tr>\n      <th>ENSG00000106588</th>\n      <td>4</td>\n      <td>PSMA2</td>\n      <td>632690.0</td>\n      <td>614100.0</td>\n      <td>690080.0</td>\n      <td>727490.0</td>\n      <td>587610.0</td>\n      <td>731020.0</td>\n      <td>662280.0</td>\n      <td>687820.0</td>\n      <td>...</td>\n      <td>522066.666667</td>\n      <td>663040.0</td>\n      <td>521756.666667</td>\n      <td>620983.333333</td>\n      <td>626043.333333</td>\n      <td>585156.666667</td>\n      <td>563710.0</td>\n      <td>657853.333333</td>\n      <td>622463.333333</td>\n      <td>696580.0</td>\n    </tr>\n    <tr>\n      <th>...</th>\n      <td>...</td>\n      <td>...</td>\n      <td>...</td>\n      <td>...</td>\n      <td>...</td>\n      <td>...</td>\n      <td>...</td>\n      <td>...</td>\n      <td>...</td>\n      <td>...</td>\n      <td>...</td>\n      <td>...</td>\n      <td>...</td>\n      <td>...</td>\n      <td>...</td>\n      <td>...</td>\n      <td>...</td>\n      <td>...</td>\n      <td>...</td>\n      <td>...</td>\n      <td>...</td>\n    </tr>\n    <tr>\n      <th>ENSG00000198467</th>\n      <td>2630;4028</td>\n      <td>TPM2</td>\n      <td>2149079.8</td>\n      <td>1599522.0</td>\n      <td>2067257.2</td>\n      <td>1593945.1</td>\n      <td>1968964.5</td>\n      <td>1954417.0</td>\n      <td>2193545.8</td>\n      <td>1818441.5</td>\n      <td>...</td>\n      <td>2028406.4</td>\n      <td>2988677.933333</td>\n      <td>1410389.9</td>\n      <td>1424793.3</td>\n      <td>1739281.033333</td>\n      <td>1614441.966667</td>\n      <td>1642366.833333</td>\n      <td>1803812.866667</td>\n      <td>1724218.933333</td>\n      <td>3046555.533333</td>\n    </tr>\n    <tr>\n      <th>ENSG00000120802</th>\n      <td>3074;3075</td>\n      <td>TMPO</td>\n      <td>1366240.0</td>\n      <td>1240150.0</td>\n      <td>1310350.0</td>\n      <td>1359200.0</td>\n      <td>1119360.0</td>\n      <td>1321010.0</td>\n      <td>1269360.0</td>\n      <td>1297450.0</td>\n      <td>...</td>\n      <td>1671230.0</td>\n      <td>1784236.666667</td>\n      <td>1340403.333333</td>\n      <td>1458496.666667</td>\n      <td>1404260.0</td>\n      <td>1374850.0</td>\n      <td>1520496.666667</td>\n      <td>1764993.333333</td>\n      <td>1800810.0</td>\n      <td>2752200.0</td>\n    </tr>\n    <tr>\n      <th>ENSG00000159352</th>\n      <td>3281;4053</td>\n      <td>PSMD4</td>\n      <td>331080.0</td>\n      <td>296615.0</td>\n      <td>322474.0</td>\n      <td>349703.0</td>\n      <td>280905.0</td>\n      <td>336718.0</td>\n      <td>324638.0</td>\n      <td>316498.0</td>\n      <td>...</td>\n      <td>378179.333333</td>\n      <td>461521.333333</td>\n      <td>340171.666667</td>\n      <td>396224.333333</td>\n      <td>380219.333333</td>\n      <td>365522.666667</td>\n      <td>366679.0</td>\n      <td>422636.333333</td>\n      <td>412729.666667</td>\n      <td>592955.333333</td>\n    </tr>\n    <tr>\n      <th>ENSG00000165119</th>\n      <td>3362;4016</td>\n      <td>HNRNPK</td>\n      <td>4932500.0</td>\n      <td>4724920.0</td>\n      <td>4736420.0</td>\n      <td>5148430.0</td>\n      <td>4114530.0</td>\n      <td>4933370.0</td>\n      <td>4656730.0</td>\n      <td>4689070.0</td>\n      <td>...</td>\n      <td>5211076.666667</td>\n      <td>6037593.333333</td>\n      <td>4854566.666667</td>\n      <td>5135550.0</td>\n      <td>4984850.0</td>\n      <td>4778246.666667</td>\n      <td>5111400.0</td>\n      <td>6153990.0</td>\n      <td>6323986.666667</td>\n      <td>9321500.0</td>\n    </tr>\n    <tr>\n      <th>ENSG00000131236</th>\n      <td>3494;4000</td>\n      <td>CAP1</td>\n      <td>2047845.0</td>\n      <td>1778066.0</td>\n      <td>2132613.0</td>\n      <td>2194226.0</td>\n      <td>1927362.0</td>\n      <td>2244122.0</td>\n      <td>2145825.0</td>\n      <td>2029956.0</td>\n      <td>...</td>\n      <td>1924111.333333</td>\n      <td>2528436.333333</td>\n      <td>1840094.333333</td>\n      <td>2226219.333333</td>\n      <td>2289256.333333</td>\n      <td>2051580.0</td>\n      <td>1908631.666667</td>\n      <td>2114740.666667</td>\n      <td>2011809.0</td>\n      <td>2498996.333333</td>\n    </tr>\n  </tbody>\n</table>\n<p>5360 rows × 66 columns</p>\n</div>"
     },
     "execution_count": 25,
     "metadata": {},
     "output_type": "execute_result"
    }
   ],
   "source": [
    "proteomic_raw_df"
   ],
   "metadata": {
    "collapsed": false,
    "pycharm": {
     "name": "#%%\n"
    }
   }
  },
  {
   "cell_type": "code",
   "execution_count": 26,
   "outputs": [
    {
     "data": {
      "text/plain": "Main_ensembl_id ENSG00000126653 ENSG00000124570 ENSG00000115677  \\\nCell_type                                                         \nWT                115223.333333             NaN  1342333.333333   \nWT                115546.666667             NaN       1521900.0   \nWT                 98533.333333             NaN       1323300.0   \nWT                     113793.0             NaN  1606833.333333   \nWT                     104280.0             NaN  1435833.333333   \nWT                148806.666667             NaN       1619400.0   \nWT                     125880.0             NaN       1528600.0   \nWT                143576.666667             NaN  1929033.333333   \nMu                 99497.666667             NaN  1216723.333333   \nMu                121156.666667             NaN       1568000.0   \nMu                     115850.0             NaN  1511333.333333   \nMu                107396.333333             NaN  1364966.666667   \nMu                     120460.0             NaN  1329723.333333   \nMu                     137650.0             NaN       1484700.0   \nMu                140793.333333             NaN  1361033.333333   \nMu                     238420.0             NaN  1850533.333333   \n\nMain_ensembl_id ENSG00000110047 ENSG00000106588 ENSG00000011007  \\\nCell_type                                                         \nWT                519633.333333        529030.0    56806.666667   \nWT                578723.333333   586206.666667    57049.333333   \nWT                586043.333333   505453.333333    51996.333333   \nWT                     725820.0   564583.333333         59662.0   \nWT                717343.333333   502106.666667    53197.666667   \nWT                820133.333333        526530.0    73354.666667   \nWT                811043.333333   522066.666667    63800.333333   \nWT               1040583.333333        663040.0    71504.666667   \nMu                489693.333333   521756.666667    53170.333333   \nMu                     629270.0   620983.333333    58397.666667   \nMu                658883.333333   626043.333333    60331.666667   \nMu                610393.333333   585156.666667    56645.666667   \nMu                608383.333333        563710.0         63414.0   \nMu                673286.666667   657853.333333         71928.0   \nMu                     693680.0   622463.333333    67810.666667   \nMu                     927080.0        696580.0   103134.333333   \n\nMain_ensembl_id ENSG00000184047 ENSG00000204463 ENSG00000101974  \\\nCell_type                                                         \nWT                     128469.0   653866.666667         44157.5   \nWT                147017.333333        704560.0         55676.5   \nWT                119352.666667   572913.333333         45193.0   \nWT                156599.333333   666943.333333         58592.0   \nWT                147283.666667        615010.0         50895.0   \nWT                     207490.0        761780.0         62390.5   \nWT                166141.666667        745690.0         62122.0   \nWT                211233.333333        866370.0         76912.0   \nMu                127722.666667   633516.666667         43149.5   \nMu                158869.666667   784453.333333         60037.5   \nMu                     156658.0   731076.666667         56974.5   \nMu                146465.666667   648163.333333         53222.5   \nMu                165979.333333        676740.0         53559.0   \nMu                191756.666667        787640.0         64556.0   \nMu                198803.333333   767766.666667         60326.5   \nMu                324696.666667       1081200.0         77807.0   \n\nMain_ensembl_id ENSG00000144560  ...  ENSG00000167004 ENSG00000067955  \\\nCell_type                        ...                                    \nWT                      20133.0  ...        8698420.0   385000.333333   \nWT                      24945.0  ...   8398763.333333   420642.666667   \nWT                      21150.0  ...        6901480.0   389426.666667   \nWT                      23207.0  ...   8426196.666667        449403.0   \nWT                      22463.0  ...        7921960.0   382891.666667   \nWT                      26798.0  ...  11865903.333333   501809.333333   \nWT                      26014.5  ...  10913756.666667   431448.666667   \nWT                      29110.5  ...  12501663.333333   511669.333333   \nMu                      21710.0  ...   7822283.333333   335707.666667   \nMu                      25406.0  ...   8533106.666667   408411.666667   \nMu                      28155.0  ...   7397336.666667   446662.666667   \nMu                      27426.0  ...   6788813.333333   439461.333333   \nMu                      26392.5  ...   7355086.666667   446785.333333   \nMu                      29084.0  ...        7998160.0   535975.666667   \nMu                      27712.5  ...   8241513.333333        557893.0   \nMu                      38845.0  ...  13774273.333333   807275.333333   \n\nMain_ensembl_id ENSG00000134440 ENSG00000127527 ENSG00000104833  \\\nCell_type                                                         \nWT                    1337760.0   351078.666667    22603.333333   \nWT               1447163.333333   390998.333333    22852.666667   \nWT                    1183470.0   332227.333333    16308.333333   \nWT               1358206.666667        391372.0    20739.333333   \nWT               1137165.666667   366243.666667         19891.0   \nWT               1197578.333333        474435.0    23543.666667   \nWT                    1045498.0   429095.666667         23479.0   \nWT                    1344120.0   525599.333333    26544.666667   \nMu                    1236230.0   355379.666667    25782.333333   \nMu               1583526.666667   421089.333333         31164.0   \nMu                    1494560.0        412233.0    25487.666667   \nMu               1273406.666667   386443.333333    23206.666667   \nMu               1159513.333333        419373.0    23503.333333   \nMu               1311353.333333        493679.0    29691.333333   \nMu               1207109.333333   478564.666667         26772.0   \nMu               1533653.333333        690056.0         35369.0   \n\nMain_ensembl_id ENSG00000198467 ENSG00000120802 ENSG00000159352  \\\nCell_type                                                         \nWT               1920295.266667  1468016.666667   387093.333333   \nWT               1857119.566667  1404506.666667   361831.333333   \nWT               1751725.566667       1218740.0        327035.0   \nWT               1970926.766667  1368843.333333        383796.0   \nWT                    1815521.7  1323923.333333   345177.666667   \nWT               2969957.566667  1793303.333333   427224.666667   \nWT                    2028406.4       1671230.0   378179.333333   \nWT               2988677.933333  1784236.666667   461521.333333   \nMu                    1410389.9  1340403.333333   340171.666667   \nMu                    1424793.3  1458496.666667   396224.333333   \nMu               1739281.033333       1404260.0   380219.333333   \nMu               1614441.966667       1374850.0   365522.666667   \nMu               1642366.833333  1520496.666667        366679.0   \nMu               1803812.866667  1764993.333333   422636.333333   \nMu               1724218.933333       1800810.0   412729.666667   \nMu               3046555.533333       2752200.0   592955.333333   \n\nMain_ensembl_id ENSG00000165119 ENSG00000131236  \nCell_type                                        \nWT                    5017060.0  2078241.333333  \nWT               4807766.666667       2174395.0  \nWT               4246986.666667  1957941.666667  \nWT               4750576.666667  2188630.333333  \nWT               4259006.666667  1903559.666667  \nWT                    5657190.0  2079389.666667  \nWT               5211076.666667  1924111.333333  \nWT               6037593.333333  2528436.333333  \nMu               4854566.666667  1840094.333333  \nMu                    5135550.0  2226219.333333  \nMu                    4984850.0  2289256.333333  \nMu               4778246.666667       2051580.0  \nMu                    5111400.0  1908631.666667  \nMu                    6153990.0  2114740.666667  \nMu               6323986.666667       2011809.0  \nMu                    9321500.0  2498996.333333  \n\n[16 rows x 5360 columns]",
      "text/html": "<div>\n<style scoped>\n    .dataframe tbody tr th:only-of-type {\n        vertical-align: middle;\n    }\n\n    .dataframe tbody tr th {\n        vertical-align: top;\n    }\n\n    .dataframe thead th {\n        text-align: right;\n    }\n</style>\n<table border=\"1\" class=\"dataframe\">\n  <thead>\n    <tr style=\"text-align: right;\">\n      <th>Main_ensembl_id</th>\n      <th>ENSG00000126653</th>\n      <th>ENSG00000124570</th>\n      <th>ENSG00000115677</th>\n      <th>ENSG00000110047</th>\n      <th>ENSG00000106588</th>\n      <th>ENSG00000011007</th>\n      <th>ENSG00000184047</th>\n      <th>ENSG00000204463</th>\n      <th>ENSG00000101974</th>\n      <th>ENSG00000144560</th>\n      <th>...</th>\n      <th>ENSG00000167004</th>\n      <th>ENSG00000067955</th>\n      <th>ENSG00000134440</th>\n      <th>ENSG00000127527</th>\n      <th>ENSG00000104833</th>\n      <th>ENSG00000198467</th>\n      <th>ENSG00000120802</th>\n      <th>ENSG00000159352</th>\n      <th>ENSG00000165119</th>\n      <th>ENSG00000131236</th>\n    </tr>\n    <tr>\n      <th>Cell_type</th>\n      <th></th>\n      <th></th>\n      <th></th>\n      <th></th>\n      <th></th>\n      <th></th>\n      <th></th>\n      <th></th>\n      <th></th>\n      <th></th>\n      <th></th>\n      <th></th>\n      <th></th>\n      <th></th>\n      <th></th>\n      <th></th>\n      <th></th>\n      <th></th>\n      <th></th>\n      <th></th>\n      <th></th>\n    </tr>\n  </thead>\n  <tbody>\n    <tr>\n      <th>WT</th>\n      <td>115223.333333</td>\n      <td>NaN</td>\n      <td>1342333.333333</td>\n      <td>519633.333333</td>\n      <td>529030.0</td>\n      <td>56806.666667</td>\n      <td>128469.0</td>\n      <td>653866.666667</td>\n      <td>44157.5</td>\n      <td>20133.0</td>\n      <td>...</td>\n      <td>8698420.0</td>\n      <td>385000.333333</td>\n      <td>1337760.0</td>\n      <td>351078.666667</td>\n      <td>22603.333333</td>\n      <td>1920295.266667</td>\n      <td>1468016.666667</td>\n      <td>387093.333333</td>\n      <td>5017060.0</td>\n      <td>2078241.333333</td>\n    </tr>\n    <tr>\n      <th>WT</th>\n      <td>115546.666667</td>\n      <td>NaN</td>\n      <td>1521900.0</td>\n      <td>578723.333333</td>\n      <td>586206.666667</td>\n      <td>57049.333333</td>\n      <td>147017.333333</td>\n      <td>704560.0</td>\n      <td>55676.5</td>\n      <td>24945.0</td>\n      <td>...</td>\n      <td>8398763.333333</td>\n      <td>420642.666667</td>\n      <td>1447163.333333</td>\n      <td>390998.333333</td>\n      <td>22852.666667</td>\n      <td>1857119.566667</td>\n      <td>1404506.666667</td>\n      <td>361831.333333</td>\n      <td>4807766.666667</td>\n      <td>2174395.0</td>\n    </tr>\n    <tr>\n      <th>WT</th>\n      <td>98533.333333</td>\n      <td>NaN</td>\n      <td>1323300.0</td>\n      <td>586043.333333</td>\n      <td>505453.333333</td>\n      <td>51996.333333</td>\n      <td>119352.666667</td>\n      <td>572913.333333</td>\n      <td>45193.0</td>\n      <td>21150.0</td>\n      <td>...</td>\n      <td>6901480.0</td>\n      <td>389426.666667</td>\n      <td>1183470.0</td>\n      <td>332227.333333</td>\n      <td>16308.333333</td>\n      <td>1751725.566667</td>\n      <td>1218740.0</td>\n      <td>327035.0</td>\n      <td>4246986.666667</td>\n      <td>1957941.666667</td>\n    </tr>\n    <tr>\n      <th>WT</th>\n      <td>113793.0</td>\n      <td>NaN</td>\n      <td>1606833.333333</td>\n      <td>725820.0</td>\n      <td>564583.333333</td>\n      <td>59662.0</td>\n      <td>156599.333333</td>\n      <td>666943.333333</td>\n      <td>58592.0</td>\n      <td>23207.0</td>\n      <td>...</td>\n      <td>8426196.666667</td>\n      <td>449403.0</td>\n      <td>1358206.666667</td>\n      <td>391372.0</td>\n      <td>20739.333333</td>\n      <td>1970926.766667</td>\n      <td>1368843.333333</td>\n      <td>383796.0</td>\n      <td>4750576.666667</td>\n      <td>2188630.333333</td>\n    </tr>\n    <tr>\n      <th>WT</th>\n      <td>104280.0</td>\n      <td>NaN</td>\n      <td>1435833.333333</td>\n      <td>717343.333333</td>\n      <td>502106.666667</td>\n      <td>53197.666667</td>\n      <td>147283.666667</td>\n      <td>615010.0</td>\n      <td>50895.0</td>\n      <td>22463.0</td>\n      <td>...</td>\n      <td>7921960.0</td>\n      <td>382891.666667</td>\n      <td>1137165.666667</td>\n      <td>366243.666667</td>\n      <td>19891.0</td>\n      <td>1815521.7</td>\n      <td>1323923.333333</td>\n      <td>345177.666667</td>\n      <td>4259006.666667</td>\n      <td>1903559.666667</td>\n    </tr>\n    <tr>\n      <th>WT</th>\n      <td>148806.666667</td>\n      <td>NaN</td>\n      <td>1619400.0</td>\n      <td>820133.333333</td>\n      <td>526530.0</td>\n      <td>73354.666667</td>\n      <td>207490.0</td>\n      <td>761780.0</td>\n      <td>62390.5</td>\n      <td>26798.0</td>\n      <td>...</td>\n      <td>11865903.333333</td>\n      <td>501809.333333</td>\n      <td>1197578.333333</td>\n      <td>474435.0</td>\n      <td>23543.666667</td>\n      <td>2969957.566667</td>\n      <td>1793303.333333</td>\n      <td>427224.666667</td>\n      <td>5657190.0</td>\n      <td>2079389.666667</td>\n    </tr>\n    <tr>\n      <th>WT</th>\n      <td>125880.0</td>\n      <td>NaN</td>\n      <td>1528600.0</td>\n      <td>811043.333333</td>\n      <td>522066.666667</td>\n      <td>63800.333333</td>\n      <td>166141.666667</td>\n      <td>745690.0</td>\n      <td>62122.0</td>\n      <td>26014.5</td>\n      <td>...</td>\n      <td>10913756.666667</td>\n      <td>431448.666667</td>\n      <td>1045498.0</td>\n      <td>429095.666667</td>\n      <td>23479.0</td>\n      <td>2028406.4</td>\n      <td>1671230.0</td>\n      <td>378179.333333</td>\n      <td>5211076.666667</td>\n      <td>1924111.333333</td>\n    </tr>\n    <tr>\n      <th>WT</th>\n      <td>143576.666667</td>\n      <td>NaN</td>\n      <td>1929033.333333</td>\n      <td>1040583.333333</td>\n      <td>663040.0</td>\n      <td>71504.666667</td>\n      <td>211233.333333</td>\n      <td>866370.0</td>\n      <td>76912.0</td>\n      <td>29110.5</td>\n      <td>...</td>\n      <td>12501663.333333</td>\n      <td>511669.333333</td>\n      <td>1344120.0</td>\n      <td>525599.333333</td>\n      <td>26544.666667</td>\n      <td>2988677.933333</td>\n      <td>1784236.666667</td>\n      <td>461521.333333</td>\n      <td>6037593.333333</td>\n      <td>2528436.333333</td>\n    </tr>\n    <tr>\n      <th>Mu</th>\n      <td>99497.666667</td>\n      <td>NaN</td>\n      <td>1216723.333333</td>\n      <td>489693.333333</td>\n      <td>521756.666667</td>\n      <td>53170.333333</td>\n      <td>127722.666667</td>\n      <td>633516.666667</td>\n      <td>43149.5</td>\n      <td>21710.0</td>\n      <td>...</td>\n      <td>7822283.333333</td>\n      <td>335707.666667</td>\n      <td>1236230.0</td>\n      <td>355379.666667</td>\n      <td>25782.333333</td>\n      <td>1410389.9</td>\n      <td>1340403.333333</td>\n      <td>340171.666667</td>\n      <td>4854566.666667</td>\n      <td>1840094.333333</td>\n    </tr>\n    <tr>\n      <th>Mu</th>\n      <td>121156.666667</td>\n      <td>NaN</td>\n      <td>1568000.0</td>\n      <td>629270.0</td>\n      <td>620983.333333</td>\n      <td>58397.666667</td>\n      <td>158869.666667</td>\n      <td>784453.333333</td>\n      <td>60037.5</td>\n      <td>25406.0</td>\n      <td>...</td>\n      <td>8533106.666667</td>\n      <td>408411.666667</td>\n      <td>1583526.666667</td>\n      <td>421089.333333</td>\n      <td>31164.0</td>\n      <td>1424793.3</td>\n      <td>1458496.666667</td>\n      <td>396224.333333</td>\n      <td>5135550.0</td>\n      <td>2226219.333333</td>\n    </tr>\n    <tr>\n      <th>Mu</th>\n      <td>115850.0</td>\n      <td>NaN</td>\n      <td>1511333.333333</td>\n      <td>658883.333333</td>\n      <td>626043.333333</td>\n      <td>60331.666667</td>\n      <td>156658.0</td>\n      <td>731076.666667</td>\n      <td>56974.5</td>\n      <td>28155.0</td>\n      <td>...</td>\n      <td>7397336.666667</td>\n      <td>446662.666667</td>\n      <td>1494560.0</td>\n      <td>412233.0</td>\n      <td>25487.666667</td>\n      <td>1739281.033333</td>\n      <td>1404260.0</td>\n      <td>380219.333333</td>\n      <td>4984850.0</td>\n      <td>2289256.333333</td>\n    </tr>\n    <tr>\n      <th>Mu</th>\n      <td>107396.333333</td>\n      <td>NaN</td>\n      <td>1364966.666667</td>\n      <td>610393.333333</td>\n      <td>585156.666667</td>\n      <td>56645.666667</td>\n      <td>146465.666667</td>\n      <td>648163.333333</td>\n      <td>53222.5</td>\n      <td>27426.0</td>\n      <td>...</td>\n      <td>6788813.333333</td>\n      <td>439461.333333</td>\n      <td>1273406.666667</td>\n      <td>386443.333333</td>\n      <td>23206.666667</td>\n      <td>1614441.966667</td>\n      <td>1374850.0</td>\n      <td>365522.666667</td>\n      <td>4778246.666667</td>\n      <td>2051580.0</td>\n    </tr>\n    <tr>\n      <th>Mu</th>\n      <td>120460.0</td>\n      <td>NaN</td>\n      <td>1329723.333333</td>\n      <td>608383.333333</td>\n      <td>563710.0</td>\n      <td>63414.0</td>\n      <td>165979.333333</td>\n      <td>676740.0</td>\n      <td>53559.0</td>\n      <td>26392.5</td>\n      <td>...</td>\n      <td>7355086.666667</td>\n      <td>446785.333333</td>\n      <td>1159513.333333</td>\n      <td>419373.0</td>\n      <td>23503.333333</td>\n      <td>1642366.833333</td>\n      <td>1520496.666667</td>\n      <td>366679.0</td>\n      <td>5111400.0</td>\n      <td>1908631.666667</td>\n    </tr>\n    <tr>\n      <th>Mu</th>\n      <td>137650.0</td>\n      <td>NaN</td>\n      <td>1484700.0</td>\n      <td>673286.666667</td>\n      <td>657853.333333</td>\n      <td>71928.0</td>\n      <td>191756.666667</td>\n      <td>787640.0</td>\n      <td>64556.0</td>\n      <td>29084.0</td>\n      <td>...</td>\n      <td>7998160.0</td>\n      <td>535975.666667</td>\n      <td>1311353.333333</td>\n      <td>493679.0</td>\n      <td>29691.333333</td>\n      <td>1803812.866667</td>\n      <td>1764993.333333</td>\n      <td>422636.333333</td>\n      <td>6153990.0</td>\n      <td>2114740.666667</td>\n    </tr>\n    <tr>\n      <th>Mu</th>\n      <td>140793.333333</td>\n      <td>NaN</td>\n      <td>1361033.333333</td>\n      <td>693680.0</td>\n      <td>622463.333333</td>\n      <td>67810.666667</td>\n      <td>198803.333333</td>\n      <td>767766.666667</td>\n      <td>60326.5</td>\n      <td>27712.5</td>\n      <td>...</td>\n      <td>8241513.333333</td>\n      <td>557893.0</td>\n      <td>1207109.333333</td>\n      <td>478564.666667</td>\n      <td>26772.0</td>\n      <td>1724218.933333</td>\n      <td>1800810.0</td>\n      <td>412729.666667</td>\n      <td>6323986.666667</td>\n      <td>2011809.0</td>\n    </tr>\n    <tr>\n      <th>Mu</th>\n      <td>238420.0</td>\n      <td>NaN</td>\n      <td>1850533.333333</td>\n      <td>927080.0</td>\n      <td>696580.0</td>\n      <td>103134.333333</td>\n      <td>324696.666667</td>\n      <td>1081200.0</td>\n      <td>77807.0</td>\n      <td>38845.0</td>\n      <td>...</td>\n      <td>13774273.333333</td>\n      <td>807275.333333</td>\n      <td>1533653.333333</td>\n      <td>690056.0</td>\n      <td>35369.0</td>\n      <td>3046555.533333</td>\n      <td>2752200.0</td>\n      <td>592955.333333</td>\n      <td>9321500.0</td>\n      <td>2498996.333333</td>\n    </tr>\n  </tbody>\n</table>\n<p>16 rows × 5360 columns</p>\n</div>"
     },
     "execution_count": 26,
     "metadata": {},
     "output_type": "execute_result"
    }
   ],
   "source": [
    "raw_Mean_df = proteomic_raw_df[\n",
    "    proteomic_raw_df.columns[(proteomic_raw_df.columns.str[:4] == \"mean\") == True]\n",
    "]\n",
    "raw_Mean_df = raw_Mean_df.transpose()\n",
    "raw_Mean_df.index = [\n",
    "    cond[5:7] for cond in list(raw_Mean_df.index)\n",
    "]\n",
    "raw_Mean_df.index = raw_Mean_df.index.rename(\"Cell_type\")\n",
    "raw_Mean_df\n"
   ],
   "metadata": {
    "collapsed": false,
    "pycharm": {
     "name": "#%%\n"
    }
   }
  },
  {
   "cell_type": "code",
   "execution_count": 27,
   "outputs": [],
   "source": [
    "raw_Mean_tmpdf = vdata.TemporalDataFrame(\n",
    "    raw_Mean_df,\n",
    "    time_list=[\n",
    "        \"5D\",\n",
    "        \"6D\",\n",
    "        \"7D\",\n",
    "        \"8D\",\n",
    "        \"9D\",\n",
    "        \"10D\",\n",
    "        \"12D\",\n",
    "        \"14D\",\n",
    "        \"5D\",\n",
    "        \"6D\",\n",
    "        \"7D\",\n",
    "        \"8D\",\n",
    "        \"9D\",\n",
    "        \"10D\",\n",
    "        \"12D\",\n",
    "        \"14D\",\n",
    "    ],\n",
    ")"
   ],
   "metadata": {
    "collapsed": false,
    "pycharm": {
     "name": "#%%\n"
    }
   }
  },
  {
   "cell_type": "markdown",
   "source": [
    "## 8 - replicates layers"
   ],
   "metadata": {
    "collapsed": false
   }
  },
  {
   "cell_type": "code",
   "execution_count": 28,
   "outputs": [
    {
     "data": {
      "text/plain": "Main_ensembl_id  ENSG00000126653  ENSG00000124570  ENSG00000115677  \\\nCell_type                                                            \nWT                      112150.0          40426.0        1351100.0   \nWT                      102800.0          44000.0        1524000.0   \nWT                       93172.0          33604.0        1331200.0   \nWT                      105610.0          42710.0        1618700.0   \nWT                       94802.0          43591.0        1442700.0   \nWT                      135300.0          40201.0        1634700.0   \nWT                      116930.0          46099.0        1562400.0   \nWT                      136980.0          52507.0        1934600.0   \nMu                      100250.0          34249.0        1226800.0   \nMu                      115760.0          43406.0        1585600.0   \nMu                      115860.0          38418.0        1535400.0   \nMu                      106860.0          39058.0        1366300.0   \nMu                      114260.0          37357.0        1337400.0   \nMu                      128690.0          40457.0        1485600.0   \nMu                      135740.0          40576.0        1370300.0   \nMu                      238950.0          48452.0        1885800.0   \n\nMain_ensembl_id  ENSG00000110047  ENSG00000106588  ENSG00000011007  \\\nCell_type                                                            \nWT                      554030.0         632690.0          61753.0   \nWT                      627240.0         690080.0          64703.0   \nWT                      628120.0         587610.0          60229.0   \nWT                      795010.0         662280.0          65747.0   \nWT                      783310.0         592640.0          60929.0   \nWT                      915460.0         624130.0          77827.0   \nWT                      899380.0         622400.0          74710.0   \nWT                     1154100.0         775110.0          80879.0   \nMu                      553380.0         614100.0          54773.0   \nMu                      689730.0         727490.0          70448.0   \nMu                      708150.0         731020.0          66392.0   \nMu                      671280.0         687820.0          64016.0   \nMu                      654750.0         670000.0          69876.0   \nMu                      727070.0         779360.0          77856.0   \nMu                      761180.0         737170.0          72864.0   \nMu                     1049200.0         825810.0         105900.0   \n\nMain_ensembl_id  ENSG00000184047  ENSG00000204463  ENSG00000101974  \\\nCell_type                                                            \nWT                      201520.0         628140.0              NaN   \nWT                      227240.0         676760.0              NaN   \nWT                      185190.0         559950.0              NaN   \nWT                      252360.0         659730.0              NaN   \nWT                      236160.0         605890.0              NaN   \nWT                      330750.0         747630.0              NaN   \nWT                      268780.0         738600.0              NaN   \nWT                      344300.0         849250.0              NaN   \nMu                      198140.0         608370.0              NaN   \nMu                      242760.0         742460.0              NaN   \nMu                      242950.0         706940.0              NaN   \nMu                      228150.0         629410.0              NaN   \nMu                      270590.0         657290.0              NaN   \nMu                      295360.0         765390.0              NaN   \nMu                      314270.0         769360.0              NaN   \nMu                      526800.0        1090700.0              NaN   \n\nMain_ensembl_id  ENSG00000144560  ...  ENSG00000167004  ENSG00000067955  \\\nCell_type                         ...                                     \nWT                           NaN  ...        8534090.0         388448.0   \nWT                           NaN  ...        8223460.0         423737.0   \nWT                           NaN  ...        6799650.0         374218.0   \nWT                           NaN  ...        8291150.0         446421.0   \nWT                           NaN  ...        7784440.0         377559.0   \nWT                           NaN  ...       11577840.0         530991.0   \nWT                           NaN  ...       10716030.0         446168.0   \nWT                           NaN  ...       12261490.0         522002.0   \nMu                           NaN  ...        7649260.0         335064.0   \nMu                           NaN  ...        8453090.0         412303.0   \nMu                           NaN  ...        7252370.0         441027.0   \nMu                           NaN  ...        6598760.0         437046.0   \nMu                           NaN  ...        7206660.0         442956.0   \nMu                           NaN  ...        7871260.0         559286.0   \nMu                           NaN  ...        8101160.0         564600.0   \nMu                           NaN  ...       13472670.0         849840.0   \n\nMain_ensembl_id  ENSG00000134440  ENSG00000127527  ENSG00000104833  \\\nCell_type                                                            \nWT                     1151800.0         332500.0              0.0   \nWT                     1234700.0         366590.0              0.0   \nWT                     1018900.0         314600.0              0.0   \nWT                     1148300.0         357990.0              0.0   \nWT                      966000.0         337830.0              0.0   \nWT                     1001400.0         433220.0              0.0   \nWT                      873970.0         398950.0              0.0   \nWT                     1122400.0         483470.0              0.0   \nMu                     1033400.0         332020.0              0.0   \nMu                     1324100.0         396030.0              0.0   \nMu                     1239300.0         391900.0              0.0   \nMu                     1070500.0         356520.0              0.0   \nMu                      965620.0         393760.0              0.0   \nMu                     1094700.0         452340.0              0.0   \nMu                     1023200.0         426710.0              0.0   \nMu                     1285400.0         627060.0              0.0   \n\nMain_ensembl_id  ENSG00000198467  ENSG00000120802  ENSG00000159352  \\\nCell_type                                                            \nWT                     2149079.8        1366240.0         331080.0   \nWT                     2067257.2        1310350.0         322474.0   \nWT                     1968964.5        1119360.0         280905.0   \nWT                     2193545.8        1269360.0         324638.0   \nWT                     2032629.7        1244880.0         296653.0   \nWT                     3284511.1        1641710.0         375424.0   \nWT                     2259202.8        1507190.0         324438.0   \nWT                     3327634.7        1627600.0         394714.0   \nMu                     1599522.0        1240150.0         296615.0   \nMu                     1593945.1        1359200.0         349703.0   \nMu                     1954417.0        1321010.0         336718.0   \nMu                     1818441.5        1297450.0         316498.0   \nMu                     1842915.2        1433970.0         326907.0   \nMu                     2026734.4        1677920.0         386559.0   \nMu                     1913220.9        1712320.0         359359.0   \nMu                     3283034.6        2540450.0         503786.0   \n\nMain_ensembl_id  ENSG00000165119  ENSG00000131236  \nCell_type                                          \nWT                     4932500.0        2047845.0  \nWT                     4736420.0        2132613.0  \nWT                     4114530.0        1927362.0  \nWT                     4656730.0        2145825.0  \nWT                     4110580.0        1867226.0  \nWT                     5536030.0        1991905.0  \nWT                     5094970.0        1893358.0  \nWT                     5912320.0        2466958.0  \nMu                     4724920.0        1778066.0  \nMu                     5148430.0        2194226.0  \nMu                     4933370.0        2244122.0  \nMu                     4689070.0        2029956.0  \nMu                     5010100.0        1873075.0  \nMu                     6123280.0        2027586.0  \nMu                     6349670.0        1945501.0  \nMu                     9368360.0        2359403.0  \n\n[16 rows x 5360 columns]",
      "text/html": "<div>\n<style scoped>\n    .dataframe tbody tr th:only-of-type {\n        vertical-align: middle;\n    }\n\n    .dataframe tbody tr th {\n        vertical-align: top;\n    }\n\n    .dataframe thead th {\n        text-align: right;\n    }\n</style>\n<table border=\"1\" class=\"dataframe\">\n  <thead>\n    <tr style=\"text-align: right;\">\n      <th>Main_ensembl_id</th>\n      <th>ENSG00000126653</th>\n      <th>ENSG00000124570</th>\n      <th>ENSG00000115677</th>\n      <th>ENSG00000110047</th>\n      <th>ENSG00000106588</th>\n      <th>ENSG00000011007</th>\n      <th>ENSG00000184047</th>\n      <th>ENSG00000204463</th>\n      <th>ENSG00000101974</th>\n      <th>ENSG00000144560</th>\n      <th>...</th>\n      <th>ENSG00000167004</th>\n      <th>ENSG00000067955</th>\n      <th>ENSG00000134440</th>\n      <th>ENSG00000127527</th>\n      <th>ENSG00000104833</th>\n      <th>ENSG00000198467</th>\n      <th>ENSG00000120802</th>\n      <th>ENSG00000159352</th>\n      <th>ENSG00000165119</th>\n      <th>ENSG00000131236</th>\n    </tr>\n    <tr>\n      <th>Cell_type</th>\n      <th></th>\n      <th></th>\n      <th></th>\n      <th></th>\n      <th></th>\n      <th></th>\n      <th></th>\n      <th></th>\n      <th></th>\n      <th></th>\n      <th></th>\n      <th></th>\n      <th></th>\n      <th></th>\n      <th></th>\n      <th></th>\n      <th></th>\n      <th></th>\n      <th></th>\n      <th></th>\n      <th></th>\n    </tr>\n  </thead>\n  <tbody>\n    <tr>\n      <th>WT</th>\n      <td>112150.0</td>\n      <td>40426.0</td>\n      <td>1351100.0</td>\n      <td>554030.0</td>\n      <td>632690.0</td>\n      <td>61753.0</td>\n      <td>201520.0</td>\n      <td>628140.0</td>\n      <td>NaN</td>\n      <td>NaN</td>\n      <td>...</td>\n      <td>8534090.0</td>\n      <td>388448.0</td>\n      <td>1151800.0</td>\n      <td>332500.0</td>\n      <td>0.0</td>\n      <td>2149079.8</td>\n      <td>1366240.0</td>\n      <td>331080.0</td>\n      <td>4932500.0</td>\n      <td>2047845.0</td>\n    </tr>\n    <tr>\n      <th>WT</th>\n      <td>102800.0</td>\n      <td>44000.0</td>\n      <td>1524000.0</td>\n      <td>627240.0</td>\n      <td>690080.0</td>\n      <td>64703.0</td>\n      <td>227240.0</td>\n      <td>676760.0</td>\n      <td>NaN</td>\n      <td>NaN</td>\n      <td>...</td>\n      <td>8223460.0</td>\n      <td>423737.0</td>\n      <td>1234700.0</td>\n      <td>366590.0</td>\n      <td>0.0</td>\n      <td>2067257.2</td>\n      <td>1310350.0</td>\n      <td>322474.0</td>\n      <td>4736420.0</td>\n      <td>2132613.0</td>\n    </tr>\n    <tr>\n      <th>WT</th>\n      <td>93172.0</td>\n      <td>33604.0</td>\n      <td>1331200.0</td>\n      <td>628120.0</td>\n      <td>587610.0</td>\n      <td>60229.0</td>\n      <td>185190.0</td>\n      <td>559950.0</td>\n      <td>NaN</td>\n      <td>NaN</td>\n      <td>...</td>\n      <td>6799650.0</td>\n      <td>374218.0</td>\n      <td>1018900.0</td>\n      <td>314600.0</td>\n      <td>0.0</td>\n      <td>1968964.5</td>\n      <td>1119360.0</td>\n      <td>280905.0</td>\n      <td>4114530.0</td>\n      <td>1927362.0</td>\n    </tr>\n    <tr>\n      <th>WT</th>\n      <td>105610.0</td>\n      <td>42710.0</td>\n      <td>1618700.0</td>\n      <td>795010.0</td>\n      <td>662280.0</td>\n      <td>65747.0</td>\n      <td>252360.0</td>\n      <td>659730.0</td>\n      <td>NaN</td>\n      <td>NaN</td>\n      <td>...</td>\n      <td>8291150.0</td>\n      <td>446421.0</td>\n      <td>1148300.0</td>\n      <td>357990.0</td>\n      <td>0.0</td>\n      <td>2193545.8</td>\n      <td>1269360.0</td>\n      <td>324638.0</td>\n      <td>4656730.0</td>\n      <td>2145825.0</td>\n    </tr>\n    <tr>\n      <th>WT</th>\n      <td>94802.0</td>\n      <td>43591.0</td>\n      <td>1442700.0</td>\n      <td>783310.0</td>\n      <td>592640.0</td>\n      <td>60929.0</td>\n      <td>236160.0</td>\n      <td>605890.0</td>\n      <td>NaN</td>\n      <td>NaN</td>\n      <td>...</td>\n      <td>7784440.0</td>\n      <td>377559.0</td>\n      <td>966000.0</td>\n      <td>337830.0</td>\n      <td>0.0</td>\n      <td>2032629.7</td>\n      <td>1244880.0</td>\n      <td>296653.0</td>\n      <td>4110580.0</td>\n      <td>1867226.0</td>\n    </tr>\n    <tr>\n      <th>WT</th>\n      <td>135300.0</td>\n      <td>40201.0</td>\n      <td>1634700.0</td>\n      <td>915460.0</td>\n      <td>624130.0</td>\n      <td>77827.0</td>\n      <td>330750.0</td>\n      <td>747630.0</td>\n      <td>NaN</td>\n      <td>NaN</td>\n      <td>...</td>\n      <td>11577840.0</td>\n      <td>530991.0</td>\n      <td>1001400.0</td>\n      <td>433220.0</td>\n      <td>0.0</td>\n      <td>3284511.1</td>\n      <td>1641710.0</td>\n      <td>375424.0</td>\n      <td>5536030.0</td>\n      <td>1991905.0</td>\n    </tr>\n    <tr>\n      <th>WT</th>\n      <td>116930.0</td>\n      <td>46099.0</td>\n      <td>1562400.0</td>\n      <td>899380.0</td>\n      <td>622400.0</td>\n      <td>74710.0</td>\n      <td>268780.0</td>\n      <td>738600.0</td>\n      <td>NaN</td>\n      <td>NaN</td>\n      <td>...</td>\n      <td>10716030.0</td>\n      <td>446168.0</td>\n      <td>873970.0</td>\n      <td>398950.0</td>\n      <td>0.0</td>\n      <td>2259202.8</td>\n      <td>1507190.0</td>\n      <td>324438.0</td>\n      <td>5094970.0</td>\n      <td>1893358.0</td>\n    </tr>\n    <tr>\n      <th>WT</th>\n      <td>136980.0</td>\n      <td>52507.0</td>\n      <td>1934600.0</td>\n      <td>1154100.0</td>\n      <td>775110.0</td>\n      <td>80879.0</td>\n      <td>344300.0</td>\n      <td>849250.0</td>\n      <td>NaN</td>\n      <td>NaN</td>\n      <td>...</td>\n      <td>12261490.0</td>\n      <td>522002.0</td>\n      <td>1122400.0</td>\n      <td>483470.0</td>\n      <td>0.0</td>\n      <td>3327634.7</td>\n      <td>1627600.0</td>\n      <td>394714.0</td>\n      <td>5912320.0</td>\n      <td>2466958.0</td>\n    </tr>\n    <tr>\n      <th>Mu</th>\n      <td>100250.0</td>\n      <td>34249.0</td>\n      <td>1226800.0</td>\n      <td>553380.0</td>\n      <td>614100.0</td>\n      <td>54773.0</td>\n      <td>198140.0</td>\n      <td>608370.0</td>\n      <td>NaN</td>\n      <td>NaN</td>\n      <td>...</td>\n      <td>7649260.0</td>\n      <td>335064.0</td>\n      <td>1033400.0</td>\n      <td>332020.0</td>\n      <td>0.0</td>\n      <td>1599522.0</td>\n      <td>1240150.0</td>\n      <td>296615.0</td>\n      <td>4724920.0</td>\n      <td>1778066.0</td>\n    </tr>\n    <tr>\n      <th>Mu</th>\n      <td>115760.0</td>\n      <td>43406.0</td>\n      <td>1585600.0</td>\n      <td>689730.0</td>\n      <td>727490.0</td>\n      <td>70448.0</td>\n      <td>242760.0</td>\n      <td>742460.0</td>\n      <td>NaN</td>\n      <td>NaN</td>\n      <td>...</td>\n      <td>8453090.0</td>\n      <td>412303.0</td>\n      <td>1324100.0</td>\n      <td>396030.0</td>\n      <td>0.0</td>\n      <td>1593945.1</td>\n      <td>1359200.0</td>\n      <td>349703.0</td>\n      <td>5148430.0</td>\n      <td>2194226.0</td>\n    </tr>\n    <tr>\n      <th>Mu</th>\n      <td>115860.0</td>\n      <td>38418.0</td>\n      <td>1535400.0</td>\n      <td>708150.0</td>\n      <td>731020.0</td>\n      <td>66392.0</td>\n      <td>242950.0</td>\n      <td>706940.0</td>\n      <td>NaN</td>\n      <td>NaN</td>\n      <td>...</td>\n      <td>7252370.0</td>\n      <td>441027.0</td>\n      <td>1239300.0</td>\n      <td>391900.0</td>\n      <td>0.0</td>\n      <td>1954417.0</td>\n      <td>1321010.0</td>\n      <td>336718.0</td>\n      <td>4933370.0</td>\n      <td>2244122.0</td>\n    </tr>\n    <tr>\n      <th>Mu</th>\n      <td>106860.0</td>\n      <td>39058.0</td>\n      <td>1366300.0</td>\n      <td>671280.0</td>\n      <td>687820.0</td>\n      <td>64016.0</td>\n      <td>228150.0</td>\n      <td>629410.0</td>\n      <td>NaN</td>\n      <td>NaN</td>\n      <td>...</td>\n      <td>6598760.0</td>\n      <td>437046.0</td>\n      <td>1070500.0</td>\n      <td>356520.0</td>\n      <td>0.0</td>\n      <td>1818441.5</td>\n      <td>1297450.0</td>\n      <td>316498.0</td>\n      <td>4689070.0</td>\n      <td>2029956.0</td>\n    </tr>\n    <tr>\n      <th>Mu</th>\n      <td>114260.0</td>\n      <td>37357.0</td>\n      <td>1337400.0</td>\n      <td>654750.0</td>\n      <td>670000.0</td>\n      <td>69876.0</td>\n      <td>270590.0</td>\n      <td>657290.0</td>\n      <td>NaN</td>\n      <td>NaN</td>\n      <td>...</td>\n      <td>7206660.0</td>\n      <td>442956.0</td>\n      <td>965620.0</td>\n      <td>393760.0</td>\n      <td>0.0</td>\n      <td>1842915.2</td>\n      <td>1433970.0</td>\n      <td>326907.0</td>\n      <td>5010100.0</td>\n      <td>1873075.0</td>\n    </tr>\n    <tr>\n      <th>Mu</th>\n      <td>128690.0</td>\n      <td>40457.0</td>\n      <td>1485600.0</td>\n      <td>727070.0</td>\n      <td>779360.0</td>\n      <td>77856.0</td>\n      <td>295360.0</td>\n      <td>765390.0</td>\n      <td>NaN</td>\n      <td>NaN</td>\n      <td>...</td>\n      <td>7871260.0</td>\n      <td>559286.0</td>\n      <td>1094700.0</td>\n      <td>452340.0</td>\n      <td>0.0</td>\n      <td>2026734.4</td>\n      <td>1677920.0</td>\n      <td>386559.0</td>\n      <td>6123280.0</td>\n      <td>2027586.0</td>\n    </tr>\n    <tr>\n      <th>Mu</th>\n      <td>135740.0</td>\n      <td>40576.0</td>\n      <td>1370300.0</td>\n      <td>761180.0</td>\n      <td>737170.0</td>\n      <td>72864.0</td>\n      <td>314270.0</td>\n      <td>769360.0</td>\n      <td>NaN</td>\n      <td>NaN</td>\n      <td>...</td>\n      <td>8101160.0</td>\n      <td>564600.0</td>\n      <td>1023200.0</td>\n      <td>426710.0</td>\n      <td>0.0</td>\n      <td>1913220.9</td>\n      <td>1712320.0</td>\n      <td>359359.0</td>\n      <td>6349670.0</td>\n      <td>1945501.0</td>\n    </tr>\n    <tr>\n      <th>Mu</th>\n      <td>238950.0</td>\n      <td>48452.0</td>\n      <td>1885800.0</td>\n      <td>1049200.0</td>\n      <td>825810.0</td>\n      <td>105900.0</td>\n      <td>526800.0</td>\n      <td>1090700.0</td>\n      <td>NaN</td>\n      <td>NaN</td>\n      <td>...</td>\n      <td>13472670.0</td>\n      <td>849840.0</td>\n      <td>1285400.0</td>\n      <td>627060.0</td>\n      <td>0.0</td>\n      <td>3283034.6</td>\n      <td>2540450.0</td>\n      <td>503786.0</td>\n      <td>9368360.0</td>\n      <td>2359403.0</td>\n    </tr>\n  </tbody>\n</table>\n<p>16 rows × 5360 columns</p>\n</div>"
     },
     "execution_count": 28,
     "metadata": {},
     "output_type": "execute_result"
    }
   ],
   "source": [
    "raw_R1_df = proteomic_raw_df[\n",
    "    proteomic_raw_df.columns[(proteomic_raw_df.columns.str[3:5] == \"R1\") == True]\n",
    "]\n",
    "raw_R1_df = raw_R1_df.transpose()\n",
    "raw_R1_df.index = [cond[6:8] for cond in list(raw_R1_df.index)]\n",
    "raw_R1_df.index = raw_R1_df.index.rename(\"Cell_type\")\n",
    "raw_R1_df = raw_R1_df.sort_values(\"Cell_type\", ascending=False)\n",
    "raw_R1_df"
   ],
   "metadata": {
    "collapsed": false,
    "pycharm": {
     "name": "#%%\n"
    }
   }
  },
  {
   "cell_type": "code",
   "execution_count": 29,
   "outputs": [
    {
     "data": {
      "text/plain": "Main_ensembl_id  ENSG00000126653  ENSG00000124570  ENSG00000115677  \\\nCell_type                                                            \nWT                      124970.0              NaN        1008700.0   \nWT                      132170.0              NaN        1162800.0   \nWT                      116930.0              NaN        1006200.0   \nWT                      136530.0              NaN        1217300.0   \nWT                      125190.0              NaN        1100600.0   \nWT                      174830.0              NaN        1235100.0   \nWT                      142060.0              NaN        1169200.0   \nWT                      160480.0              NaN        1452200.0   \nMu                      105900.0              NaN         933070.0   \nMu                      128400.0              NaN        1178600.0   \nMu                      121640.0              NaN        1147100.0   \nMu                      118980.0              NaN        1031400.0   \nMu                      134610.0              NaN         998670.0   \nMu                      156180.0              NaN        1124200.0   \nMu                      152030.0              NaN        1035400.0   \nMu                      261690.0              NaN        1385600.0   \n\nMain_ensembl_id  ENSG00000110047  ENSG00000106588  ENSG00000011007  \\\nCell_type                                                            \nWT                      495220.0         480130.0          52919.0   \nWT                      559490.0         523990.0          50537.0   \nWT                      560330.0         468470.0          45839.0   \nWT                      689750.0         509980.0          52662.0   \nWT                      688950.0         454480.0          46164.0   \nWT                      768090.0         470720.0          66253.0   \nWT                      781550.0         458320.0          54614.0   \nWT                      988840.0         596610.0          62045.0   \nMu                      455410.0         472690.0          49121.0   \nMu                      607300.0         574560.0          51026.0   \nMu                      631430.0         572120.0          55474.0   \nMu                      569230.0         527210.0          47689.0   \nMu                      582230.0         501500.0          56396.0   \nMu                      654830.0         596080.0          63704.0   \nMu                      674170.0         560730.0          62452.0   \nMu                      883520.0         625720.0          94033.0   \n\nMain_ensembl_id  ENSG00000184047  ENSG00000204463  ENSG00000101974  \\\nCell_type                                                            \nWT                      127020.0         675210.0          30752.0   \nWT                      147190.0         710850.0          37739.0   \nWT                      115000.0         582130.0          31891.0   \nWT                      136430.0         677710.0          41381.0   \nWT                      128740.0         614070.0          35377.0   \nWT                      161640.0         759610.0          42330.0   \nWT                      138200.0         755470.0          42876.0   \nWT                      171530.0         870300.0          53034.0   \nMu                      124920.0         647350.0          30307.0   \nMu                      161360.0         807930.0          40347.0   \nMu                      147110.0         742160.0          38856.0   \nMu                      140320.0         650180.0          36082.0   \nMu                      143980.0         678490.0          36262.0   \nMu                      179890.0         794570.0          45218.0   \nMu                      180330.0         780440.0          42040.0   \nMu                      256160.0        1071600.0          48114.0   \n\nMain_ensembl_id  ENSG00000144560  ...  ENSG00000167004  ENSG00000067955  \\\nCell_type                         ...                                     \nWT                       19452.0  ...        8472370.0         415033.0   \nWT                       23314.0  ...        8169340.0         446211.0   \nWT                       19991.0  ...        6667760.0         428512.0   \nWT                       21338.0  ...        8135980.0         478528.0   \nWT                       20440.0  ...        7635020.0         414136.0   \nWT                       24498.0  ...       11543550.0         516247.0   \nWT                       24337.0  ...       10522180.0         446328.0   \nWT                       27154.0  ...       12005670.0         536036.0   \nMu                       21053.0  ...        7609530.0         347149.0   \nMu                       24404.0  ...        8293890.0         408792.0   \nMu                       25994.0  ...        7188260.0         468791.0   \nMu                       25968.0  ...        6605490.0         477118.0   \nMu                       24956.0  ...        7114940.0         484820.0   \nMu                       29032.0  ...        7725820.0         537621.0   \nMu                       26489.0  ...        7941970.0         577469.0   \nMu                       35619.0  ...       13318820.0         813366.0   \n\nMain_ensembl_id  ENSG00000134440  ENSG00000127527  ENSG00000104833  \\\nCell_type                                                            \nWT                     1492370.0         284130.0          67810.0   \nWT                     1594040.0         321560.0          68558.0   \nWT                     1293790.0         275450.0          48925.0   \nWT                     1496080.0         316010.0          62218.0   \nWT                     1215019.0         305960.0          59673.0   \nWT                     1290095.0         385960.0          70631.0   \nWT                     1113817.0         346880.0          70437.0   \nWT                     1460630.0         434310.0          79634.0   \nMu                     1405400.0         292980.0          77347.0   \nMu                     1798450.0         339090.0          93492.0   \nMu                     1698760.0         326240.0          76463.0   \nMu                     1424030.0         315470.0          69620.0   \nMu                     1288680.0         336880.0          70510.0   \nMu                     1458880.0         416900.0          89074.0   \nMu                     1350120.0         400280.0          80316.0   \nMu                     1700150.0         552590.0         106107.0   \n\nMain_ensembl_id  ENSG00000198467  ENSG00000120802  ENSG00000159352  \\\nCell_type                                                            \nWT                     1424178.4        1488200.0         340070.0   \nWT                     1417843.3        1421140.0         326300.0   \nWT                     1324548.8        1246070.0         297330.0   \nWT                     1459257.8        1371460.0         340060.0   \nWT                     1365521.9        1344010.0         303070.0   \nWT                     2148815.0        1850450.0         374150.0   \nWT                     1478824.2        1756110.0         340670.0   \nWT                     2163599.1        1835220.0         415260.0   \nMu                     1037475.1        1359560.0         303680.0   \nMu                     1073224.2        1481880.0         348110.0   \nMu                     1288825.4        1396500.0         334420.0   \nMu                     1198966.2        1363270.0         321360.0   \nMu                     1206545.6        1542830.0         325170.0   \nMu                     1340536.7        1773080.0         367600.0   \nMu                     1295952.6        1803340.0         366820.0   \nMu                     2214550.0        2831090.0         529470.0   \n\nMain_ensembl_id  ENSG00000165119  ENSG00000131236  \nCell_type                                          \nWT                     4673550.0        1984976.0  \nWT                     4474710.0        2053793.0  \nWT                     3969540.0        1851418.0  \nWT                     4450570.0        2081384.0  \nWT                     4006030.0        1815589.0  \nWT                     5234240.0        2055145.0  \nWT                     4783620.0        1833830.0  \nWT                     5553360.0        2423837.0  \nMu                     4605170.0        1772736.0  \nMu                     4720500.0        2097769.0  \nMu                     4596390.0        2169692.0  \nMu                     4413040.0        1926945.0  \nMu                     4729100.0        1813997.0  \nMu                     5643700.0        2047737.0  \nMu                     5782510.0        1922043.0  \nMu                     8512580.0        2452924.0  \n\n[16 rows x 5360 columns]",
      "text/html": "<div>\n<style scoped>\n    .dataframe tbody tr th:only-of-type {\n        vertical-align: middle;\n    }\n\n    .dataframe tbody tr th {\n        vertical-align: top;\n    }\n\n    .dataframe thead th {\n        text-align: right;\n    }\n</style>\n<table border=\"1\" class=\"dataframe\">\n  <thead>\n    <tr style=\"text-align: right;\">\n      <th>Main_ensembl_id</th>\n      <th>ENSG00000126653</th>\n      <th>ENSG00000124570</th>\n      <th>ENSG00000115677</th>\n      <th>ENSG00000110047</th>\n      <th>ENSG00000106588</th>\n      <th>ENSG00000011007</th>\n      <th>ENSG00000184047</th>\n      <th>ENSG00000204463</th>\n      <th>ENSG00000101974</th>\n      <th>ENSG00000144560</th>\n      <th>...</th>\n      <th>ENSG00000167004</th>\n      <th>ENSG00000067955</th>\n      <th>ENSG00000134440</th>\n      <th>ENSG00000127527</th>\n      <th>ENSG00000104833</th>\n      <th>ENSG00000198467</th>\n      <th>ENSG00000120802</th>\n      <th>ENSG00000159352</th>\n      <th>ENSG00000165119</th>\n      <th>ENSG00000131236</th>\n    </tr>\n    <tr>\n      <th>Cell_type</th>\n      <th></th>\n      <th></th>\n      <th></th>\n      <th></th>\n      <th></th>\n      <th></th>\n      <th></th>\n      <th></th>\n      <th></th>\n      <th></th>\n      <th></th>\n      <th></th>\n      <th></th>\n      <th></th>\n      <th></th>\n      <th></th>\n      <th></th>\n      <th></th>\n      <th></th>\n      <th></th>\n      <th></th>\n    </tr>\n  </thead>\n  <tbody>\n    <tr>\n      <th>WT</th>\n      <td>124970.0</td>\n      <td>NaN</td>\n      <td>1008700.0</td>\n      <td>495220.0</td>\n      <td>480130.0</td>\n      <td>52919.0</td>\n      <td>127020.0</td>\n      <td>675210.0</td>\n      <td>30752.0</td>\n      <td>19452.0</td>\n      <td>...</td>\n      <td>8472370.0</td>\n      <td>415033.0</td>\n      <td>1492370.0</td>\n      <td>284130.0</td>\n      <td>67810.0</td>\n      <td>1424178.4</td>\n      <td>1488200.0</td>\n      <td>340070.0</td>\n      <td>4673550.0</td>\n      <td>1984976.0</td>\n    </tr>\n    <tr>\n      <th>WT</th>\n      <td>132170.0</td>\n      <td>NaN</td>\n      <td>1162800.0</td>\n      <td>559490.0</td>\n      <td>523990.0</td>\n      <td>50537.0</td>\n      <td>147190.0</td>\n      <td>710850.0</td>\n      <td>37739.0</td>\n      <td>23314.0</td>\n      <td>...</td>\n      <td>8169340.0</td>\n      <td>446211.0</td>\n      <td>1594040.0</td>\n      <td>321560.0</td>\n      <td>68558.0</td>\n      <td>1417843.3</td>\n      <td>1421140.0</td>\n      <td>326300.0</td>\n      <td>4474710.0</td>\n      <td>2053793.0</td>\n    </tr>\n    <tr>\n      <th>WT</th>\n      <td>116930.0</td>\n      <td>NaN</td>\n      <td>1006200.0</td>\n      <td>560330.0</td>\n      <td>468470.0</td>\n      <td>45839.0</td>\n      <td>115000.0</td>\n      <td>582130.0</td>\n      <td>31891.0</td>\n      <td>19991.0</td>\n      <td>...</td>\n      <td>6667760.0</td>\n      <td>428512.0</td>\n      <td>1293790.0</td>\n      <td>275450.0</td>\n      <td>48925.0</td>\n      <td>1324548.8</td>\n      <td>1246070.0</td>\n      <td>297330.0</td>\n      <td>3969540.0</td>\n      <td>1851418.0</td>\n    </tr>\n    <tr>\n      <th>WT</th>\n      <td>136530.0</td>\n      <td>NaN</td>\n      <td>1217300.0</td>\n      <td>689750.0</td>\n      <td>509980.0</td>\n      <td>52662.0</td>\n      <td>136430.0</td>\n      <td>677710.0</td>\n      <td>41381.0</td>\n      <td>21338.0</td>\n      <td>...</td>\n      <td>8135980.0</td>\n      <td>478528.0</td>\n      <td>1496080.0</td>\n      <td>316010.0</td>\n      <td>62218.0</td>\n      <td>1459257.8</td>\n      <td>1371460.0</td>\n      <td>340060.0</td>\n      <td>4450570.0</td>\n      <td>2081384.0</td>\n    </tr>\n    <tr>\n      <th>WT</th>\n      <td>125190.0</td>\n      <td>NaN</td>\n      <td>1100600.0</td>\n      <td>688950.0</td>\n      <td>454480.0</td>\n      <td>46164.0</td>\n      <td>128740.0</td>\n      <td>614070.0</td>\n      <td>35377.0</td>\n      <td>20440.0</td>\n      <td>...</td>\n      <td>7635020.0</td>\n      <td>414136.0</td>\n      <td>1215019.0</td>\n      <td>305960.0</td>\n      <td>59673.0</td>\n      <td>1365521.9</td>\n      <td>1344010.0</td>\n      <td>303070.0</td>\n      <td>4006030.0</td>\n      <td>1815589.0</td>\n    </tr>\n    <tr>\n      <th>WT</th>\n      <td>174830.0</td>\n      <td>NaN</td>\n      <td>1235100.0</td>\n      <td>768090.0</td>\n      <td>470720.0</td>\n      <td>66253.0</td>\n      <td>161640.0</td>\n      <td>759610.0</td>\n      <td>42330.0</td>\n      <td>24498.0</td>\n      <td>...</td>\n      <td>11543550.0</td>\n      <td>516247.0</td>\n      <td>1290095.0</td>\n      <td>385960.0</td>\n      <td>70631.0</td>\n      <td>2148815.0</td>\n      <td>1850450.0</td>\n      <td>374150.0</td>\n      <td>5234240.0</td>\n      <td>2055145.0</td>\n    </tr>\n    <tr>\n      <th>WT</th>\n      <td>142060.0</td>\n      <td>NaN</td>\n      <td>1169200.0</td>\n      <td>781550.0</td>\n      <td>458320.0</td>\n      <td>54614.0</td>\n      <td>138200.0</td>\n      <td>755470.0</td>\n      <td>42876.0</td>\n      <td>24337.0</td>\n      <td>...</td>\n      <td>10522180.0</td>\n      <td>446328.0</td>\n      <td>1113817.0</td>\n      <td>346880.0</td>\n      <td>70437.0</td>\n      <td>1478824.2</td>\n      <td>1756110.0</td>\n      <td>340670.0</td>\n      <td>4783620.0</td>\n      <td>1833830.0</td>\n    </tr>\n    <tr>\n      <th>WT</th>\n      <td>160480.0</td>\n      <td>NaN</td>\n      <td>1452200.0</td>\n      <td>988840.0</td>\n      <td>596610.0</td>\n      <td>62045.0</td>\n      <td>171530.0</td>\n      <td>870300.0</td>\n      <td>53034.0</td>\n      <td>27154.0</td>\n      <td>...</td>\n      <td>12005670.0</td>\n      <td>536036.0</td>\n      <td>1460630.0</td>\n      <td>434310.0</td>\n      <td>79634.0</td>\n      <td>2163599.1</td>\n      <td>1835220.0</td>\n      <td>415260.0</td>\n      <td>5553360.0</td>\n      <td>2423837.0</td>\n    </tr>\n    <tr>\n      <th>Mu</th>\n      <td>105900.0</td>\n      <td>NaN</td>\n      <td>933070.0</td>\n      <td>455410.0</td>\n      <td>472690.0</td>\n      <td>49121.0</td>\n      <td>124920.0</td>\n      <td>647350.0</td>\n      <td>30307.0</td>\n      <td>21053.0</td>\n      <td>...</td>\n      <td>7609530.0</td>\n      <td>347149.0</td>\n      <td>1405400.0</td>\n      <td>292980.0</td>\n      <td>77347.0</td>\n      <td>1037475.1</td>\n      <td>1359560.0</td>\n      <td>303680.0</td>\n      <td>4605170.0</td>\n      <td>1772736.0</td>\n    </tr>\n    <tr>\n      <th>Mu</th>\n      <td>128400.0</td>\n      <td>NaN</td>\n      <td>1178600.0</td>\n      <td>607300.0</td>\n      <td>574560.0</td>\n      <td>51026.0</td>\n      <td>161360.0</td>\n      <td>807930.0</td>\n      <td>40347.0</td>\n      <td>24404.0</td>\n      <td>...</td>\n      <td>8293890.0</td>\n      <td>408792.0</td>\n      <td>1798450.0</td>\n      <td>339090.0</td>\n      <td>93492.0</td>\n      <td>1073224.2</td>\n      <td>1481880.0</td>\n      <td>348110.0</td>\n      <td>4720500.0</td>\n      <td>2097769.0</td>\n    </tr>\n    <tr>\n      <th>Mu</th>\n      <td>121640.0</td>\n      <td>NaN</td>\n      <td>1147100.0</td>\n      <td>631430.0</td>\n      <td>572120.0</td>\n      <td>55474.0</td>\n      <td>147110.0</td>\n      <td>742160.0</td>\n      <td>38856.0</td>\n      <td>25994.0</td>\n      <td>...</td>\n      <td>7188260.0</td>\n      <td>468791.0</td>\n      <td>1698760.0</td>\n      <td>326240.0</td>\n      <td>76463.0</td>\n      <td>1288825.4</td>\n      <td>1396500.0</td>\n      <td>334420.0</td>\n      <td>4596390.0</td>\n      <td>2169692.0</td>\n    </tr>\n    <tr>\n      <th>Mu</th>\n      <td>118980.0</td>\n      <td>NaN</td>\n      <td>1031400.0</td>\n      <td>569230.0</td>\n      <td>527210.0</td>\n      <td>47689.0</td>\n      <td>140320.0</td>\n      <td>650180.0</td>\n      <td>36082.0</td>\n      <td>25968.0</td>\n      <td>...</td>\n      <td>6605490.0</td>\n      <td>477118.0</td>\n      <td>1424030.0</td>\n      <td>315470.0</td>\n      <td>69620.0</td>\n      <td>1198966.2</td>\n      <td>1363270.0</td>\n      <td>321360.0</td>\n      <td>4413040.0</td>\n      <td>1926945.0</td>\n    </tr>\n    <tr>\n      <th>Mu</th>\n      <td>134610.0</td>\n      <td>NaN</td>\n      <td>998670.0</td>\n      <td>582230.0</td>\n      <td>501500.0</td>\n      <td>56396.0</td>\n      <td>143980.0</td>\n      <td>678490.0</td>\n      <td>36262.0</td>\n      <td>24956.0</td>\n      <td>...</td>\n      <td>7114940.0</td>\n      <td>484820.0</td>\n      <td>1288680.0</td>\n      <td>336880.0</td>\n      <td>70510.0</td>\n      <td>1206545.6</td>\n      <td>1542830.0</td>\n      <td>325170.0</td>\n      <td>4729100.0</td>\n      <td>1813997.0</td>\n    </tr>\n    <tr>\n      <th>Mu</th>\n      <td>156180.0</td>\n      <td>NaN</td>\n      <td>1124200.0</td>\n      <td>654830.0</td>\n      <td>596080.0</td>\n      <td>63704.0</td>\n      <td>179890.0</td>\n      <td>794570.0</td>\n      <td>45218.0</td>\n      <td>29032.0</td>\n      <td>...</td>\n      <td>7725820.0</td>\n      <td>537621.0</td>\n      <td>1458880.0</td>\n      <td>416900.0</td>\n      <td>89074.0</td>\n      <td>1340536.7</td>\n      <td>1773080.0</td>\n      <td>367600.0</td>\n      <td>5643700.0</td>\n      <td>2047737.0</td>\n    </tr>\n    <tr>\n      <th>Mu</th>\n      <td>152030.0</td>\n      <td>NaN</td>\n      <td>1035400.0</td>\n      <td>674170.0</td>\n      <td>560730.0</td>\n      <td>62452.0</td>\n      <td>180330.0</td>\n      <td>780440.0</td>\n      <td>42040.0</td>\n      <td>26489.0</td>\n      <td>...</td>\n      <td>7941970.0</td>\n      <td>577469.0</td>\n      <td>1350120.0</td>\n      <td>400280.0</td>\n      <td>80316.0</td>\n      <td>1295952.6</td>\n      <td>1803340.0</td>\n      <td>366820.0</td>\n      <td>5782510.0</td>\n      <td>1922043.0</td>\n    </tr>\n    <tr>\n      <th>Mu</th>\n      <td>261690.0</td>\n      <td>NaN</td>\n      <td>1385600.0</td>\n      <td>883520.0</td>\n      <td>625720.0</td>\n      <td>94033.0</td>\n      <td>256160.0</td>\n      <td>1071600.0</td>\n      <td>48114.0</td>\n      <td>35619.0</td>\n      <td>...</td>\n      <td>13318820.0</td>\n      <td>813366.0</td>\n      <td>1700150.0</td>\n      <td>552590.0</td>\n      <td>106107.0</td>\n      <td>2214550.0</td>\n      <td>2831090.0</td>\n      <td>529470.0</td>\n      <td>8512580.0</td>\n      <td>2452924.0</td>\n    </tr>\n  </tbody>\n</table>\n<p>16 rows × 5360 columns</p>\n</div>"
     },
     "execution_count": 29,
     "metadata": {},
     "output_type": "execute_result"
    }
   ],
   "source": [
    "raw_R2_df = proteomic_raw_df[\n",
    "    proteomic_raw_df.columns[(proteomic_raw_df.columns.str[3:5] == \"R2\") == True]\n",
    "]\n",
    "raw_R2_df = raw_R2_df.transpose()\n",
    "raw_R2_df.index = [cond[6:8] for cond in list(raw_R2_df.index)]\n",
    "raw_R2_df.index = raw_R2_df.index.rename(\"Cell_type\")\n",
    "\n",
    "raw_R2_df = raw_R2_df.sort_values(\"Cell_type\", ascending=False)\n",
    "raw_R2_df"
   ],
   "metadata": {
    "collapsed": false,
    "pycharm": {
     "name": "#%%\n"
    }
   }
  },
  {
   "cell_type": "code",
   "execution_count": 30,
   "outputs": [
    {
     "data": {
      "text/plain": "Main_ensembl_id  ENSG00000126653  ENSG00000124570  ENSG00000115677  \\\nCell_type                                                            \nWT                      108550.0              NaN        1667200.0   \nWT                      111670.0              NaN        1878900.0   \nWT                       85498.0              NaN        1632500.0   \nWT                       99239.0              NaN        1984500.0   \nWT                       92848.0              NaN        1764200.0   \nWT                      136290.0              NaN        1988400.0   \nWT                      118650.0              NaN        1854200.0   \nWT                      133270.0              NaN        2400300.0   \nMu                       92343.0              NaN        1490300.0   \nMu                      119310.0              NaN        1939800.0   \nMu                      110050.0              NaN        1851500.0   \nMu                       96349.0              NaN        1697200.0   \nMu                      112510.0              NaN        1653100.0   \nMu                      128080.0              NaN        1844300.0   \nMu                      134610.0              NaN        1677400.0   \nMu                      214620.0              NaN        2280200.0   \n\nMain_ensembl_id  ENSG00000110047  ENSG00000106588  ENSG00000011007  \\\nCell_type                                                            \nWT                      509650.0         474270.0          55748.0   \nWT                      549440.0         544550.0          55908.0   \nWT                      569680.0         460280.0          49921.0   \nWT                      692700.0         521490.0          60577.0   \nWT                      679770.0         459200.0          52500.0   \nWT                      776850.0         484740.0          75984.0   \nWT                      752200.0         485480.0          62077.0   \nWT                      978810.0         617400.0          71590.0   \nMu                      460290.0         478480.0          55617.0   \nMu                      590780.0         560900.0          53719.0   \nMu                      637070.0         574990.0          59129.0   \nMu                      590670.0         540440.0          58232.0   \nMu                      588170.0         519630.0          63970.0   \nMu                      637960.0         598120.0          74224.0   \nMu                      645690.0         569490.0          68116.0   \nMu                      848520.0         638210.0         109470.0   \n\nMain_ensembl_id  ENSG00000184047  ENSG00000204463  ENSG00000101974  \\\nCell_type                                                            \nWT                       56867.0         658250.0          57563.0   \nWT                       66622.0         726070.0          73614.0   \nWT                       57868.0         576660.0          58495.0   \nWT                       81008.0         663390.0          75803.0   \nWT                       76951.0         625070.0          66413.0   \nWT                      130080.0         778100.0          82451.0   \nWT                       91445.0         743000.0          81368.0   \nWT                      117870.0         879560.0         100790.0   \nMu                       60108.0         644830.0          55992.0   \nMu                       72489.0         802970.0          79728.0   \nMu                       79914.0         744130.0          75093.0   \nMu                       70927.0         664900.0          70363.0   \nMu                       83368.0         694440.0          70856.0   \nMu                      100020.0         802960.0          83894.0   \nMu                      101810.0         753500.0          78613.0   \nMu                      191130.0        1081300.0         107500.0   \n\nMain_ensembl_id  ENSG00000144560  ...  ENSG00000167004  ENSG00000067955  \\\nCell_type                         ...                                     \nWT                       20814.0  ...        9088800.0         351520.0   \nWT                       26576.0  ...        8803490.0         391980.0   \nWT                       22309.0  ...        7237030.0         365550.0   \nWT                       25076.0  ...        8851460.0         423260.0   \nWT                       24486.0  ...        8346420.0         356980.0   \nWT                       29098.0  ...       12476320.0         458190.0   \nWT                       27692.0  ...       11503060.0         401850.0   \nWT                       31067.0  ...       13237830.0         476970.0   \nMu                       22367.0  ...        8208060.0         324910.0   \nMu                       26408.0  ...        8852340.0         404140.0   \nMu                       30316.0  ...        7751380.0         430170.0   \nMu                       28884.0  ...        7162190.0         404220.0   \nMu                       27829.0  ...        7743660.0         412580.0   \nMu                       29136.0  ...        8397400.0         511020.0   \nMu                       28936.0  ...        8681410.0         531610.0   \nMu                       42071.0  ...       14531330.0         758620.0   \n\nMain_ensembl_id  ENSG00000134440  ENSG00000127527  ENSG00000104833  \\\nCell_type                                                            \nWT                     1369110.0         436606.0              0.0   \nWT                     1512750.0         484845.0              0.0   \nWT                     1237720.0         406632.0              0.0   \nWT                     1430240.0         500116.0              0.0   \nWT                     1230478.0         454941.0              0.0   \nWT                     1301240.0         604125.0              0.0   \nWT                     1148707.0         541457.0              0.0   \nWT                     1449330.0         659018.0              0.0   \nMu                     1269890.0         441139.0              0.0   \nMu                     1628030.0         528148.0              0.0   \nMu                     1545620.0         518559.0              0.0   \nMu                     1325690.0         487340.0              0.0   \nMu                     1224240.0         527479.0              0.0   \nMu                     1380480.0         611797.0              0.0   \nMu                     1248008.0         608704.0              0.0   \nMu                     1615410.0         890518.0              0.0   \n\nMain_ensembl_id  ENSG00000198467  ENSG00000120802  ENSG00000159352  \\\nCell_type                                                            \nWT                     2187627.6        1549610.0         490130.0   \nWT                     2086258.2        1482030.0         436720.0   \nWT                     1961663.4        1290790.0         402870.0   \nWT                     2259976.7        1465710.0         486690.0   \nWT                     2048413.5        1382880.0         435810.0   \nWT                     3476546.6        1887750.0         532100.0   \nWT                     2347192.2        1750390.0         469430.0   \nWT                     3474800.0        1889890.0         574590.0   \nMu                     1594172.6        1421500.0         420220.0   \nMu                     1607210.6        1534410.0         490860.0   \nMu                     1974600.7        1495270.0         469520.0   \nMu                     1825918.2        1463830.0         458710.0   \nMu                     1877639.7        1584690.0         447960.0   \nMu                     2044167.5        1843980.0         513750.0   \nMu                     1963483.3        1886770.0         512010.0   \nMu                     3642082.0        2885060.0         745610.0   \n\nMain_ensembl_id  ENSG00000165119  ENSG00000131236  \nCell_type                                          \nWT                     5445130.0        2201903.0  \nWT                     5212170.0        2336779.0  \nWT                     4656890.0        2095045.0  \nWT                     5144430.0        2338682.0  \nWT                     4660410.0        2027864.0  \nWT                     6201300.0        2191119.0  \nWT                     5754640.0        2045146.0  \nWT                     6647100.0        2694514.0  \nMu                     5233610.0        1969481.0  \nMu                     5537720.0        2386663.0  \nMu                     5424790.0        2453955.0  \nMu                     5232630.0        2197839.0  \nMu                     5595000.0        2038823.0  \nMu                     6694990.0        2268899.0  \nMu                     6839780.0        2167883.0  \nMu                    10083560.0        2684662.0  \n\n[16 rows x 5360 columns]",
      "text/html": "<div>\n<style scoped>\n    .dataframe tbody tr th:only-of-type {\n        vertical-align: middle;\n    }\n\n    .dataframe tbody tr th {\n        vertical-align: top;\n    }\n\n    .dataframe thead th {\n        text-align: right;\n    }\n</style>\n<table border=\"1\" class=\"dataframe\">\n  <thead>\n    <tr style=\"text-align: right;\">\n      <th>Main_ensembl_id</th>\n      <th>ENSG00000126653</th>\n      <th>ENSG00000124570</th>\n      <th>ENSG00000115677</th>\n      <th>ENSG00000110047</th>\n      <th>ENSG00000106588</th>\n      <th>ENSG00000011007</th>\n      <th>ENSG00000184047</th>\n      <th>ENSG00000204463</th>\n      <th>ENSG00000101974</th>\n      <th>ENSG00000144560</th>\n      <th>...</th>\n      <th>ENSG00000167004</th>\n      <th>ENSG00000067955</th>\n      <th>ENSG00000134440</th>\n      <th>ENSG00000127527</th>\n      <th>ENSG00000104833</th>\n      <th>ENSG00000198467</th>\n      <th>ENSG00000120802</th>\n      <th>ENSG00000159352</th>\n      <th>ENSG00000165119</th>\n      <th>ENSG00000131236</th>\n    </tr>\n    <tr>\n      <th>Cell_type</th>\n      <th></th>\n      <th></th>\n      <th></th>\n      <th></th>\n      <th></th>\n      <th></th>\n      <th></th>\n      <th></th>\n      <th></th>\n      <th></th>\n      <th></th>\n      <th></th>\n      <th></th>\n      <th></th>\n      <th></th>\n      <th></th>\n      <th></th>\n      <th></th>\n      <th></th>\n      <th></th>\n      <th></th>\n    </tr>\n  </thead>\n  <tbody>\n    <tr>\n      <th>WT</th>\n      <td>108550.0</td>\n      <td>NaN</td>\n      <td>1667200.0</td>\n      <td>509650.0</td>\n      <td>474270.0</td>\n      <td>55748.0</td>\n      <td>56867.0</td>\n      <td>658250.0</td>\n      <td>57563.0</td>\n      <td>20814.0</td>\n      <td>...</td>\n      <td>9088800.0</td>\n      <td>351520.0</td>\n      <td>1369110.0</td>\n      <td>436606.0</td>\n      <td>0.0</td>\n      <td>2187627.6</td>\n      <td>1549610.0</td>\n      <td>490130.0</td>\n      <td>5445130.0</td>\n      <td>2201903.0</td>\n    </tr>\n    <tr>\n      <th>WT</th>\n      <td>111670.0</td>\n      <td>NaN</td>\n      <td>1878900.0</td>\n      <td>549440.0</td>\n      <td>544550.0</td>\n      <td>55908.0</td>\n      <td>66622.0</td>\n      <td>726070.0</td>\n      <td>73614.0</td>\n      <td>26576.0</td>\n      <td>...</td>\n      <td>8803490.0</td>\n      <td>391980.0</td>\n      <td>1512750.0</td>\n      <td>484845.0</td>\n      <td>0.0</td>\n      <td>2086258.2</td>\n      <td>1482030.0</td>\n      <td>436720.0</td>\n      <td>5212170.0</td>\n      <td>2336779.0</td>\n    </tr>\n    <tr>\n      <th>WT</th>\n      <td>85498.0</td>\n      <td>NaN</td>\n      <td>1632500.0</td>\n      <td>569680.0</td>\n      <td>460280.0</td>\n      <td>49921.0</td>\n      <td>57868.0</td>\n      <td>576660.0</td>\n      <td>58495.0</td>\n      <td>22309.0</td>\n      <td>...</td>\n      <td>7237030.0</td>\n      <td>365550.0</td>\n      <td>1237720.0</td>\n      <td>406632.0</td>\n      <td>0.0</td>\n      <td>1961663.4</td>\n      <td>1290790.0</td>\n      <td>402870.0</td>\n      <td>4656890.0</td>\n      <td>2095045.0</td>\n    </tr>\n    <tr>\n      <th>WT</th>\n      <td>99239.0</td>\n      <td>NaN</td>\n      <td>1984500.0</td>\n      <td>692700.0</td>\n      <td>521490.0</td>\n      <td>60577.0</td>\n      <td>81008.0</td>\n      <td>663390.0</td>\n      <td>75803.0</td>\n      <td>25076.0</td>\n      <td>...</td>\n      <td>8851460.0</td>\n      <td>423260.0</td>\n      <td>1430240.0</td>\n      <td>500116.0</td>\n      <td>0.0</td>\n      <td>2259976.7</td>\n      <td>1465710.0</td>\n      <td>486690.0</td>\n      <td>5144430.0</td>\n      <td>2338682.0</td>\n    </tr>\n    <tr>\n      <th>WT</th>\n      <td>92848.0</td>\n      <td>NaN</td>\n      <td>1764200.0</td>\n      <td>679770.0</td>\n      <td>459200.0</td>\n      <td>52500.0</td>\n      <td>76951.0</td>\n      <td>625070.0</td>\n      <td>66413.0</td>\n      <td>24486.0</td>\n      <td>...</td>\n      <td>8346420.0</td>\n      <td>356980.0</td>\n      <td>1230478.0</td>\n      <td>454941.0</td>\n      <td>0.0</td>\n      <td>2048413.5</td>\n      <td>1382880.0</td>\n      <td>435810.0</td>\n      <td>4660410.0</td>\n      <td>2027864.0</td>\n    </tr>\n    <tr>\n      <th>WT</th>\n      <td>136290.0</td>\n      <td>NaN</td>\n      <td>1988400.0</td>\n      <td>776850.0</td>\n      <td>484740.0</td>\n      <td>75984.0</td>\n      <td>130080.0</td>\n      <td>778100.0</td>\n      <td>82451.0</td>\n      <td>29098.0</td>\n      <td>...</td>\n      <td>12476320.0</td>\n      <td>458190.0</td>\n      <td>1301240.0</td>\n      <td>604125.0</td>\n      <td>0.0</td>\n      <td>3476546.6</td>\n      <td>1887750.0</td>\n      <td>532100.0</td>\n      <td>6201300.0</td>\n      <td>2191119.0</td>\n    </tr>\n    <tr>\n      <th>WT</th>\n      <td>118650.0</td>\n      <td>NaN</td>\n      <td>1854200.0</td>\n      <td>752200.0</td>\n      <td>485480.0</td>\n      <td>62077.0</td>\n      <td>91445.0</td>\n      <td>743000.0</td>\n      <td>81368.0</td>\n      <td>27692.0</td>\n      <td>...</td>\n      <td>11503060.0</td>\n      <td>401850.0</td>\n      <td>1148707.0</td>\n      <td>541457.0</td>\n      <td>0.0</td>\n      <td>2347192.2</td>\n      <td>1750390.0</td>\n      <td>469430.0</td>\n      <td>5754640.0</td>\n      <td>2045146.0</td>\n    </tr>\n    <tr>\n      <th>WT</th>\n      <td>133270.0</td>\n      <td>NaN</td>\n      <td>2400300.0</td>\n      <td>978810.0</td>\n      <td>617400.0</td>\n      <td>71590.0</td>\n      <td>117870.0</td>\n      <td>879560.0</td>\n      <td>100790.0</td>\n      <td>31067.0</td>\n      <td>...</td>\n      <td>13237830.0</td>\n      <td>476970.0</td>\n      <td>1449330.0</td>\n      <td>659018.0</td>\n      <td>0.0</td>\n      <td>3474800.0</td>\n      <td>1889890.0</td>\n      <td>574590.0</td>\n      <td>6647100.0</td>\n      <td>2694514.0</td>\n    </tr>\n    <tr>\n      <th>Mu</th>\n      <td>92343.0</td>\n      <td>NaN</td>\n      <td>1490300.0</td>\n      <td>460290.0</td>\n      <td>478480.0</td>\n      <td>55617.0</td>\n      <td>60108.0</td>\n      <td>644830.0</td>\n      <td>55992.0</td>\n      <td>22367.0</td>\n      <td>...</td>\n      <td>8208060.0</td>\n      <td>324910.0</td>\n      <td>1269890.0</td>\n      <td>441139.0</td>\n      <td>0.0</td>\n      <td>1594172.6</td>\n      <td>1421500.0</td>\n      <td>420220.0</td>\n      <td>5233610.0</td>\n      <td>1969481.0</td>\n    </tr>\n    <tr>\n      <th>Mu</th>\n      <td>119310.0</td>\n      <td>NaN</td>\n      <td>1939800.0</td>\n      <td>590780.0</td>\n      <td>560900.0</td>\n      <td>53719.0</td>\n      <td>72489.0</td>\n      <td>802970.0</td>\n      <td>79728.0</td>\n      <td>26408.0</td>\n      <td>...</td>\n      <td>8852340.0</td>\n      <td>404140.0</td>\n      <td>1628030.0</td>\n      <td>528148.0</td>\n      <td>0.0</td>\n      <td>1607210.6</td>\n      <td>1534410.0</td>\n      <td>490860.0</td>\n      <td>5537720.0</td>\n      <td>2386663.0</td>\n    </tr>\n    <tr>\n      <th>Mu</th>\n      <td>110050.0</td>\n      <td>NaN</td>\n      <td>1851500.0</td>\n      <td>637070.0</td>\n      <td>574990.0</td>\n      <td>59129.0</td>\n      <td>79914.0</td>\n      <td>744130.0</td>\n      <td>75093.0</td>\n      <td>30316.0</td>\n      <td>...</td>\n      <td>7751380.0</td>\n      <td>430170.0</td>\n      <td>1545620.0</td>\n      <td>518559.0</td>\n      <td>0.0</td>\n      <td>1974600.7</td>\n      <td>1495270.0</td>\n      <td>469520.0</td>\n      <td>5424790.0</td>\n      <td>2453955.0</td>\n    </tr>\n    <tr>\n      <th>Mu</th>\n      <td>96349.0</td>\n      <td>NaN</td>\n      <td>1697200.0</td>\n      <td>590670.0</td>\n      <td>540440.0</td>\n      <td>58232.0</td>\n      <td>70927.0</td>\n      <td>664900.0</td>\n      <td>70363.0</td>\n      <td>28884.0</td>\n      <td>...</td>\n      <td>7162190.0</td>\n      <td>404220.0</td>\n      <td>1325690.0</td>\n      <td>487340.0</td>\n      <td>0.0</td>\n      <td>1825918.2</td>\n      <td>1463830.0</td>\n      <td>458710.0</td>\n      <td>5232630.0</td>\n      <td>2197839.0</td>\n    </tr>\n    <tr>\n      <th>Mu</th>\n      <td>112510.0</td>\n      <td>NaN</td>\n      <td>1653100.0</td>\n      <td>588170.0</td>\n      <td>519630.0</td>\n      <td>63970.0</td>\n      <td>83368.0</td>\n      <td>694440.0</td>\n      <td>70856.0</td>\n      <td>27829.0</td>\n      <td>...</td>\n      <td>7743660.0</td>\n      <td>412580.0</td>\n      <td>1224240.0</td>\n      <td>527479.0</td>\n      <td>0.0</td>\n      <td>1877639.7</td>\n      <td>1584690.0</td>\n      <td>447960.0</td>\n      <td>5595000.0</td>\n      <td>2038823.0</td>\n    </tr>\n    <tr>\n      <th>Mu</th>\n      <td>128080.0</td>\n      <td>NaN</td>\n      <td>1844300.0</td>\n      <td>637960.0</td>\n      <td>598120.0</td>\n      <td>74224.0</td>\n      <td>100020.0</td>\n      <td>802960.0</td>\n      <td>83894.0</td>\n      <td>29136.0</td>\n      <td>...</td>\n      <td>8397400.0</td>\n      <td>511020.0</td>\n      <td>1380480.0</td>\n      <td>611797.0</td>\n      <td>0.0</td>\n      <td>2044167.5</td>\n      <td>1843980.0</td>\n      <td>513750.0</td>\n      <td>6694990.0</td>\n      <td>2268899.0</td>\n    </tr>\n    <tr>\n      <th>Mu</th>\n      <td>134610.0</td>\n      <td>NaN</td>\n      <td>1677400.0</td>\n      <td>645690.0</td>\n      <td>569490.0</td>\n      <td>68116.0</td>\n      <td>101810.0</td>\n      <td>753500.0</td>\n      <td>78613.0</td>\n      <td>28936.0</td>\n      <td>...</td>\n      <td>8681410.0</td>\n      <td>531610.0</td>\n      <td>1248008.0</td>\n      <td>608704.0</td>\n      <td>0.0</td>\n      <td>1963483.3</td>\n      <td>1886770.0</td>\n      <td>512010.0</td>\n      <td>6839780.0</td>\n      <td>2167883.0</td>\n    </tr>\n    <tr>\n      <th>Mu</th>\n      <td>214620.0</td>\n      <td>NaN</td>\n      <td>2280200.0</td>\n      <td>848520.0</td>\n      <td>638210.0</td>\n      <td>109470.0</td>\n      <td>191130.0</td>\n      <td>1081300.0</td>\n      <td>107500.0</td>\n      <td>42071.0</td>\n      <td>...</td>\n      <td>14531330.0</td>\n      <td>758620.0</td>\n      <td>1615410.0</td>\n      <td>890518.0</td>\n      <td>0.0</td>\n      <td>3642082.0</td>\n      <td>2885060.0</td>\n      <td>745610.0</td>\n      <td>10083560.0</td>\n      <td>2684662.0</td>\n    </tr>\n  </tbody>\n</table>\n<p>16 rows × 5360 columns</p>\n</div>"
     },
     "execution_count": 30,
     "metadata": {},
     "output_type": "execute_result"
    }
   ],
   "source": [
    "raw_R3_df = proteomic_raw_df[\n",
    "    proteomic_raw_df.columns[(proteomic_raw_df.columns.str[3:5] == \"R3\") == True]\n",
    "]\n",
    "raw_R3_df = raw_R3_df.transpose()\n",
    "raw_R3_df.index = [cond[6:8] for cond in list(raw_R3_df.index)]\n",
    "raw_R3_df.index = raw_R3_df.index.rename(\"Cell_type\")\n",
    "\n",
    "raw_R3_df = raw_R3_df.sort_values(\"Cell_type\", ascending=False)\n",
    "raw_R3_df"
   ],
   "metadata": {
    "collapsed": false,
    "pycharm": {
     "name": "#%%\n"
    }
   }
  },
  {
   "cell_type": "code",
   "execution_count": 31,
   "outputs": [],
   "source": [
    "raw_R1_tmpdf = vdata.TemporalDataFrame(\n",
    "    raw_R1_df,\n",
    "    time_list=[\n",
    "        \"5D\",\n",
    "        \"6D\",\n",
    "        \"7D\",\n",
    "        \"8D\",\n",
    "        \"9D\",\n",
    "        \"10D\",\n",
    "        \"12D\",\n",
    "        \"14D\",\n",
    "        \"5D\",\n",
    "        \"6D\",\n",
    "        \"7D\",\n",
    "        \"8D\",\n",
    "        \"9D\",\n",
    "        \"10D\",\n",
    "        \"12D\",\n",
    "        \"14D\",\n",
    "    ],\n",
    ")\n",
    "raw_R2_tmpdf = vdata.TemporalDataFrame(\n",
    "    raw_R1_df,\n",
    "    time_list=[\n",
    "        \"5D\",\n",
    "        \"6D\",\n",
    "        \"7D\",\n",
    "        \"8D\",\n",
    "        \"9D\",\n",
    "        \"10D\",\n",
    "        \"12D\",\n",
    "        \"14D\",\n",
    "        \"5D\",\n",
    "        \"6D\",\n",
    "        \"7D\",\n",
    "        \"8D\",\n",
    "        \"9D\",\n",
    "        \"10D\",\n",
    "        \"12D\",\n",
    "        \"14D\",\n",
    "    ],\n",
    ")\n",
    "raw_R3_tmpdf = vdata.TemporalDataFrame(\n",
    "    raw_R1_df,\n",
    "    time_list=[\n",
    "        \"5D\",\n",
    "        \"6D\",\n",
    "        \"7D\",\n",
    "        \"8D\",\n",
    "        \"9D\",\n",
    "        \"10D\",\n",
    "        \"12D\",\n",
    "        \"14D\",\n",
    "        \"5D\",\n",
    "        \"6D\",\n",
    "        \"7D\",\n",
    "        \"8D\",\n",
    "        \"9D\",\n",
    "        \"10D\",\n",
    "        \"12D\",\n",
    "        \"14D\",\n",
    "    ],\n",
    ")"
   ],
   "metadata": {
    "collapsed": false,
    "pycharm": {
     "name": "#%%\n"
    }
   }
  },
  {
   "cell_type": "markdown",
   "source": [
    "## Vdata"
   ],
   "metadata": {
    "collapsed": false
   }
  },
  {
   "cell_type": "code",
   "execution_count": 32,
   "outputs": [],
   "source": [
    "raw_proteomic = {\n",
    "    \"R1\": raw_R1_tmpdf,\n",
    "    \"R2\": raw_R2_tmpdf,\n",
    "    \"R3\": raw_R3_tmpdf,\n",
    "    \"Mean\": raw_Mean_tmpdf,\n",
    "}"
   ],
   "metadata": {
    "collapsed": false,
    "pycharm": {
     "name": "#%%\n"
    }
   }
  },
  {
   "cell_type": "code",
   "execution_count": 33,
   "outputs": [],
   "source": [
    "obs = TemporalDataFrame(\n",
    "    {\"Cell_type\": raw_R1_tmpdf.index},\n",
    "    time_list=[\n",
    "        \"5D\",\n",
    "        \"5D\",\n",
    "        \"6D\",\n",
    "        \"6D\",\n",
    "        \"7D\",\n",
    "        \"7D\",\n",
    "        \"8D\",\n",
    "        \"8D\",\n",
    "        \"9D\",\n",
    "        \"9D\",\n",
    "        \"10D\",\n",
    "        \"10D\",\n",
    "        \"12D\",\n",
    "        \"12D\",\n",
    "        \"14D\",\n",
    "        \"14D\",\n",
    "    ],\n",
    "    index=[\n",
    "        \"WT\",\n",
    "        \"Mu\",\n",
    "        \"WT\",\n",
    "        \"Mu\",\n",
    "        \"WT\",\n",
    "        \"Mu\",\n",
    "        \"WT\",\n",
    "        \"Mu\",\n",
    "        \"WT\",\n",
    "        \"Mu\",\n",
    "        \"WT\",\n",
    "        \"Mu\",\n",
    "        \"WT\",\n",
    "        \"Mu\",\n",
    "        \"WT\",\n",
    "        \"Mu\",\n",
    "    ],\n",
    "    name=\"obs\",\n",
    ")"
   ],
   "metadata": {
    "collapsed": false,
    "pycharm": {
     "name": "#%%\n"
    }
   }
  },
  {
   "cell_type": "code",
   "execution_count": 34,
   "outputs": [],
   "source": [
    "proteomic_raw_vdata = VData(raw_proteomic, obs=obs, var=proteomic_var_df)"
   ],
   "metadata": {
    "collapsed": false,
    "pycharm": {
     "name": "#%%\n"
    }
   }
  },
  {
   "cell_type": "code",
   "execution_count": 35,
   "outputs": [
    {
     "data": {
      "text/plain": "                        id    short_name      organism\nMain_ensembl_id                                       \nENSG00000126653          0  NSRP1;CCDC55  Homo sapiens\nENSG00000124570          1      SERPINB6  Homo sapiens\nENSG00000115677          2         HDLBP  Homo sapiens\nENSG00000110047          3          EHD1  Homo sapiens\nENSG00000106588          4         PSMA2  Homo sapiens\n...                    ...           ...           ...\nENSG00000198467  2630;4028          TPM2  Homo sapiens\nENSG00000120802  3074;3075          TMPO  Homo sapiens\nENSG00000159352  3281;4053         PSMD4  Homo sapiens\nENSG00000165119  3362;4016        HNRNPK  Homo sapiens\nENSG00000131236  3494;4000          CAP1  Homo sapiens\n\n[5360 rows x 3 columns]",
      "text/html": "<div>\n<style scoped>\n    .dataframe tbody tr th:only-of-type {\n        vertical-align: middle;\n    }\n\n    .dataframe tbody tr th {\n        vertical-align: top;\n    }\n\n    .dataframe thead th {\n        text-align: right;\n    }\n</style>\n<table border=\"1\" class=\"dataframe\">\n  <thead>\n    <tr style=\"text-align: right;\">\n      <th></th>\n      <th>id</th>\n      <th>short_name</th>\n      <th>organism</th>\n    </tr>\n    <tr>\n      <th>Main_ensembl_id</th>\n      <th></th>\n      <th></th>\n      <th></th>\n    </tr>\n  </thead>\n  <tbody>\n    <tr>\n      <th>ENSG00000126653</th>\n      <td>0</td>\n      <td>NSRP1;CCDC55</td>\n      <td>Homo sapiens</td>\n    </tr>\n    <tr>\n      <th>ENSG00000124570</th>\n      <td>1</td>\n      <td>SERPINB6</td>\n      <td>Homo sapiens</td>\n    </tr>\n    <tr>\n      <th>ENSG00000115677</th>\n      <td>2</td>\n      <td>HDLBP</td>\n      <td>Homo sapiens</td>\n    </tr>\n    <tr>\n      <th>ENSG00000110047</th>\n      <td>3</td>\n      <td>EHD1</td>\n      <td>Homo sapiens</td>\n    </tr>\n    <tr>\n      <th>ENSG00000106588</th>\n      <td>4</td>\n      <td>PSMA2</td>\n      <td>Homo sapiens</td>\n    </tr>\n    <tr>\n      <th>...</th>\n      <td>...</td>\n      <td>...</td>\n      <td>...</td>\n    </tr>\n    <tr>\n      <th>ENSG00000198467</th>\n      <td>2630;4028</td>\n      <td>TPM2</td>\n      <td>Homo sapiens</td>\n    </tr>\n    <tr>\n      <th>ENSG00000120802</th>\n      <td>3074;3075</td>\n      <td>TMPO</td>\n      <td>Homo sapiens</td>\n    </tr>\n    <tr>\n      <th>ENSG00000159352</th>\n      <td>3281;4053</td>\n      <td>PSMD4</td>\n      <td>Homo sapiens</td>\n    </tr>\n    <tr>\n      <th>ENSG00000165119</th>\n      <td>3362;4016</td>\n      <td>HNRNPK</td>\n      <td>Homo sapiens</td>\n    </tr>\n    <tr>\n      <th>ENSG00000131236</th>\n      <td>3494;4000</td>\n      <td>CAP1</td>\n      <td>Homo sapiens</td>\n    </tr>\n  </tbody>\n</table>\n<p>5360 rows × 3 columns</p>\n</div>"
     },
     "execution_count": 35,
     "metadata": {},
     "output_type": "execute_result"
    }
   ],
   "source": [
    "proteomic_raw_vdata.var"
   ],
   "metadata": {
    "collapsed": false,
    "pycharm": {
     "name": "#%%\n"
    }
   }
  },
  {
   "cell_type": "code",
   "execution_count": 36,
   "outputs": [
    {
     "data": {
      "text/plain": "View of TemporalDataFrame 'obs'\n\u001B[4mTime point : 14.0 days\u001B[0m\n   Cell_type\nWT        WT\nMu        Mu\n\n[2 x 1]\n"
     },
     "execution_count": 36,
     "metadata": {},
     "output_type": "execute_result"
    }
   ],
   "source": [
    "proteomic_raw_vdata.obs[\"14D\"]"
   ],
   "metadata": {
    "collapsed": false,
    "pycharm": {
     "name": "#%%\n"
    }
   }
  },
  {
   "cell_type": "code",
   "execution_count": 37,
   "outputs": [
    {
     "data": {
      "text/plain": "numpy.float64"
     },
     "execution_count": 37,
     "metadata": {},
     "output_type": "execute_result"
    }
   ],
   "source": [
    "type(proteomic_raw_vdata.layers[\"R1\"][\"5D\", \"WT\", \"ENSG00000101974\"].values[0, 0])"
   ],
   "metadata": {
    "collapsed": false,
    "pycharm": {
     "name": "#%%\n"
    }
   }
  },
  {
   "cell_type": "code",
   "execution_count": 44,
   "outputs": [],
   "source": [
    "import numpy as np\n",
    "proteomic_raw_vdata.layers[\"Mean\"].astype(np.float64)"
   ],
   "metadata": {
    "collapsed": false,
    "pycharm": {
     "name": "#%%\n"
    }
   }
  },
  {
   "cell_type": "code",
   "execution_count": 45,
   "outputs": [
    {
     "name": "stdout",
     "output_type": "stream",
     "text": [
      "16:25:51 :       INFO : \u001B[36m[write.py] Saving dict layers\u001B[m\n",
      "16:25:51 :       INFO : \u001B[36m[write.py]   ↳ Saving TemporalDataFrame R1\u001B[m\n",
      "16:25:51 :       INFO : \u001B[36m[write.py]     ↳ Saving Series index\u001B[m\n",
      "16:25:51 :       INFO : \u001B[36m[write.py]     ↳ Saving None value for time_col_name\u001B[m\n",
      "16:25:51 :       INFO : \u001B[36m[write.py]     ↳ Saving Series columns\u001B[m\n",
      "16:25:51 :       INFO : \u001B[36m[write.py]     ↳ Saving time point 5.0D\u001B[m\n",
      "16:25:52 :       INFO : \u001B[36m[write.py]     ↳ Saving time point 6.0D\u001B[m\n",
      "16:25:52 :       INFO : \u001B[36m[write.py]     ↳ Saving time point 7.0D\u001B[m\n",
      "16:25:52 :       INFO : \u001B[36m[write.py]     ↳ Saving time point 8.0D\u001B[m\n",
      "16:25:53 :       INFO : \u001B[36m[write.py]     ↳ Saving time point 9.0D\u001B[m\n",
      "16:25:53 :       INFO : \u001B[36m[write.py]     ↳ Saving time point 10.0D\u001B[m\n",
      "16:25:54 :       INFO : \u001B[36m[write.py]     ↳ Saving time point 12.0D\u001B[m\n",
      "16:25:54 :       INFO : \u001B[36m[write.py]     ↳ Saving time point 14.0D\u001B[m\n",
      "16:25:54 :       INFO : \u001B[36m[write.py]   ↳ Saving TemporalDataFrame R2\u001B[m\n",
      "16:25:54 :       INFO : \u001B[36m[write.py]     ↳ Saving Series index\u001B[m\n",
      "16:25:54 :       INFO : \u001B[36m[write.py]     ↳ Saving None value for time_col_name\u001B[m\n",
      "16:25:54 :       INFO : \u001B[36m[write.py]     ↳ Saving Series columns\u001B[m\n",
      "16:25:54 :       INFO : \u001B[36m[write.py]     ↳ Saving time point 5.0D\u001B[m\n",
      "16:25:55 :       INFO : \u001B[36m[write.py]     ↳ Saving time point 6.0D\u001B[m\n",
      "16:25:55 :       INFO : \u001B[36m[write.py]     ↳ Saving time point 7.0D\u001B[m\n",
      "16:25:56 :       INFO : \u001B[36m[write.py]     ↳ Saving time point 8.0D\u001B[m\n",
      "16:25:56 :       INFO : \u001B[36m[write.py]     ↳ Saving time point 9.0D\u001B[m\n",
      "16:25:57 :       INFO : \u001B[36m[write.py]     ↳ Saving time point 10.0D\u001B[m\n",
      "16:25:57 :       INFO : \u001B[36m[write.py]     ↳ Saving time point 12.0D\u001B[m\n",
      "16:25:57 :       INFO : \u001B[36m[write.py]     ↳ Saving time point 14.0D\u001B[m\n",
      "16:25:58 :       INFO : \u001B[36m[write.py]   ↳ Saving TemporalDataFrame R3\u001B[m\n",
      "16:25:58 :       INFO : \u001B[36m[write.py]     ↳ Saving Series index\u001B[m\n",
      "16:25:58 :       INFO : \u001B[36m[write.py]     ↳ Saving None value for time_col_name\u001B[m\n",
      "16:25:58 :       INFO : \u001B[36m[write.py]     ↳ Saving Series columns\u001B[m\n",
      "16:25:58 :       INFO : \u001B[36m[write.py]     ↳ Saving time point 5.0D\u001B[m\n",
      "16:25:58 :       INFO : \u001B[36m[write.py]     ↳ Saving time point 6.0D\u001B[m\n",
      "16:25:59 :       INFO : \u001B[36m[write.py]     ↳ Saving time point 7.0D\u001B[m\n",
      "16:25:59 :       INFO : \u001B[36m[write.py]     ↳ Saving time point 8.0D\u001B[m\n",
      "16:25:59 :       INFO : \u001B[36m[write.py]     ↳ Saving time point 9.0D\u001B[m\n",
      "16:26:00 :       INFO : \u001B[36m[write.py]     ↳ Saving time point 10.0D\u001B[m\n",
      "16:26:00 :       INFO : \u001B[36m[write.py]     ↳ Saving time point 12.0D\u001B[m\n",
      "16:26:01 :       INFO : \u001B[36m[write.py]     ↳ Saving time point 14.0D\u001B[m\n",
      "16:26:01 :       INFO : \u001B[36m[write.py]   ↳ Saving TemporalDataFrame Mean\u001B[m\n",
      "16:26:01 :       INFO : \u001B[36m[write.py]     ↳ Saving Series index\u001B[m\n",
      "16:26:01 :       INFO : \u001B[36m[write.py]     ↳ Saving None value for time_col_name\u001B[m\n",
      "16:26:01 :       INFO : \u001B[36m[write.py]     ↳ Saving Series columns\u001B[m\n",
      "16:26:01 :       INFO : \u001B[36m[write.py]     ↳ Saving time point 5.0D\u001B[m\n",
      "16:26:01 :       INFO : \u001B[36m[write.py]     ↳ Saving time point 6.0D\u001B[m\n",
      "16:26:02 :       INFO : \u001B[36m[write.py]     ↳ Saving time point 7.0D\u001B[m\n",
      "16:26:02 :       INFO : \u001B[36m[write.py]     ↳ Saving time point 8.0D\u001B[m\n",
      "16:26:03 :       INFO : \u001B[36m[write.py]     ↳ Saving time point 9.0D\u001B[m\n",
      "16:26:03 :       INFO : \u001B[36m[write.py]     ↳ Saving time point 10.0D\u001B[m\n",
      "16:26:04 :       INFO : \u001B[36m[write.py]     ↳ Saving time point 12.0D\u001B[m\n",
      "16:26:04 :       INFO : \u001B[36m[write.py]     ↳ Saving time point 14.0D\u001B[m\n",
      "16:26:04 :       INFO : \u001B[36m[write.py] Saving TemporalDataFrame obs\u001B[m\n",
      "16:26:04 :       INFO : \u001B[36m[write.py]   ↳ Saving Series index\u001B[m\n",
      "16:26:04 :       INFO : \u001B[36m[write.py]   ↳ Saving None value for time_col_name\u001B[m\n",
      "16:26:04 :       INFO : \u001B[36m[write.py]   ↳ Saving Series time_list\u001B[m\n",
      "16:26:04 :       INFO : \u001B[36m[write.py]   ↳ Saving array Cell_type\u001B[m\n",
      "16:26:04 :       INFO : \u001B[36m[write.py] Saving dict obsm\u001B[m\n",
      "16:26:04 :       INFO : \u001B[36m[write.py] Saving dict obsp\u001B[m\n",
      "16:26:04 :       INFO : \u001B[36m[write.py] Saving VDataFrame var\u001B[m\n",
      "16:26:04 :       INFO : \u001B[36m[write.py]   ↳ Saving Series index\u001B[m\n",
      "16:26:04 :       INFO : \u001B[36m[write.py]   ↳ Saving Series id\u001B[m\n",
      "16:26:04 :       INFO : \u001B[36m[write.py]   ↳ Saving Series short_name\u001B[m\n",
      "16:26:04 :       INFO : \u001B[36m[write.py]   ↳ Saving Series organism\u001B[m\n",
      "16:26:04 :       INFO : \u001B[36m[write.py] Saving dict varm\u001B[m\n",
      "16:26:04 :       INFO : \u001B[36m[write.py] Saving dict varp\u001B[m\n",
      "16:26:04 :       INFO : \u001B[36m[write.py] Saving VDataFrame time_points\u001B[m\n",
      "16:26:04 :       INFO : \u001B[36m[write.py]   ↳ Saving Series index\u001B[m\n",
      "16:26:04 :       INFO : \u001B[36m[write.py]   ↳ Saving Series value\u001B[m\n",
      "16:26:04 :       INFO : \u001B[36m[write.py] Saving dict uns\u001B[m\n"
     ]
    }
   ],
   "source": [
    "setLoggingLevel('INFO')\n",
    "proteomic_raw_vdata.write(\"./../results/Proteomic_VData.h5\")"
   ],
   "metadata": {
    "collapsed": false,
    "pycharm": {
     "name": "#%%\n"
    }
   }
  },
  {
   "cell_type": "markdown",
   "source": [
    "## 9 - test VData reading"
   ],
   "metadata": {
    "collapsed": false
   }
  },
  {
   "cell_type": "code",
   "execution_count": null,
   "outputs": [],
   "source": [
    "vdata_prot_read = vdata.read_from_csv(\"./../results/Proteomic_VData\")"
   ],
   "metadata": {
    "collapsed": false,
    "pycharm": {
     "name": "#%%\n"
    }
   }
  },
  {
   "cell_type": "code",
   "execution_count": null,
   "outputs": [],
   "source": [
    "vdata_prot_read.var"
   ],
   "metadata": {
    "collapsed": false,
    "pycharm": {
     "name": "#%%\n"
    }
   }
  },
  {
   "cell_type": "code",
   "execution_count": null,
   "outputs": [],
   "source": [
    "vdata_prot_read.layers[\"Mean\"]"
   ],
   "metadata": {
    "collapsed": false,
    "pycharm": {
     "name": "#%%\n"
    }
   }
  }
 ],
 "metadata": {
  "kernelspec": {
   "display_name": "Python 3",
   "language": "python",
   "name": "python3"
  },
  "language_info": {
   "codemirror_mode": {
    "name": "ipython",
    "version": 2
   },
   "file_extension": ".py",
   "mimetype": "text/x-python",
   "name": "python",
   "nbconvert_exporter": "python",
   "pygments_lexer": "ipython2",
   "version": "2.7.6"
  }
 },
 "nbformat": 4,
 "nbformat_minor": 0
}