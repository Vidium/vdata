{
 "cells": [
  {
   "cell_type": "code",
   "execution_count": 1,
   "metadata": {
    "collapsed": true
   },
   "outputs": [],
   "source": [
    "home_dir = \"/home/matteo\"\n",
    "import sys\n",
    "project_dir = home_dir + \"/git/real\"\n",
    "sys.path.append(project_dir)\n",
    "\n",
    "import os\n",
    "os.chdir(\"/home/matteo/git/real/\")\n",
    "\n",
    "import real.DataBaseUtils as dbu\n",
    "from real.core.db_to_model import from_db_to_model_all\n",
    "from real.core.convert_models import convert_to_gpu_model\n",
    "from real.core.Model import Model\n",
    "from real.core.GpuModel import GpuModel\n",
    "from real.core.exhaustive_calibration import call_one_simu_cupy\n",
    "from real.NameUtils import State\n",
    "from real.config.config import project_path\n",
    "from real.core.convert_models import convert_simu_to_vdata\n",
    "import pickle\n",
    "from real.core.vdata_utils import reference_vdata_to_db, vdata_from_filename, export_to_monocle_csv\n",
    "import numpy as np\n",
    "from real.Utils import md5\n",
    "import vdata\n",
    "\n",
    "db = dbu.connect_to_database()\n",
    "\n",
    "dump_dir = \"3-RetroEngineering/1-REAL_insilico_validation\""
   ]
  },
  {
   "cell_type": "code",
   "execution_count": 2,
   "outputs": [],
   "source": [
    "id_network = 553\n",
    "id_simProtocol = 28\n",
    "seed = 666\n",
    "\n",
    "model:Model = from_db_to_model_all(db=db, id_sim_protocol=id_simProtocol, id_grn=id_network, seed=seed)\n",
    "gpu_model:GpuModel = convert_to_gpu_model(model)\n",
    "\n",
    "\"\"\"\n",
    "gpu_model.sim_protocol.record.list_state_to_record = np.array([State.get_index(State.RNA),\n",
    "                                                               State.get_index(State.CP),\n",
    "                                                               State.get_index(State.KON),\n",
    "                                                               State.get_index(State.KOFF)])\n",
    "plot.plot_data_4main_from_model(gpu_model, rec_data_gpu, ['A', 'B', 'D', 'E'])\n",
    "import matplotlib.pyplot as plt\n",
    "plt.show()\n",
    "\"\"\"\n",
    "gpu_model.sim_protocol.record.list_state_to_record = np.array([State.get_index(State.RNA),\n",
    "                                                               State.get_index(State.CP)])\n",
    "\n",
    "gpu_model.sim_protocol.record.n_state_to_record = len(gpu_model.sim_protocol.record.list_state_to_record)\n",
    "\n",
    "# specify only time point to record\n",
    "#TimePoints = [-40, -20, 0, 5, 10, 15, 20, 25, 30, 50, 90, 100, 120, 140, 160, 200]\n",
    "#TimePoints = [-40, 0, 5, 10, 15, 20, 30, 50, 100, 150]\n",
    "TimePoints = [-40,-20,0,5,10,15,20,25,30,50,90,100]\n",
    "#TimePoints = [-40,0,5,10,15,20,25,30,50,90,100]\n",
    "#TimePoints = [0,5,10,15,20,25,30,50,90,100]\n",
    "\n",
    "gpu_model.sim_protocol.set_time_point_to_record(TimePoints)\n",
    "\n",
    "rec_data_gpu, kox_beta = call_one_simu_cupy(gpu_model)"
   ],
   "metadata": {
    "collapsed": false,
    "pycharm": {
     "name": "#%%\n"
    }
   }
  },
  {
   "cell_type": "code",
   "execution_count": 3,
   "outputs": [],
   "source": [
    "vsimu = convert_simu_to_vdata(rec_data_gpu, gpu_model)[0]\n",
    "vsimu.name = f'insilico simulation for grn {id_network}'"
   ],
   "metadata": {
    "collapsed": false,
    "pycharm": {
     "name": "#%%\n"
    }
   }
  },
  {
   "cell_type": "code",
   "execution_count": 4,
   "outputs": [
    {
     "data": {
      "text/plain": "   gene_ensembl_id gene_shortname\n0                A              A\n1                B              B\n2                C              C\n3                D              D\n4                E              E\n5                F              F\n6                G              G\n7               G1             G1\n8              G10            G10\n9               G2             G2\n10              G3             G3\n11              G4             G4\n12              G5             G5\n13              G6             G6\n14              G7             G7\n15              G8             G8\n16              G9             G9\n17               H              H\n18              H1             H1\n19             H10            H10\n20              H2             H2\n21              H3             H3\n22              H4             H4\n23              H5             H5\n24              H6             H6\n25              H7             H7\n26              H8             H8\n27              H9             H9\n28               I              I\n29              J1             J1\n30              J2             J2\n31              J3             J3\n32              J4             J4\n33              J5             J5\n34              J6             J6\n35              J7             J7\n36              K1             K1\n37              K2             K2\n38              K3             K3\n39              M1             M1\n40              M2             M2\n41              N1             N1\n42              N2             N2\n43              O1             O1\n44              O2             O2\n45              X1             X1\n46              X2             X2\n47              Y1             Y1\n48              Y2             Y2\n49              Z1             Z1\n50              Z2             Z2",
      "text/html": "<div>\n<style scoped>\n    .dataframe tbody tr th:only-of-type {\n        vertical-align: middle;\n    }\n\n    .dataframe tbody tr th {\n        vertical-align: top;\n    }\n\n    .dataframe thead th {\n        text-align: right;\n    }\n</style>\n<table border=\"1\" class=\"dataframe\">\n  <thead>\n    <tr style=\"text-align: right;\">\n      <th></th>\n      <th>gene_ensembl_id</th>\n      <th>gene_shortname</th>\n    </tr>\n  </thead>\n  <tbody>\n    <tr>\n      <th>0</th>\n      <td>A</td>\n      <td>A</td>\n    </tr>\n    <tr>\n      <th>1</th>\n      <td>B</td>\n      <td>B</td>\n    </tr>\n    <tr>\n      <th>2</th>\n      <td>C</td>\n      <td>C</td>\n    </tr>\n    <tr>\n      <th>3</th>\n      <td>D</td>\n      <td>D</td>\n    </tr>\n    <tr>\n      <th>4</th>\n      <td>E</td>\n      <td>E</td>\n    </tr>\n    <tr>\n      <th>5</th>\n      <td>F</td>\n      <td>F</td>\n    </tr>\n    <tr>\n      <th>6</th>\n      <td>G</td>\n      <td>G</td>\n    </tr>\n    <tr>\n      <th>7</th>\n      <td>G1</td>\n      <td>G1</td>\n    </tr>\n    <tr>\n      <th>8</th>\n      <td>G10</td>\n      <td>G10</td>\n    </tr>\n    <tr>\n      <th>9</th>\n      <td>G2</td>\n      <td>G2</td>\n    </tr>\n    <tr>\n      <th>10</th>\n      <td>G3</td>\n      <td>G3</td>\n    </tr>\n    <tr>\n      <th>11</th>\n      <td>G4</td>\n      <td>G4</td>\n    </tr>\n    <tr>\n      <th>12</th>\n      <td>G5</td>\n      <td>G5</td>\n    </tr>\n    <tr>\n      <th>13</th>\n      <td>G6</td>\n      <td>G6</td>\n    </tr>\n    <tr>\n      <th>14</th>\n      <td>G7</td>\n      <td>G7</td>\n    </tr>\n    <tr>\n      <th>15</th>\n      <td>G8</td>\n      <td>G8</td>\n    </tr>\n    <tr>\n      <th>16</th>\n      <td>G9</td>\n      <td>G9</td>\n    </tr>\n    <tr>\n      <th>17</th>\n      <td>H</td>\n      <td>H</td>\n    </tr>\n    <tr>\n      <th>18</th>\n      <td>H1</td>\n      <td>H1</td>\n    </tr>\n    <tr>\n      <th>19</th>\n      <td>H10</td>\n      <td>H10</td>\n    </tr>\n    <tr>\n      <th>20</th>\n      <td>H2</td>\n      <td>H2</td>\n    </tr>\n    <tr>\n      <th>21</th>\n      <td>H3</td>\n      <td>H3</td>\n    </tr>\n    <tr>\n      <th>22</th>\n      <td>H4</td>\n      <td>H4</td>\n    </tr>\n    <tr>\n      <th>23</th>\n      <td>H5</td>\n      <td>H5</td>\n    </tr>\n    <tr>\n      <th>24</th>\n      <td>H6</td>\n      <td>H6</td>\n    </tr>\n    <tr>\n      <th>25</th>\n      <td>H7</td>\n      <td>H7</td>\n    </tr>\n    <tr>\n      <th>26</th>\n      <td>H8</td>\n      <td>H8</td>\n    </tr>\n    <tr>\n      <th>27</th>\n      <td>H9</td>\n      <td>H9</td>\n    </tr>\n    <tr>\n      <th>28</th>\n      <td>I</td>\n      <td>I</td>\n    </tr>\n    <tr>\n      <th>29</th>\n      <td>J1</td>\n      <td>J1</td>\n    </tr>\n    <tr>\n      <th>30</th>\n      <td>J2</td>\n      <td>J2</td>\n    </tr>\n    <tr>\n      <th>31</th>\n      <td>J3</td>\n      <td>J3</td>\n    </tr>\n    <tr>\n      <th>32</th>\n      <td>J4</td>\n      <td>J4</td>\n    </tr>\n    <tr>\n      <th>33</th>\n      <td>J5</td>\n      <td>J5</td>\n    </tr>\n    <tr>\n      <th>34</th>\n      <td>J6</td>\n      <td>J6</td>\n    </tr>\n    <tr>\n      <th>35</th>\n      <td>J7</td>\n      <td>J7</td>\n    </tr>\n    <tr>\n      <th>36</th>\n      <td>K1</td>\n      <td>K1</td>\n    </tr>\n    <tr>\n      <th>37</th>\n      <td>K2</td>\n      <td>K2</td>\n    </tr>\n    <tr>\n      <th>38</th>\n      <td>K3</td>\n      <td>K3</td>\n    </tr>\n    <tr>\n      <th>39</th>\n      <td>M1</td>\n      <td>M1</td>\n    </tr>\n    <tr>\n      <th>40</th>\n      <td>M2</td>\n      <td>M2</td>\n    </tr>\n    <tr>\n      <th>41</th>\n      <td>N1</td>\n      <td>N1</td>\n    </tr>\n    <tr>\n      <th>42</th>\n      <td>N2</td>\n      <td>N2</td>\n    </tr>\n    <tr>\n      <th>43</th>\n      <td>O1</td>\n      <td>O1</td>\n    </tr>\n    <tr>\n      <th>44</th>\n      <td>O2</td>\n      <td>O2</td>\n    </tr>\n    <tr>\n      <th>45</th>\n      <td>X1</td>\n      <td>X1</td>\n    </tr>\n    <tr>\n      <th>46</th>\n      <td>X2</td>\n      <td>X2</td>\n    </tr>\n    <tr>\n      <th>47</th>\n      <td>Y1</td>\n      <td>Y1</td>\n    </tr>\n    <tr>\n      <th>48</th>\n      <td>Y2</td>\n      <td>Y2</td>\n    </tr>\n    <tr>\n      <th>49</th>\n      <td>Z1</td>\n      <td>Z1</td>\n    </tr>\n    <tr>\n      <th>50</th>\n      <td>Z2</td>\n      <td>Z2</td>\n    </tr>\n  </tbody>\n</table>\n</div>"
     },
     "execution_count": 4,
     "metadata": {},
     "output_type": "execute_result"
    }
   ],
   "source": [
    "vsimu.var"
   ],
   "metadata": {
    "collapsed": false,
    "pycharm": {
     "name": "#%%\n"
    }
   }
  },
  {
   "cell_type": "code",
   "execution_count": 5,
   "outputs": [],
   "source": [
    "# Add cell_type\n",
    "vsimu.obs.insert(1,'cell_type','WT')\n",
    "\n",
    "# Change cell_index name to add cell_type (mandatory for concatenation)\n",
    "vsimu.set_obs_index([str(i)+'_WT' for i in vsimu.obs.index])\n",
    "\n",
    "# Change genes' index to set as genes' name (from Ensembl_Gene_ID\n",
    "vsimu.set_var_index(vsimu.var.gene_ensembl_id.values)"
   ],
   "metadata": {
    "collapsed": false,
    "pycharm": {
     "name": "#%%\n"
    }
   }
  },
  {
   "cell_type": "code",
   "execution_count": 6,
   "outputs": [
    {
     "data": {
      "text/plain": "    gene_ensembl_id gene_shortname\nA                 A              A\nB                 B              B\nC                 C              C\nD                 D              D\nE                 E              E\nF                 F              F\nG                 G              G\nG1               G1             G1\nG10             G10            G10\nG2               G2             G2\nG3               G3             G3\nG4               G4             G4\nG5               G5             G5\nG6               G6             G6\nG7               G7             G7\nG8               G8             G8\nG9               G9             G9\nH                 H              H\nH1               H1             H1\nH10             H10            H10\nH2               H2             H2\nH3               H3             H3\nH4               H4             H4\nH5               H5             H5\nH6               H6             H6\nH7               H7             H7\nH8               H8             H8\nH9               H9             H9\nI                 I              I\nJ1               J1             J1\nJ2               J2             J2\nJ3               J3             J3\nJ4               J4             J4\nJ5               J5             J5\nJ6               J6             J6\nJ7               J7             J7\nK1               K1             K1\nK2               K2             K2\nK3               K3             K3\nM1               M1             M1\nM2               M2             M2\nN1               N1             N1\nN2               N2             N2\nO1               O1             O1\nO2               O2             O2\nX1               X1             X1\nX2               X2             X2\nY1               Y1             Y1\nY2               Y2             Y2\nZ1               Z1             Z1\nZ2               Z2             Z2",
      "text/html": "<div>\n<style scoped>\n    .dataframe tbody tr th:only-of-type {\n        vertical-align: middle;\n    }\n\n    .dataframe tbody tr th {\n        vertical-align: top;\n    }\n\n    .dataframe thead th {\n        text-align: right;\n    }\n</style>\n<table border=\"1\" class=\"dataframe\">\n  <thead>\n    <tr style=\"text-align: right;\">\n      <th></th>\n      <th>gene_ensembl_id</th>\n      <th>gene_shortname</th>\n    </tr>\n  </thead>\n  <tbody>\n    <tr>\n      <th>A</th>\n      <td>A</td>\n      <td>A</td>\n    </tr>\n    <tr>\n      <th>B</th>\n      <td>B</td>\n      <td>B</td>\n    </tr>\n    <tr>\n      <th>C</th>\n      <td>C</td>\n      <td>C</td>\n    </tr>\n    <tr>\n      <th>D</th>\n      <td>D</td>\n      <td>D</td>\n    </tr>\n    <tr>\n      <th>E</th>\n      <td>E</td>\n      <td>E</td>\n    </tr>\n    <tr>\n      <th>F</th>\n      <td>F</td>\n      <td>F</td>\n    </tr>\n    <tr>\n      <th>G</th>\n      <td>G</td>\n      <td>G</td>\n    </tr>\n    <tr>\n      <th>G1</th>\n      <td>G1</td>\n      <td>G1</td>\n    </tr>\n    <tr>\n      <th>G10</th>\n      <td>G10</td>\n      <td>G10</td>\n    </tr>\n    <tr>\n      <th>G2</th>\n      <td>G2</td>\n      <td>G2</td>\n    </tr>\n    <tr>\n      <th>G3</th>\n      <td>G3</td>\n      <td>G3</td>\n    </tr>\n    <tr>\n      <th>G4</th>\n      <td>G4</td>\n      <td>G4</td>\n    </tr>\n    <tr>\n      <th>G5</th>\n      <td>G5</td>\n      <td>G5</td>\n    </tr>\n    <tr>\n      <th>G6</th>\n      <td>G6</td>\n      <td>G6</td>\n    </tr>\n    <tr>\n      <th>G7</th>\n      <td>G7</td>\n      <td>G7</td>\n    </tr>\n    <tr>\n      <th>G8</th>\n      <td>G8</td>\n      <td>G8</td>\n    </tr>\n    <tr>\n      <th>G9</th>\n      <td>G9</td>\n      <td>G9</td>\n    </tr>\n    <tr>\n      <th>H</th>\n      <td>H</td>\n      <td>H</td>\n    </tr>\n    <tr>\n      <th>H1</th>\n      <td>H1</td>\n      <td>H1</td>\n    </tr>\n    <tr>\n      <th>H10</th>\n      <td>H10</td>\n      <td>H10</td>\n    </tr>\n    <tr>\n      <th>H2</th>\n      <td>H2</td>\n      <td>H2</td>\n    </tr>\n    <tr>\n      <th>H3</th>\n      <td>H3</td>\n      <td>H3</td>\n    </tr>\n    <tr>\n      <th>H4</th>\n      <td>H4</td>\n      <td>H4</td>\n    </tr>\n    <tr>\n      <th>H5</th>\n      <td>H5</td>\n      <td>H5</td>\n    </tr>\n    <tr>\n      <th>H6</th>\n      <td>H6</td>\n      <td>H6</td>\n    </tr>\n    <tr>\n      <th>H7</th>\n      <td>H7</td>\n      <td>H7</td>\n    </tr>\n    <tr>\n      <th>H8</th>\n      <td>H8</td>\n      <td>H8</td>\n    </tr>\n    <tr>\n      <th>H9</th>\n      <td>H9</td>\n      <td>H9</td>\n    </tr>\n    <tr>\n      <th>I</th>\n      <td>I</td>\n      <td>I</td>\n    </tr>\n    <tr>\n      <th>J1</th>\n      <td>J1</td>\n      <td>J1</td>\n    </tr>\n    <tr>\n      <th>J2</th>\n      <td>J2</td>\n      <td>J2</td>\n    </tr>\n    <tr>\n      <th>J3</th>\n      <td>J3</td>\n      <td>J3</td>\n    </tr>\n    <tr>\n      <th>J4</th>\n      <td>J4</td>\n      <td>J4</td>\n    </tr>\n    <tr>\n      <th>J5</th>\n      <td>J5</td>\n      <td>J5</td>\n    </tr>\n    <tr>\n      <th>J6</th>\n      <td>J6</td>\n      <td>J6</td>\n    </tr>\n    <tr>\n      <th>J7</th>\n      <td>J7</td>\n      <td>J7</td>\n    </tr>\n    <tr>\n      <th>K1</th>\n      <td>K1</td>\n      <td>K1</td>\n    </tr>\n    <tr>\n      <th>K2</th>\n      <td>K2</td>\n      <td>K2</td>\n    </tr>\n    <tr>\n      <th>K3</th>\n      <td>K3</td>\n      <td>K3</td>\n    </tr>\n    <tr>\n      <th>M1</th>\n      <td>M1</td>\n      <td>M1</td>\n    </tr>\n    <tr>\n      <th>M2</th>\n      <td>M2</td>\n      <td>M2</td>\n    </tr>\n    <tr>\n      <th>N1</th>\n      <td>N1</td>\n      <td>N1</td>\n    </tr>\n    <tr>\n      <th>N2</th>\n      <td>N2</td>\n      <td>N2</td>\n    </tr>\n    <tr>\n      <th>O1</th>\n      <td>O1</td>\n      <td>O1</td>\n    </tr>\n    <tr>\n      <th>O2</th>\n      <td>O2</td>\n      <td>O2</td>\n    </tr>\n    <tr>\n      <th>X1</th>\n      <td>X1</td>\n      <td>X1</td>\n    </tr>\n    <tr>\n      <th>X2</th>\n      <td>X2</td>\n      <td>X2</td>\n    </tr>\n    <tr>\n      <th>Y1</th>\n      <td>Y1</td>\n      <td>Y1</td>\n    </tr>\n    <tr>\n      <th>Y2</th>\n      <td>Y2</td>\n      <td>Y2</td>\n    </tr>\n    <tr>\n      <th>Z1</th>\n      <td>Z1</td>\n      <td>Z1</td>\n    </tr>\n    <tr>\n      <th>Z2</th>\n      <td>Z2</td>\n      <td>Z2</td>\n    </tr>\n  </tbody>\n</table>\n</div>"
     },
     "execution_count": 6,
     "metadata": {},
     "output_type": "execute_result"
    }
   ],
   "source": [
    "vsimu.var"
   ],
   "metadata": {
    "collapsed": false,
    "pycharm": {
     "name": "#%%\n"
    }
   }
  },
  {
   "cell_type": "code",
   "execution_count": 7,
   "outputs": [
    {
     "name": "stdout",
     "output_type": "stream",
     "text": [
      "12:07:55 :       INFO : \u001B[36m[write.py] Saving dict layers\u001B[m\n",
      "12:07:55 :       INFO : \u001B[36m[write.py]   ↳ Saving TemporalDataFrame mRNA\u001B[m\n",
      "12:07:55 :       INFO : \u001B[36m[write.py]     ↳ Saving Series index\u001B[m\n",
      "12:07:55 :       INFO : \u001B[36m[write.py]     ↳ Saving None value for time_col_name\u001B[m\n",
      "12:07:55 :       INFO : \u001B[36m[write.py]     ↳ Saving Series columns\u001B[m\n",
      "12:07:55 :       INFO : \u001B[36m[write.py]     ↳ Saving time point -40.0h\u001B[m\n",
      "12:07:55 :       INFO : \u001B[36m[write.py]     ↳ Saving time point -20.0h\u001B[m\n",
      "12:07:55 :       INFO : \u001B[36m[write.py]     ↳ Saving time point 0.0h\u001B[m\n",
      "12:07:55 :       INFO : \u001B[36m[write.py]     ↳ Saving time point 5.0h\u001B[m\n",
      "12:07:55 :       INFO : \u001B[36m[write.py]     ↳ Saving time point 10.0h\u001B[m\n",
      "12:07:55 :       INFO : \u001B[36m[write.py]     ↳ Saving time point 15.0h\u001B[m\n",
      "12:07:55 :       INFO : \u001B[36m[write.py]     ↳ Saving time point 20.0h\u001B[m\n",
      "12:07:55 :       INFO : \u001B[36m[write.py]     ↳ Saving time point 25.0h\u001B[m\n",
      "12:07:55 :       INFO : \u001B[36m[write.py]     ↳ Saving time point 30.0h\u001B[m\n",
      "12:07:55 :       INFO : \u001B[36m[write.py]     ↳ Saving time point 50.0h\u001B[m\n",
      "12:07:55 :       INFO : \u001B[36m[write.py]     ↳ Saving time point 90.0h\u001B[m\n",
      "12:07:55 :       INFO : \u001B[36m[write.py]     ↳ Saving time point 100.0h\u001B[m\n",
      "12:07:55 :       INFO : \u001B[36m[write.py]   ↳ Saving TemporalDataFrame Protein_C\u001B[m\n",
      "12:07:55 :       INFO : \u001B[36m[write.py]     ↳ Saving Series index\u001B[m\n",
      "12:07:55 :       INFO : \u001B[36m[write.py]     ↳ Saving None value for time_col_name\u001B[m\n",
      "12:07:55 :       INFO : \u001B[36m[write.py]     ↳ Saving Series columns\u001B[m\n",
      "12:07:55 :       INFO : \u001B[36m[write.py]     ↳ Saving time point -40.0h\u001B[m\n",
      "12:07:55 :       INFO : \u001B[36m[write.py]     ↳ Saving time point -20.0h\u001B[m\n",
      "12:07:55 :       INFO : \u001B[36m[write.py]     ↳ Saving time point 0.0h\u001B[m\n",
      "12:07:55 :       INFO : \u001B[36m[write.py]     ↳ Saving time point 5.0h\u001B[m\n",
      "12:07:55 :       INFO : \u001B[36m[write.py]     ↳ Saving time point 10.0h\u001B[m\n",
      "12:07:55 :       INFO : \u001B[36m[write.py]     ↳ Saving time point 15.0h\u001B[m\n",
      "12:07:55 :       INFO : \u001B[36m[write.py]     ↳ Saving time point 20.0h\u001B[m\n",
      "12:07:55 :       INFO : \u001B[36m[write.py]     ↳ Saving time point 25.0h\u001B[m\n",
      "12:07:55 :       INFO : \u001B[36m[write.py]     ↳ Saving time point 30.0h\u001B[m\n",
      "12:07:55 :       INFO : \u001B[36m[write.py]     ↳ Saving time point 50.0h\u001B[m\n",
      "12:07:55 :       INFO : \u001B[36m[write.py]     ↳ Saving time point 90.0h\u001B[m\n",
      "12:07:55 :       INFO : \u001B[36m[write.py]     ↳ Saving time point 100.0h\u001B[m\n",
      "12:07:55 :       INFO : \u001B[36m[write.py] Saving TemporalDataFrame obs\u001B[m\n",
      "12:07:55 :       INFO : \u001B[36m[write.py]   ↳ Saving Series index\u001B[m\n",
      "12:07:55 :       INFO : \u001B[36m[write.py]   ↳ Saving None value for time_col_name\u001B[m\n",
      "12:07:55 :       INFO : \u001B[36m[write.py]   ↳ Saving Series time_list\u001B[m\n",
      "12:07:56 :       INFO : \u001B[36m[write.py]   ↳ Saving array id_cell\u001B[m\n",
      "12:07:56 :       INFO : \u001B[36m[write.py]   ↳ Saving array cell_type\u001B[m\n",
      "12:07:56 :       INFO : \u001B[36m[write.py] Saving dict obsm\u001B[m\n",
      "12:07:56 :       INFO : \u001B[36m[write.py] Saving dict obsp\u001B[m\n",
      "12:07:56 :       INFO : \u001B[36m[write.py] Saving VDataFrame var\u001B[m\n",
      "12:07:56 :       INFO : \u001B[36m[write.py]   ↳ Saving Series index\u001B[m\n",
      "12:07:56 :       INFO : \u001B[36m[write.py]   ↳ Saving Series gene_ensembl_id\u001B[m\n",
      "12:07:56 :       INFO : \u001B[36m[write.py]   ↳ Saving Series gene_shortname\u001B[m\n",
      "12:07:56 :       INFO : \u001B[36m[write.py] Saving dict varm\u001B[m\n",
      "12:07:56 :       INFO : \u001B[36m[write.py] Saving dict varp\u001B[m\n",
      "12:07:56 :       INFO : \u001B[36m[write.py] Saving VDataFrame time_points\u001B[m\n",
      "12:07:56 :       INFO : \u001B[36m[write.py]   ↳ Saving Series index\u001B[m\n",
      "12:07:56 :       INFO : \u001B[36m[write.py]   ↳ Saving Series value\u001B[m\n",
      "12:07:56 :       INFO : \u001B[36m[write.py] Saving dict uns\u001B[m\n",
      "12:07:56 :       INFO : \u001B[36m[write.py]   ↳ Saving single value id_simprotocol\u001B[m\n",
      "12:07:56 :       INFO : \u001B[36m[write.py]   ↳ Saving single value id_grn\u001B[m\n",
      "12:07:56 :       INFO : \u001B[36m[write.py]   ↳ Saving single value date\u001B[m\n",
      "12:07:56 :       INFO : \u001B[36m[write.py]   ↳ Saving single value user\u001B[m\n"
     ]
    }
   ],
   "source": [
    "vdata.setLoggingLevel('INFO')\n",
    "\n",
    "dump_record_dir = project_path / dump_dir / 'generated_insilico_data'\n",
    "dump_filename = dump_record_dir / f'record_data_Network_{id_network}_200_cells_matteo_is_testing.h5'\n",
    "vsimu.write(dump_filename)\n",
    "vsimu.file.close()"
   ],
   "metadata": {
    "collapsed": false,
    "pycharm": {
     "name": "#%%\n"
    }
   }
  },
  {
   "cell_type": "code",
   "execution_count": 12,
   "outputs": [
    {
     "name": "stdout",
     "output_type": "stream",
     "text": [
      "12:08:55 :       INFO : \u001B[36m[read.py] Got key : 'layers'.\u001B[m\n",
      "12:08:55 :       INFO : \u001B[36m[read.py]   ↳ Reading dict /layers.\u001B[m\n",
      "12:08:55 :       INFO : \u001B[36m[read.py]     ↳ Reading chunked TemporalDataFrame /layers/Protein_C.\u001B[m\n",
      "12:08:55 :       INFO : \u001B[36m[read.py]       ↳ Reading Series /layers/Protein_C/columns.\u001B[m\n",
      "12:08:55 :       INFO : \u001B[36m[read.py]         ↳ Reading array /layers/Protein_C/columns.\u001B[m\n",
      "12:08:55 :       INFO : \u001B[36m[read.py]       ↳ Reading Series /layers/Protein_C/index.\u001B[m\n",
      "12:08:55 :       INFO : \u001B[36m[read.py]         ↳ Reading array /layers/Protein_C/index.\u001B[m\n",
      "12:08:55 :       INFO : \u001B[36m[read.py]       ↳ Reading None.\u001B[m\n",
      "12:08:55 :       INFO : \u001B[36m[read.py]     ↳ Reading chunked TemporalDataFrame /layers/mRNA.\u001B[m\n",
      "12:08:55 :       INFO : \u001B[36m[read.py]       ↳ Reading Series /layers/mRNA/columns.\u001B[m\n",
      "12:08:55 :       INFO : \u001B[36m[read.py]         ↳ Reading array /layers/mRNA/columns.\u001B[m\n",
      "12:08:55 :       INFO : \u001B[36m[read.py]       ↳ Reading Series /layers/mRNA/index.\u001B[m\n",
      "12:08:55 :       INFO : \u001B[36m[read.py]         ↳ Reading array /layers/mRNA/index.\u001B[m\n",
      "12:08:55 :       INFO : \u001B[36m[read.py]       ↳ Reading None.\u001B[m\n",
      "12:08:56 :       INFO : \u001B[36m[read.py] Got key : 'obs'.\u001B[m\n",
      "12:08:56 :       INFO : \u001B[36m[read.py]   ↳ Reading TemporalDataFrame /obs.\u001B[m\n",
      "12:08:56 :       INFO : \u001B[36m[read.py]     ↳ Reading Series /obs/index.\u001B[m\n",
      "12:08:56 :       INFO : \u001B[36m[read.py]       ↳ Reading array /obs/index.\u001B[m\n",
      "12:08:56 :       INFO : \u001B[36m[read.py]     ↳ Reading None.\u001B[m\n",
      "12:08:56 :       INFO : \u001B[36m[read.py]     ↳ Reading Series /obs/time_list.\u001B[m\n",
      "12:08:56 :       INFO : \u001B[36m[read.py]       ↳ Reading array /obs/time_list.\u001B[m\n",
      "12:08:56 :       INFO : \u001B[36m[read.py]     ↳ Reading array /obs/data/id_cell.\u001B[m\n",
      "12:08:56 :       INFO : \u001B[36m[read.py]     ↳ Reading array /obs/data/cell_type.\u001B[m\n",
      "12:08:56 :       INFO : \u001B[36m[read.py] Got key : 'obsm'.\u001B[m\n",
      "12:08:56 :       INFO : \u001B[36m[read.py]   ↳ Reading dict /obsm.\u001B[m\n",
      "12:08:56 :       INFO : \u001B[36m[read.py] Got key : 'obsp'.\u001B[m\n",
      "12:08:56 :       INFO : \u001B[36m[read.py]   ↳ Reading dict /obsp.\u001B[m\n",
      "12:08:56 :       INFO : \u001B[36m[read.py] Got key : 'time_points'.\u001B[m\n",
      "12:08:56 :       INFO : \u001B[36m[read.py]   ↳ Reading VDataFrame /time_points.\u001B[m\n",
      "12:08:56 :       INFO : \u001B[36m[read.py]     ↳ Reading Series /time_points/index.\u001B[m\n",
      "12:08:56 :       INFO : \u001B[36m[read.py]       ↳ Reading array /time_points/index.\u001B[m\n",
      "12:08:56 :       INFO : \u001B[36m[read.py]     ↳ Reading Series /time_points/data/value.\u001B[m\n",
      "12:08:56 :       INFO : \u001B[36m[read.py]       ↳ Reading array /time_points/data/value.\u001B[m\n",
      "12:08:56 :       INFO : \u001B[36m[read.py] Got key : 'uns'.\u001B[m\n",
      "12:08:56 :       INFO : \u001B[36m[read.py]   ↳ Reading dict /uns.\u001B[m\n",
      "12:08:56 :       INFO : \u001B[36m[read.py]     ↳ Reading value /uns/date.\u001B[m\n",
      "12:08:56 :       INFO : \u001B[36m[read.py]     ↳ Reading value /uns/id_grn.\u001B[m\n",
      "12:08:56 :       INFO : \u001B[36m[read.py]     ↳ Reading value /uns/id_simprotocol.\u001B[m\n",
      "12:08:56 :       INFO : \u001B[36m[read.py]     ↳ Reading value /uns/user.\u001B[m\n",
      "12:08:56 :       INFO : \u001B[36m[read.py] Got key : 'var'.\u001B[m\n",
      "12:08:56 :       INFO : \u001B[36m[read.py]   ↳ Reading VDataFrame /var.\u001B[m\n",
      "12:08:56 :       INFO : \u001B[36m[read.py]     ↳ Reading Series /var/index.\u001B[m\n",
      "12:08:56 :       INFO : \u001B[36m[read.py]       ↳ Reading array /var/index.\u001B[m\n",
      "12:08:56 :       INFO : \u001B[36m[read.py]     ↳ Reading Series /var/data/gene_ensembl_id.\u001B[m\n",
      "12:08:56 :       INFO : \u001B[36m[read.py]       ↳ Reading array /var/data/gene_ensembl_id.\u001B[m\n",
      "12:08:56 :       INFO : \u001B[36m[read.py]     ↳ Reading Series /var/data/gene_shortname.\u001B[m\n",
      "12:08:56 :       INFO : \u001B[36m[read.py]       ↳ Reading array /var/data/gene_shortname.\u001B[m\n",
      "12:08:56 :       INFO : \u001B[36m[read.py] Got key : 'varm'.\u001B[m\n",
      "12:08:56 :       INFO : \u001B[36m[read.py]   ↳ Reading dict /varm.\u001B[m\n",
      "12:08:56 :       INFO : \u001B[36m[read.py] Got key : 'varp'.\u001B[m\n",
      "12:08:56 :       INFO : \u001B[36m[read.py]   ↳ Reading dict /varp.\u001B[m\n"
     ]
    }
   ],
   "source": [
    "# load back in\n",
    "vsimu_back = vdata.read(dump_filename)"
   ],
   "metadata": {
    "collapsed": false,
    "pycharm": {
     "name": "#%%\n"
    }
   }
  },
  {
   "cell_type": "code",
   "execution_count": 13,
   "outputs": [
    {
     "data": {
      "text/plain": "    gene_ensembl_id gene_shortname\nA               NaN            NaN\nB               NaN            NaN\nC               NaN            NaN\nD               NaN            NaN\nE               NaN            NaN\nF               NaN            NaN\nG               NaN            NaN\nG1              NaN            NaN\nG10             NaN            NaN\nG2              NaN            NaN\nG3              NaN            NaN\nG4              NaN            NaN\nG5              NaN            NaN\nG6              NaN            NaN\nG7              NaN            NaN\nG8              NaN            NaN\nG9              NaN            NaN\nH               NaN            NaN\nH1              NaN            NaN\nH10             NaN            NaN\nH2              NaN            NaN\nH3              NaN            NaN\nH4              NaN            NaN\nH5              NaN            NaN\nH6              NaN            NaN\nH7              NaN            NaN\nH8              NaN            NaN\nH9              NaN            NaN\nI               NaN            NaN\nJ1              NaN            NaN\nJ2              NaN            NaN\nJ3              NaN            NaN\nJ4              NaN            NaN\nJ5              NaN            NaN\nJ6              NaN            NaN\nJ7              NaN            NaN\nK1              NaN            NaN\nK2              NaN            NaN\nK3              NaN            NaN\nM1              NaN            NaN\nM2              NaN            NaN\nN1              NaN            NaN\nN2              NaN            NaN\nO1              NaN            NaN\nO2              NaN            NaN\nX1              NaN            NaN\nX2              NaN            NaN\nY1              NaN            NaN\nY2              NaN            NaN\nZ1              NaN            NaN\nZ2              NaN            NaN",
      "text/html": "<div>\n<style scoped>\n    .dataframe tbody tr th:only-of-type {\n        vertical-align: middle;\n    }\n\n    .dataframe tbody tr th {\n        vertical-align: top;\n    }\n\n    .dataframe thead th {\n        text-align: right;\n    }\n</style>\n<table border=\"1\" class=\"dataframe\">\n  <thead>\n    <tr style=\"text-align: right;\">\n      <th></th>\n      <th>gene_ensembl_id</th>\n      <th>gene_shortname</th>\n    </tr>\n  </thead>\n  <tbody>\n    <tr>\n      <th>A</th>\n      <td>NaN</td>\n      <td>NaN</td>\n    </tr>\n    <tr>\n      <th>B</th>\n      <td>NaN</td>\n      <td>NaN</td>\n    </tr>\n    <tr>\n      <th>C</th>\n      <td>NaN</td>\n      <td>NaN</td>\n    </tr>\n    <tr>\n      <th>D</th>\n      <td>NaN</td>\n      <td>NaN</td>\n    </tr>\n    <tr>\n      <th>E</th>\n      <td>NaN</td>\n      <td>NaN</td>\n    </tr>\n    <tr>\n      <th>F</th>\n      <td>NaN</td>\n      <td>NaN</td>\n    </tr>\n    <tr>\n      <th>G</th>\n      <td>NaN</td>\n      <td>NaN</td>\n    </tr>\n    <tr>\n      <th>G1</th>\n      <td>NaN</td>\n      <td>NaN</td>\n    </tr>\n    <tr>\n      <th>G10</th>\n      <td>NaN</td>\n      <td>NaN</td>\n    </tr>\n    <tr>\n      <th>G2</th>\n      <td>NaN</td>\n      <td>NaN</td>\n    </tr>\n    <tr>\n      <th>G3</th>\n      <td>NaN</td>\n      <td>NaN</td>\n    </tr>\n    <tr>\n      <th>G4</th>\n      <td>NaN</td>\n      <td>NaN</td>\n    </tr>\n    <tr>\n      <th>G5</th>\n      <td>NaN</td>\n      <td>NaN</td>\n    </tr>\n    <tr>\n      <th>G6</th>\n      <td>NaN</td>\n      <td>NaN</td>\n    </tr>\n    <tr>\n      <th>G7</th>\n      <td>NaN</td>\n      <td>NaN</td>\n    </tr>\n    <tr>\n      <th>G8</th>\n      <td>NaN</td>\n      <td>NaN</td>\n    </tr>\n    <tr>\n      <th>G9</th>\n      <td>NaN</td>\n      <td>NaN</td>\n    </tr>\n    <tr>\n      <th>H</th>\n      <td>NaN</td>\n      <td>NaN</td>\n    </tr>\n    <tr>\n      <th>H1</th>\n      <td>NaN</td>\n      <td>NaN</td>\n    </tr>\n    <tr>\n      <th>H10</th>\n      <td>NaN</td>\n      <td>NaN</td>\n    </tr>\n    <tr>\n      <th>H2</th>\n      <td>NaN</td>\n      <td>NaN</td>\n    </tr>\n    <tr>\n      <th>H3</th>\n      <td>NaN</td>\n      <td>NaN</td>\n    </tr>\n    <tr>\n      <th>H4</th>\n      <td>NaN</td>\n      <td>NaN</td>\n    </tr>\n    <tr>\n      <th>H5</th>\n      <td>NaN</td>\n      <td>NaN</td>\n    </tr>\n    <tr>\n      <th>H6</th>\n      <td>NaN</td>\n      <td>NaN</td>\n    </tr>\n    <tr>\n      <th>H7</th>\n      <td>NaN</td>\n      <td>NaN</td>\n    </tr>\n    <tr>\n      <th>H8</th>\n      <td>NaN</td>\n      <td>NaN</td>\n    </tr>\n    <tr>\n      <th>H9</th>\n      <td>NaN</td>\n      <td>NaN</td>\n    </tr>\n    <tr>\n      <th>I</th>\n      <td>NaN</td>\n      <td>NaN</td>\n    </tr>\n    <tr>\n      <th>J1</th>\n      <td>NaN</td>\n      <td>NaN</td>\n    </tr>\n    <tr>\n      <th>J2</th>\n      <td>NaN</td>\n      <td>NaN</td>\n    </tr>\n    <tr>\n      <th>J3</th>\n      <td>NaN</td>\n      <td>NaN</td>\n    </tr>\n    <tr>\n      <th>J4</th>\n      <td>NaN</td>\n      <td>NaN</td>\n    </tr>\n    <tr>\n      <th>J5</th>\n      <td>NaN</td>\n      <td>NaN</td>\n    </tr>\n    <tr>\n      <th>J6</th>\n      <td>NaN</td>\n      <td>NaN</td>\n    </tr>\n    <tr>\n      <th>J7</th>\n      <td>NaN</td>\n      <td>NaN</td>\n    </tr>\n    <tr>\n      <th>K1</th>\n      <td>NaN</td>\n      <td>NaN</td>\n    </tr>\n    <tr>\n      <th>K2</th>\n      <td>NaN</td>\n      <td>NaN</td>\n    </tr>\n    <tr>\n      <th>K3</th>\n      <td>NaN</td>\n      <td>NaN</td>\n    </tr>\n    <tr>\n      <th>M1</th>\n      <td>NaN</td>\n      <td>NaN</td>\n    </tr>\n    <tr>\n      <th>M2</th>\n      <td>NaN</td>\n      <td>NaN</td>\n    </tr>\n    <tr>\n      <th>N1</th>\n      <td>NaN</td>\n      <td>NaN</td>\n    </tr>\n    <tr>\n      <th>N2</th>\n      <td>NaN</td>\n      <td>NaN</td>\n    </tr>\n    <tr>\n      <th>O1</th>\n      <td>NaN</td>\n      <td>NaN</td>\n    </tr>\n    <tr>\n      <th>O2</th>\n      <td>NaN</td>\n      <td>NaN</td>\n    </tr>\n    <tr>\n      <th>X1</th>\n      <td>NaN</td>\n      <td>NaN</td>\n    </tr>\n    <tr>\n      <th>X2</th>\n      <td>NaN</td>\n      <td>NaN</td>\n    </tr>\n    <tr>\n      <th>Y1</th>\n      <td>NaN</td>\n      <td>NaN</td>\n    </tr>\n    <tr>\n      <th>Y2</th>\n      <td>NaN</td>\n      <td>NaN</td>\n    </tr>\n    <tr>\n      <th>Z1</th>\n      <td>NaN</td>\n      <td>NaN</td>\n    </tr>\n    <tr>\n      <th>Z2</th>\n      <td>NaN</td>\n      <td>NaN</td>\n    </tr>\n  </tbody>\n</table>\n</div>"
     },
     "execution_count": 13,
     "metadata": {},
     "output_type": "execute_result"
    }
   ],
   "source": [
    "vsimu_back.var"
   ],
   "metadata": {
    "collapsed": false,
    "pycharm": {
     "name": "#%%\n"
    }
   }
  },
  {
   "cell_type": "code",
   "execution_count": 14,
   "outputs": [],
   "source": [
    "vsimu_back.file.close()"
   ],
   "metadata": {
    "collapsed": false,
    "pycharm": {
     "name": "#%%\n"
    }
   }
  }
 ],
 "metadata": {
  "kernelspec": {
   "display_name": "Python 3",
   "language": "python",
   "name": "python3"
  },
  "language_info": {
   "codemirror_mode": {
    "name": "ipython",
    "version": 2
   },
   "file_extension": ".py",
   "mimetype": "text/x-python",
   "name": "python",
   "nbconvert_exporter": "python",
   "pygments_lexer": "ipython2",
   "version": "2.7.6"
  }
 },
 "nbformat": 4,
 "nbformat_minor": 0
}